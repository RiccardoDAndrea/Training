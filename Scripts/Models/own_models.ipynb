{
 "cells": [
  {
   "cell_type": "code",
   "execution_count": 1,
   "metadata": {},
   "outputs": [],
   "source": [
    "import keras\n",
    "import pandas as pd\n",
    "from keras.models import Sequential\n",
    "from keras.layers import LSTM, Dense, Dropout, InputLayer\n",
    "from keras.optimizers import Adam\n",
    "import numpy as np\n",
    "import tensorflow as tf\n",
    "import matplotlib.pyplot as plt"
   ]
  },
  {
   "cell_type": "code",
   "execution_count": 2,
   "metadata": {},
   "outputs": [
    {
     "data": {
      "text/html": [
       "<div>\n",
       "<style scoped>\n",
       "    .dataframe tbody tr th:only-of-type {\n",
       "        vertical-align: middle;\n",
       "    }\n",
       "\n",
       "    .dataframe tbody tr th {\n",
       "        vertical-align: top;\n",
       "    }\n",
       "\n",
       "    .dataframe thead th {\n",
       "        text-align: right;\n",
       "    }\n",
       "</style>\n",
       "<table border=\"1\" class=\"dataframe\">\n",
       "  <thead>\n",
       "    <tr style=\"text-align: right;\">\n",
       "      <th></th>\n",
       "      <th>wage</th>\n",
       "      <th>educ</th>\n",
       "      <th>exper</th>\n",
       "      <th>metro</th>\n",
       "    </tr>\n",
       "  </thead>\n",
       "  <tbody>\n",
       "    <tr>\n",
       "      <th>0</th>\n",
       "      <td>2.07</td>\n",
       "      <td>12</td>\n",
       "      <td>7</td>\n",
       "      <td>1</td>\n",
       "    </tr>\n",
       "    <tr>\n",
       "      <th>1</th>\n",
       "      <td>2.12</td>\n",
       "      <td>12</td>\n",
       "      <td>35</td>\n",
       "      <td>1</td>\n",
       "    </tr>\n",
       "    <tr>\n",
       "      <th>2</th>\n",
       "      <td>2.54</td>\n",
       "      <td>16</td>\n",
       "      <td>20</td>\n",
       "      <td>1</td>\n",
       "    </tr>\n",
       "    <tr>\n",
       "      <th>3</th>\n",
       "      <td>2.68</td>\n",
       "      <td>12</td>\n",
       "      <td>24</td>\n",
       "      <td>1</td>\n",
       "    </tr>\n",
       "    <tr>\n",
       "      <th>4</th>\n",
       "      <td>3.09</td>\n",
       "      <td>13</td>\n",
       "      <td>4</td>\n",
       "      <td>1</td>\n",
       "    </tr>\n",
       "    <tr>\n",
       "      <th>...</th>\n",
       "      <td>...</td>\n",
       "      <td>...</td>\n",
       "      <td>...</td>\n",
       "      <td>...</td>\n",
       "    </tr>\n",
       "    <tr>\n",
       "      <th>993</th>\n",
       "      <td>35.42</td>\n",
       "      <td>18</td>\n",
       "      <td>23</td>\n",
       "      <td>1</td>\n",
       "    </tr>\n",
       "    <tr>\n",
       "      <th>994</th>\n",
       "      <td>36.84</td>\n",
       "      <td>16</td>\n",
       "      <td>7</td>\n",
       "      <td>1</td>\n",
       "    </tr>\n",
       "    <tr>\n",
       "      <th>995</th>\n",
       "      <td>41.32</td>\n",
       "      <td>16</td>\n",
       "      <td>11</td>\n",
       "      <td>1</td>\n",
       "    </tr>\n",
       "    <tr>\n",
       "      <th>996</th>\n",
       "      <td>47.22</td>\n",
       "      <td>18</td>\n",
       "      <td>35</td>\n",
       "      <td>1</td>\n",
       "    </tr>\n",
       "    <tr>\n",
       "      <th>997</th>\n",
       "      <td>60.19</td>\n",
       "      <td>16</td>\n",
       "      <td>33</td>\n",
       "      <td>1</td>\n",
       "    </tr>\n",
       "  </tbody>\n",
       "</table>\n",
       "<p>998 rows × 4 columns</p>\n",
       "</div>"
      ],
      "text/plain": [
       "      wage  educ  exper  metro\n",
       "0     2.07    12      7      1\n",
       "1     2.12    12     35      1\n",
       "2     2.54    16     20      1\n",
       "3     2.68    12     24      1\n",
       "4     3.09    13      4      1\n",
       "..     ...   ...    ...    ...\n",
       "993  35.42    18     23      1\n",
       "994  36.84    16      7      1\n",
       "995  41.32    16     11      1\n",
       "996  47.22    18     35      1\n",
       "997  60.19    16     33      1\n",
       "\n",
       "[998 rows x 4 columns]"
      ]
     },
     "execution_count": 2,
     "metadata": {},
     "output_type": "execute_result"
    }
   ],
   "source": [
    "df = pd.read_csv('/Users/riccardo/Desktop/Repositorys_Github/Training/Dataset/wage.csv', sep=\";\", index_col=False).round(2)\n",
    "df "
   ]
  },
  {
   "cell_type": "code",
   "execution_count": 3,
   "metadata": {},
   "outputs": [
    {
     "data": {
      "text/html": [
       "<div>\n",
       "<style scoped>\n",
       "    .dataframe tbody tr th:only-of-type {\n",
       "        vertical-align: middle;\n",
       "    }\n",
       "\n",
       "    .dataframe tbody tr th {\n",
       "        vertical-align: top;\n",
       "    }\n",
       "\n",
       "    .dataframe thead th {\n",
       "        text-align: right;\n",
       "    }\n",
       "</style>\n",
       "<table border=\"1\" class=\"dataframe\">\n",
       "  <thead>\n",
       "    <tr style=\"text-align: right;\">\n",
       "      <th></th>\n",
       "      <th>wage</th>\n",
       "    </tr>\n",
       "  </thead>\n",
       "  <tbody>\n",
       "    <tr>\n",
       "      <th>0</th>\n",
       "      <td>2.07</td>\n",
       "    </tr>\n",
       "    <tr>\n",
       "      <th>1</th>\n",
       "      <td>2.12</td>\n",
       "    </tr>\n",
       "    <tr>\n",
       "      <th>2</th>\n",
       "      <td>2.54</td>\n",
       "    </tr>\n",
       "    <tr>\n",
       "      <th>3</th>\n",
       "      <td>2.68</td>\n",
       "    </tr>\n",
       "    <tr>\n",
       "      <th>4</th>\n",
       "      <td>3.09</td>\n",
       "    </tr>\n",
       "  </tbody>\n",
       "</table>\n",
       "</div>"
      ],
      "text/plain": [
       "   wage\n",
       "0  2.07\n",
       "1  2.12\n",
       "2  2.54\n",
       "3  2.68\n",
       "4  3.09"
      ]
     },
     "execution_count": 3,
     "metadata": {},
     "output_type": "execute_result"
    }
   ],
   "source": [
    "X = df[['educ', 'exper']]\n",
    "y = df[['wage']]\n",
    "X.head()\n",
    "y.head()"
   ]
  },
  {
   "cell_type": "code",
   "execution_count": 4,
   "metadata": {},
   "outputs": [],
   "source": [
    "def train_test_valid_split(df, train_size, test_size, valid_size_min, valid_size_max):\n",
    "    \"\"\"Function to split the data into train, test, and validation sets.\n",
    "\n",
    "    Input:\n",
    "    - df: Pandas DataFrame containing the data.\n",
    "    - train_size: Number of rows to be used as training data.\n",
    "    - test_size: Number of rows to be used as test data.\n",
    "    - valid_size_min: Minimum number of rows to be used as validation data.\n",
    "    - valid_size_max: Maximum number of rows to be used as validation data.\n",
    "\n",
    "    Output:\n",
    "    - A split of the data into train, test, and validation sets.\n",
    "    \"\"\"\n",
    "    X_train, y_train = X.iloc[:train_size], y.iloc[:train_size, -1]\n",
    "    X_valid, y_valid = X.iloc[valid_size_min:valid_size_max], y.iloc[valid_size_min:valid_size_max, -1]\n",
    "    X_test, y_test = X.iloc[test_size:], y.iloc[test_size:, -1]\n",
    "    \n",
    "    return X_train, y_train, X_valid, y_valid, X_test, y_test\n",
    "\n",
    "# Example usage\n",
    "X_train, y_train, X_valid, y_valid, X_test, y_test = train_test_valid_split(df, train_size=700, test_size=900, valid_size_min=700, valid_size_max=900)\n",
    "\n",
    "\n",
    "# X_train, y_train = X.iloc[:700], y.iloc[:700, -1]\n",
    "# X_valid, y_valid = X.iloc[700:900], y.iloc[700:900, -1]\n",
    "# X_test, y_test = X.iloc[900:], y.iloc[900:, -1]\n"
   ]
  },
  {
   "cell_type": "code",
   "execution_count": 5,
   "metadata": {},
   "outputs": [
    {
     "name": "stdout",
     "output_type": "stream",
     "text": [
      "Der X Test Datensatz besthet aus:  (700, 2) Der Y Test Datensatz besthet aus:  (700,)\n",
      "Der X_test Datensatz besthet aus:  (98, 2) Der y_test Datensatz besteht  aus:  (98,)\n",
      "X_train  <class 'pandas.core.frame.DataFrame'> y_train type: <class 'pandas.core.series.Series'> X_test type: <class 'pandas.core.frame.DataFrame'> X_test type: <class 'pandas.core.series.Series'> X_val <class 'pandas.core.frame.DataFrame'> y_val <class 'pandas.core.series.Series'>\n"
     ]
    }
   ],
   "source": [
    "print(\"Der X Test Datensatz besthet aus: \", X_train.shape, \"Der Y Test Datensatz besthet aus: \", y_train.shape)\n",
    "print(\"Der X_test Datensatz besthet aus: \", X_test.shape,\"Der y_test Datensatz besteht  aus: \", y_test.shape)\n",
    "print(\"X_train \", type(X_train), \"y_train type:\", type(y_train), \n",
    "      \"X_test type:\",type(X_test), \"X_test type:\",type(y_test), \n",
    "      \"X_val\", type(X_valid), \"y_val\", type(y_valid))"
   ]
  },
  {
   "cell_type": "code",
   "execution_count": 6,
   "metadata": {},
   "outputs": [
    {
     "data": {
      "text/plain": [
       "158.0"
      ]
     },
     "execution_count": 6,
     "metadata": {},
     "output_type": "execute_result"
    }
   ],
   "source": [
    "y_pred = X_valid.iloc[:, -1].values\n",
    "np.mean(keras.losses.mean_squared_error(y_valid, y_pred))"
   ]
  },
  {
   "cell_type": "markdown",
   "metadata": {},
   "source": [
    "# Model 1 "
   ]
  },
  {
   "cell_type": "code",
   "execution_count": 7,
   "metadata": {},
   "outputs": [
    {
     "name": "stdout",
     "output_type": "stream",
     "text": [
      "Model: \"sequential\"\n",
      "_________________________________________________________________\n",
      " Layer (type)                Output Shape              Param #   \n",
      "=================================================================\n",
      " layer1 (Dense)              (None, 5)                 15        \n",
      "                                                                 \n",
      " batch_normalization (BatchN  (None, 5)                20        \n",
      " ormalization)                                                   \n",
      "                                                                 \n",
      " layer2 (Dense)              (None, 5)                 30        \n",
      "                                                                 \n",
      " Output (Dense)              (None, 1)                 6         \n",
      "                                                                 \n",
      "=================================================================\n",
      "Total params: 71\n",
      "Trainable params: 61\n",
      "Non-trainable params: 10\n",
      "_________________________________________________________________\n"
     ]
    }
   ],
   "source": [
    "from keras.layers import BatchNormalization\n",
    "model = Sequential([\n",
    "    InputLayer(input_shape=X_train.shape[-1], name=\"Input\"),\n",
    "    Dense(5, activation=\"relu\", name=\"layer1\"),\n",
    "    BatchNormalization(),\n",
    "    Dense(5, name=\"layer2\"),\n",
    "    Dense(1, name=\"Output\"),\n",
    "])\n",
    "\n",
    "optimizer = Adam(learning_rate=0.005)  # Default learning rate\n",
    "model.compile(loss='mean_squared_error', optimizer=optimizer)  # Using MSE for loss and MAE for metrics\n",
    "model.summary()\n"
   ]
  },
  {
   "cell_type": "code",
   "execution_count": 8,
   "metadata": {},
   "outputs": [
    {
     "name": "stdout",
     "output_type": "stream",
     "text": [
      "Epoch 1/250\n"
     ]
    },
    {
     "name": "stderr",
     "output_type": "stream",
     "text": [
      "2024-03-05 11:07:04.017304: W tensorflow/tsl/platform/profile_utils/cpu_utils.cc:128] Failed to get CPU frequency: 0 Hz\n"
     ]
    },
    {
     "name": "stdout",
     "output_type": "stream",
     "text": [
      "22/22 [==============================] - 0s 5ms/step - loss: 52.3711 - val_loss: 76.5767\n",
      "Epoch 2/250\n",
      "22/22 [==============================] - 0s 1ms/step - loss: 39.1420 - val_loss: 62.5548\n",
      "Epoch 3/250\n",
      "22/22 [==============================] - 0s 1ms/step - loss: 19.4281 - val_loss: 24.8714\n",
      "Epoch 4/250\n",
      "22/22 [==============================] - 0s 1ms/step - loss: 7.0483 - val_loss: 5.8362\n",
      "Epoch 5/250\n",
      "22/22 [==============================] - 0s 1ms/step - loss: 6.0564 - val_loss: 8.9517\n",
      "Epoch 6/250\n",
      "22/22 [==============================] - 0s 2ms/step - loss: 5.7770 - val_loss: 14.9271\n",
      "Epoch 7/250\n",
      "22/22 [==============================] - 0s 1ms/step - loss: 5.7166 - val_loss: 22.9013\n",
      "Epoch 8/250\n",
      "22/22 [==============================] - 0s 2ms/step - loss: 5.7809 - val_loss: 25.7081\n",
      "Epoch 9/250\n",
      "22/22 [==============================] - 0s 1ms/step - loss: 5.8007 - val_loss: 31.6221\n",
      "Epoch 10/250\n",
      "22/22 [==============================] - 0s 1ms/step - loss: 5.7748 - val_loss: 34.2347\n",
      "Epoch 11/250\n",
      "22/22 [==============================] - 0s 1ms/step - loss: 5.7510 - val_loss: 37.1865\n",
      "Epoch 12/250\n",
      "22/22 [==============================] - 0s 1ms/step - loss: 5.7395 - val_loss: 40.8358\n",
      "Epoch 13/250\n",
      "22/22 [==============================] - 0s 1ms/step - loss: 5.7716 - val_loss: 41.5258\n",
      "Epoch 14/250\n",
      "22/22 [==============================] - 0s 1ms/step - loss: 5.7008 - val_loss: 41.4517\n",
      "Epoch 15/250\n",
      "22/22 [==============================] - 0s 1ms/step - loss: 5.8306 - val_loss: 43.3539\n",
      "Epoch 16/250\n",
      "22/22 [==============================] - 0s 1ms/step - loss: 5.6880 - val_loss: 42.7521\n",
      "Epoch 17/250\n",
      "22/22 [==============================] - 0s 1ms/step - loss: 5.7298 - val_loss: 44.0908\n",
      "Epoch 18/250\n",
      "22/22 [==============================] - 0s 1ms/step - loss: 5.7592 - val_loss: 45.8245\n",
      "Epoch 19/250\n",
      "22/22 [==============================] - 0s 1ms/step - loss: 5.7357 - val_loss: 46.5559\n",
      "Epoch 20/250\n",
      "22/22 [==============================] - 0s 1ms/step - loss: 5.6821 - val_loss: 47.8966\n",
      "Epoch 21/250\n",
      "22/22 [==============================] - 0s 1ms/step - loss: 5.6970 - val_loss: 47.0497\n",
      "Epoch 22/250\n",
      "22/22 [==============================] - 0s 1ms/step - loss: 5.7578 - val_loss: 47.8369\n",
      "Epoch 23/250\n",
      "22/22 [==============================] - 0s 1ms/step - loss: 5.6871 - val_loss: 47.6553\n",
      "Epoch 24/250\n",
      "22/22 [==============================] - 0s 1ms/step - loss: 5.6953 - val_loss: 48.2853\n",
      "Epoch 25/250\n",
      "22/22 [==============================] - 0s 1ms/step - loss: 5.6623 - val_loss: 47.7057\n",
      "Epoch 26/250\n",
      "22/22 [==============================] - 0s 1ms/step - loss: 5.7057 - val_loss: 49.9536\n",
      "Epoch 27/250\n",
      "22/22 [==============================] - 0s 1ms/step - loss: 5.7623 - val_loss: 48.0236\n",
      "Epoch 28/250\n",
      "22/22 [==============================] - 0s 1ms/step - loss: 5.7376 - val_loss: 49.0329\n",
      "Epoch 29/250\n",
      "22/22 [==============================] - 0s 1ms/step - loss: 5.8022 - val_loss: 46.4741\n",
      "Epoch 30/250\n",
      "22/22 [==============================] - 0s 1ms/step - loss: 5.7354 - val_loss: 50.5637\n",
      "Epoch 31/250\n",
      "22/22 [==============================] - 0s 1ms/step - loss: 5.7374 - val_loss: 49.6455\n",
      "Epoch 32/250\n",
      "22/22 [==============================] - 0s 1ms/step - loss: 5.7646 - val_loss: 47.7129\n",
      "Epoch 33/250\n",
      "22/22 [==============================] - 0s 1ms/step - loss: 5.7308 - val_loss: 49.8258\n",
      "Epoch 34/250\n",
      "22/22 [==============================] - 0s 1ms/step - loss: 5.6126 - val_loss: 47.7403\n",
      "Epoch 35/250\n",
      "22/22 [==============================] - 0s 1ms/step - loss: 5.8109 - val_loss: 47.5034\n",
      "Epoch 36/250\n",
      "22/22 [==============================] - 0s 1ms/step - loss: 5.7920 - val_loss: 49.9880\n",
      "Epoch 37/250\n",
      "22/22 [==============================] - 0s 1ms/step - loss: 5.7057 - val_loss: 46.6445\n",
      "Epoch 38/250\n",
      "22/22 [==============================] - 0s 1ms/step - loss: 5.7266 - val_loss: 50.9989\n",
      "Epoch 39/250\n",
      "22/22 [==============================] - 0s 1ms/step - loss: 5.7022 - val_loss: 45.8429\n",
      "Epoch 40/250\n",
      "22/22 [==============================] - 0s 1ms/step - loss: 5.7699 - val_loss: 46.1579\n",
      "Epoch 41/250\n",
      "22/22 [==============================] - 0s 1ms/step - loss: 5.6679 - val_loss: 49.8920\n",
      "Epoch 42/250\n",
      "22/22 [==============================] - 0s 1ms/step - loss: 5.6998 - val_loss: 48.9393\n",
      "Epoch 43/250\n",
      "22/22 [==============================] - 0s 1ms/step - loss: 5.7170 - val_loss: 46.8240\n",
      "Epoch 44/250\n",
      "22/22 [==============================] - 0s 1ms/step - loss: 5.6953 - val_loss: 48.5873\n",
      "Epoch 45/250\n",
      "22/22 [==============================] - 0s 1ms/step - loss: 5.7123 - val_loss: 45.2478\n",
      "Epoch 46/250\n",
      "22/22 [==============================] - 0s 1ms/step - loss: 5.7421 - val_loss: 47.4244\n",
      "Epoch 47/250\n",
      "22/22 [==============================] - 0s 1ms/step - loss: 5.7122 - val_loss: 47.5525\n",
      "Epoch 48/250\n",
      "22/22 [==============================] - 0s 1ms/step - loss: 5.7777 - val_loss: 46.2806\n",
      "Epoch 49/250\n",
      "22/22 [==============================] - 0s 1ms/step - loss: 5.7704 - val_loss: 48.9672\n",
      "Epoch 50/250\n",
      "22/22 [==============================] - 0s 1ms/step - loss: 5.7429 - val_loss: 45.3945\n",
      "Epoch 51/250\n",
      "22/22 [==============================] - 0s 1ms/step - loss: 5.7020 - val_loss: 48.1853\n",
      "Epoch 52/250\n",
      "22/22 [==============================] - 0s 1ms/step - loss: 5.7027 - val_loss: 46.1884\n",
      "Epoch 53/250\n",
      "22/22 [==============================] - 0s 1ms/step - loss: 5.7066 - val_loss: 46.8227\n",
      "Epoch 54/250\n",
      "22/22 [==============================] - 0s 1ms/step - loss: 5.7616 - val_loss: 47.6084\n",
      "Epoch 55/250\n",
      "22/22 [==============================] - 0s 1ms/step - loss: 5.7494 - val_loss: 47.2241\n",
      "Epoch 56/250\n",
      "22/22 [==============================] - 0s 1ms/step - loss: 5.6435 - val_loss: 47.2849\n",
      "Epoch 57/250\n",
      "22/22 [==============================] - 0s 1ms/step - loss: 5.7529 - val_loss: 49.1311\n",
      "Epoch 58/250\n",
      "22/22 [==============================] - 0s 1ms/step - loss: 5.7538 - val_loss: 49.8114\n",
      "Epoch 59/250\n",
      "22/22 [==============================] - 0s 1ms/step - loss: 5.8047 - val_loss: 49.3875\n",
      "Epoch 60/250\n",
      "22/22 [==============================] - 0s 1ms/step - loss: 5.7147 - val_loss: 49.0843\n",
      "Epoch 61/250\n",
      "22/22 [==============================] - 0s 1ms/step - loss: 5.6591 - val_loss: 47.8858\n",
      "Epoch 62/250\n",
      "22/22 [==============================] - 0s 1ms/step - loss: 5.7387 - val_loss: 47.1619\n",
      "Epoch 63/250\n",
      "22/22 [==============================] - 0s 1ms/step - loss: 5.7503 - val_loss: 50.2306\n",
      "Epoch 64/250\n",
      "22/22 [==============================] - 0s 1ms/step - loss: 5.7592 - val_loss: 47.7124\n",
      "Epoch 65/250\n",
      "22/22 [==============================] - 0s 1ms/step - loss: 5.7112 - val_loss: 49.8277\n",
      "Epoch 66/250\n",
      "22/22 [==============================] - 0s 1ms/step - loss: 5.7220 - val_loss: 47.7832\n",
      "Epoch 67/250\n",
      "22/22 [==============================] - 0s 1ms/step - loss: 5.6569 - val_loss: 48.8429\n",
      "Epoch 68/250\n",
      "22/22 [==============================] - 0s 1ms/step - loss: 5.7667 - val_loss: 46.6753\n",
      "Epoch 69/250\n",
      "22/22 [==============================] - 0s 1ms/step - loss: 5.7062 - val_loss: 48.7782\n",
      "Epoch 70/250\n",
      "22/22 [==============================] - 0s 1ms/step - loss: 5.7112 - val_loss: 45.2647\n",
      "Epoch 71/250\n",
      "22/22 [==============================] - 0s 1ms/step - loss: 5.7935 - val_loss: 47.2768\n",
      "Epoch 72/250\n",
      "22/22 [==============================] - 0s 3ms/step - loss: 5.6899 - val_loss: 47.6372\n",
      "Epoch 73/250\n",
      "22/22 [==============================] - 0s 2ms/step - loss: 5.7050 - val_loss: 45.4381\n",
      "Epoch 74/250\n",
      "22/22 [==============================] - 0s 2ms/step - loss: 5.7314 - val_loss: 49.0866\n",
      "Epoch 75/250\n",
      "22/22 [==============================] - 0s 1ms/step - loss: 5.7585 - val_loss: 51.7293\n",
      "Epoch 76/250\n",
      "22/22 [==============================] - 0s 1ms/step - loss: 5.7695 - val_loss: 48.8165\n",
      "Epoch 77/250\n",
      "22/22 [==============================] - 0s 1ms/step - loss: 5.6606 - val_loss: 49.0804\n",
      "Epoch 78/250\n",
      "22/22 [==============================] - 0s 1ms/step - loss: 5.7122 - val_loss: 50.1628\n",
      "Epoch 79/250\n",
      "22/22 [==============================] - 0s 1ms/step - loss: 5.6940 - val_loss: 45.7258\n",
      "Epoch 80/250\n",
      "22/22 [==============================] - 0s 1ms/step - loss: 5.7214 - val_loss: 51.6332\n",
      "Epoch 81/250\n",
      "22/22 [==============================] - 0s 1ms/step - loss: 5.7028 - val_loss: 46.6321\n",
      "Epoch 82/250\n",
      "22/22 [==============================] - 0s 1ms/step - loss: 5.7667 - val_loss: 46.9842\n",
      "Epoch 83/250\n",
      "22/22 [==============================] - 0s 1ms/step - loss: 5.6936 - val_loss: 46.7856\n",
      "Epoch 84/250\n",
      "22/22 [==============================] - 0s 1ms/step - loss: 5.7353 - val_loss: 50.2264\n",
      "Epoch 85/250\n",
      "22/22 [==============================] - 0s 1ms/step - loss: 5.6840 - val_loss: 45.8235\n",
      "Epoch 86/250\n",
      "22/22 [==============================] - 0s 1ms/step - loss: 5.7185 - val_loss: 49.3544\n",
      "Epoch 87/250\n",
      "22/22 [==============================] - 0s 1ms/step - loss: 5.7808 - val_loss: 42.8342\n",
      "Epoch 88/250\n",
      "22/22 [==============================] - 0s 1ms/step - loss: 5.7373 - val_loss: 47.6990\n",
      "Epoch 89/250\n",
      "22/22 [==============================] - 0s 1ms/step - loss: 5.7214 - val_loss: 46.0303\n",
      "Epoch 90/250\n",
      "22/22 [==============================] - 0s 1ms/step - loss: 5.7351 - val_loss: 45.1521\n",
      "Epoch 91/250\n",
      "22/22 [==============================] - 0s 1ms/step - loss: 5.7099 - val_loss: 47.7158\n",
      "Epoch 92/250\n",
      "22/22 [==============================] - 0s 1ms/step - loss: 5.6925 - val_loss: 47.1820\n",
      "Epoch 93/250\n",
      "22/22 [==============================] - 0s 1ms/step - loss: 5.7677 - val_loss: 47.0626\n",
      "Epoch 94/250\n",
      "22/22 [==============================] - 0s 1ms/step - loss: 5.7432 - val_loss: 45.5049\n",
      "Epoch 95/250\n",
      "22/22 [==============================] - 0s 1ms/step - loss: 5.6829 - val_loss: 44.5528\n",
      "Epoch 96/250\n",
      "22/22 [==============================] - 0s 1ms/step - loss: 5.6653 - val_loss: 46.1458\n",
      "Epoch 97/250\n",
      "22/22 [==============================] - 0s 1ms/step - loss: 5.7129 - val_loss: 49.6690\n",
      "Epoch 98/250\n",
      "22/22 [==============================] - 0s 1ms/step - loss: 5.7672 - val_loss: 41.0571\n",
      "Epoch 99/250\n",
      "22/22 [==============================] - 0s 1ms/step - loss: 5.7173 - val_loss: 51.9224\n",
      "Epoch 100/250\n",
      "22/22 [==============================] - 0s 1ms/step - loss: 5.7663 - val_loss: 45.6349\n",
      "Epoch 101/250\n",
      "22/22 [==============================] - 0s 1ms/step - loss: 5.7007 - val_loss: 43.3727\n",
      "Epoch 102/250\n",
      "22/22 [==============================] - 0s 1ms/step - loss: 5.7655 - val_loss: 50.3635\n",
      "Epoch 103/250\n",
      "22/22 [==============================] - 0s 1ms/step - loss: 5.7459 - val_loss: 47.5270\n",
      "Epoch 104/250\n",
      "22/22 [==============================] - 0s 1ms/step - loss: 5.6829 - val_loss: 44.5730\n",
      "Epoch 105/250\n",
      "22/22 [==============================] - 0s 1ms/step - loss: 5.7236 - val_loss: 48.0013\n",
      "Epoch 106/250\n",
      "22/22 [==============================] - 0s 1ms/step - loss: 5.7551 - val_loss: 46.3878\n",
      "Epoch 107/250\n",
      "22/22 [==============================] - 0s 1ms/step - loss: 5.7186 - val_loss: 45.5530\n",
      "Epoch 108/250\n",
      "22/22 [==============================] - 0s 1ms/step - loss: 5.7046 - val_loss: 49.0774\n",
      "Epoch 109/250\n",
      "22/22 [==============================] - 0s 1ms/step - loss: 5.6492 - val_loss: 44.7243\n",
      "Epoch 110/250\n",
      "22/22 [==============================] - 0s 1ms/step - loss: 5.6700 - val_loss: 49.0491\n",
      "Epoch 111/250\n",
      "22/22 [==============================] - 0s 1ms/step - loss: 5.7902 - val_loss: 46.7105\n",
      "Epoch 112/250\n",
      "22/22 [==============================] - 0s 1ms/step - loss: 5.7480 - val_loss: 47.0137\n",
      "Epoch 113/250\n",
      "22/22 [==============================] - 0s 1ms/step - loss: 5.7098 - val_loss: 46.4841\n",
      "Epoch 114/250\n",
      "22/22 [==============================] - 0s 1ms/step - loss: 5.5704 - val_loss: 47.7285\n",
      "Epoch 115/250\n",
      "22/22 [==============================] - 0s 1ms/step - loss: 5.7163 - val_loss: 48.2535\n",
      "Epoch 116/250\n",
      "22/22 [==============================] - 0s 1ms/step - loss: 5.8035 - val_loss: 47.6155\n",
      "Epoch 117/250\n",
      "22/22 [==============================] - 0s 1ms/step - loss: 5.6480 - val_loss: 46.4342\n",
      "Epoch 118/250\n",
      "22/22 [==============================] - 0s 1ms/step - loss: 5.6126 - val_loss: 44.9655\n",
      "Epoch 119/250\n",
      "22/22 [==============================] - 0s 1ms/step - loss: 5.7190 - val_loss: 46.8959\n",
      "Epoch 120/250\n",
      "22/22 [==============================] - 0s 1ms/step - loss: 5.6549 - val_loss: 49.2190\n",
      "Epoch 121/250\n",
      "22/22 [==============================] - 0s 1ms/step - loss: 5.7075 - val_loss: 48.1496\n",
      "Epoch 122/250\n",
      "22/22 [==============================] - 0s 1ms/step - loss: 5.7285 - val_loss: 48.7434\n",
      "Epoch 123/250\n",
      "22/22 [==============================] - 0s 1ms/step - loss: 5.7940 - val_loss: 45.3415\n",
      "Epoch 124/250\n",
      "22/22 [==============================] - 0s 1ms/step - loss: 5.6766 - val_loss: 49.0637\n",
      "Epoch 125/250\n",
      "22/22 [==============================] - 0s 1ms/step - loss: 5.6783 - val_loss: 45.7728\n",
      "Epoch 126/250\n",
      "22/22 [==============================] - 0s 1ms/step - loss: 5.6290 - val_loss: 47.9458\n",
      "Epoch 127/250\n",
      "22/22 [==============================] - 0s 1ms/step - loss: 5.6739 - val_loss: 49.2803\n",
      "Epoch 128/250\n",
      "22/22 [==============================] - 0s 1ms/step - loss: 5.7466 - val_loss: 47.5802\n",
      "Epoch 129/250\n",
      "22/22 [==============================] - 0s 1ms/step - loss: 5.6836 - val_loss: 48.0806\n",
      "Epoch 130/250\n",
      "22/22 [==============================] - 0s 1ms/step - loss: 5.7913 - val_loss: 49.3528\n",
      "Epoch 131/250\n",
      "22/22 [==============================] - 0s 1ms/step - loss: 5.7329 - val_loss: 46.3490\n",
      "Epoch 132/250\n",
      "22/22 [==============================] - 0s 1ms/step - loss: 5.7924 - val_loss: 51.4834\n",
      "Epoch 133/250\n",
      "22/22 [==============================] - 0s 1ms/step - loss: 5.6281 - val_loss: 45.3370\n",
      "Epoch 134/250\n",
      "22/22 [==============================] - 0s 1ms/step - loss: 5.6844 - val_loss: 48.9928\n",
      "Epoch 135/250\n",
      "22/22 [==============================] - 0s 1ms/step - loss: 5.6627 - val_loss: 46.7617\n",
      "Epoch 136/250\n",
      "22/22 [==============================] - 0s 1ms/step - loss: 5.6900 - val_loss: 46.5952\n",
      "Epoch 137/250\n",
      "22/22 [==============================] - 0s 1ms/step - loss: 5.8087 - val_loss: 47.6950\n",
      "Epoch 138/250\n",
      "22/22 [==============================] - 0s 1ms/step - loss: 5.6763 - val_loss: 46.6881\n",
      "Epoch 139/250\n",
      "22/22 [==============================] - 0s 1ms/step - loss: 5.6793 - val_loss: 47.6185\n",
      "Epoch 140/250\n",
      "22/22 [==============================] - 0s 1ms/step - loss: 5.6494 - val_loss: 47.3294\n",
      "Epoch 141/250\n",
      "22/22 [==============================] - 0s 1ms/step - loss: 5.6723 - val_loss: 48.5448\n",
      "Epoch 142/250\n",
      "22/22 [==============================] - 0s 1ms/step - loss: 5.7165 - val_loss: 46.2889\n",
      "Epoch 143/250\n",
      "22/22 [==============================] - 0s 1ms/step - loss: 5.6500 - val_loss: 46.2546\n",
      "Epoch 144/250\n",
      "22/22 [==============================] - 0s 1ms/step - loss: 5.7304 - val_loss: 45.3114\n",
      "Epoch 145/250\n",
      "22/22 [==============================] - 0s 1ms/step - loss: 5.6814 - val_loss: 48.5719\n",
      "Epoch 146/250\n",
      "22/22 [==============================] - 0s 1ms/step - loss: 5.6811 - val_loss: 46.7721\n",
      "Epoch 147/250\n",
      "22/22 [==============================] - 0s 1ms/step - loss: 5.6617 - val_loss: 47.3352\n",
      "Epoch 148/250\n",
      "22/22 [==============================] - 0s 1ms/step - loss: 5.6717 - val_loss: 48.2866\n",
      "Epoch 149/250\n",
      "22/22 [==============================] - 0s 1ms/step - loss: 5.7026 - val_loss: 47.1296\n",
      "Epoch 150/250\n",
      "22/22 [==============================] - 0s 1ms/step - loss: 5.7000 - val_loss: 51.0598\n",
      "Epoch 151/250\n",
      "22/22 [==============================] - 0s 1ms/step - loss: 5.6998 - val_loss: 45.6496\n",
      "Epoch 152/250\n",
      "22/22 [==============================] - 0s 1ms/step - loss: 5.7041 - val_loss: 50.9878\n",
      "Epoch 153/250\n",
      "22/22 [==============================] - 0s 1ms/step - loss: 5.7478 - val_loss: 48.0533\n",
      "Epoch 154/250\n",
      "22/22 [==============================] - 0s 1ms/step - loss: 5.6969 - val_loss: 46.0037\n",
      "Epoch 155/250\n",
      "22/22 [==============================] - 0s 1ms/step - loss: 5.7432 - val_loss: 52.2097\n",
      "Epoch 156/250\n",
      "22/22 [==============================] - 0s 1ms/step - loss: 5.7810 - val_loss: 49.0598\n",
      "Epoch 157/250\n",
      "22/22 [==============================] - 0s 1ms/step - loss: 5.6986 - val_loss: 45.6557\n",
      "Epoch 158/250\n",
      "22/22 [==============================] - 0s 1ms/step - loss: 5.7684 - val_loss: 50.8568\n",
      "Epoch 159/250\n",
      "22/22 [==============================] - 0s 1ms/step - loss: 5.7587 - val_loss: 47.9354\n",
      "Epoch 160/250\n",
      "22/22 [==============================] - 0s 1ms/step - loss: 5.7711 - val_loss: 45.6473\n",
      "Epoch 161/250\n",
      "22/22 [==============================] - 0s 1ms/step - loss: 5.7627 - val_loss: 49.0814\n",
      "Epoch 162/250\n",
      "22/22 [==============================] - 0s 1ms/step - loss: 5.7797 - val_loss: 50.0843\n",
      "Epoch 163/250\n",
      "22/22 [==============================] - 0s 1ms/step - loss: 5.6570 - val_loss: 45.3439\n",
      "Epoch 164/250\n",
      "22/22 [==============================] - 0s 1ms/step - loss: 5.7117 - val_loss: 47.2746\n",
      "Epoch 165/250\n",
      "22/22 [==============================] - 0s 1ms/step - loss: 5.6632 - val_loss: 47.6883\n",
      "Epoch 166/250\n",
      "22/22 [==============================] - 0s 1ms/step - loss: 5.7501 - val_loss: 48.0433\n",
      "Epoch 167/250\n",
      "22/22 [==============================] - 0s 1ms/step - loss: 5.7049 - val_loss: 51.0384\n",
      "Epoch 168/250\n",
      "22/22 [==============================] - 0s 1ms/step - loss: 5.7372 - val_loss: 46.0366\n",
      "Epoch 169/250\n",
      "22/22 [==============================] - 0s 1ms/step - loss: 5.6731 - val_loss: 49.4002\n",
      "Epoch 170/250\n",
      "22/22 [==============================] - 0s 1ms/step - loss: 5.6511 - val_loss: 47.2882\n",
      "Epoch 171/250\n",
      "22/22 [==============================] - 0s 1ms/step - loss: 5.7343 - val_loss: 44.7756\n",
      "Epoch 172/250\n",
      "22/22 [==============================] - 0s 1ms/step - loss: 5.6853 - val_loss: 51.6295\n",
      "Epoch 173/250\n",
      "22/22 [==============================] - 0s 1ms/step - loss: 5.6794 - val_loss: 47.7292\n",
      "Epoch 174/250\n",
      "22/22 [==============================] - 0s 1ms/step - loss: 5.6660 - val_loss: 49.0267\n",
      "Epoch 175/250\n",
      "22/22 [==============================] - 0s 1ms/step - loss: 5.6116 - val_loss: 47.9616\n",
      "Epoch 176/250\n",
      "22/22 [==============================] - 0s 1ms/step - loss: 5.7001 - val_loss: 46.2649\n",
      "Epoch 177/250\n",
      "22/22 [==============================] - 0s 1ms/step - loss: 5.7120 - val_loss: 50.0862\n",
      "Epoch 178/250\n",
      "22/22 [==============================] - 0s 1ms/step - loss: 5.6644 - val_loss: 46.3979\n",
      "Epoch 179/250\n",
      "22/22 [==============================] - 0s 1ms/step - loss: 5.6442 - val_loss: 47.1681\n",
      "Epoch 180/250\n",
      "22/22 [==============================] - 0s 3ms/step - loss: 5.6724 - val_loss: 49.6665\n",
      "Epoch 181/250\n",
      "22/22 [==============================] - 0s 3ms/step - loss: 5.7748 - val_loss: 43.3401\n",
      "Epoch 182/250\n",
      "22/22 [==============================] - 0s 1ms/step - loss: 5.7784 - val_loss: 49.5628\n",
      "Epoch 183/250\n",
      "22/22 [==============================] - 0s 1ms/step - loss: 5.8038 - val_loss: 48.9412\n",
      "Epoch 184/250\n",
      "22/22 [==============================] - 0s 1ms/step - loss: 5.6910 - val_loss: 49.3037\n",
      "Epoch 185/250\n",
      "22/22 [==============================] - 0s 1ms/step - loss: 5.6641 - val_loss: 47.5299\n",
      "Epoch 186/250\n",
      "22/22 [==============================] - 0s 1ms/step - loss: 5.6544 - val_loss: 48.7834\n",
      "Epoch 187/250\n",
      "22/22 [==============================] - 0s 1ms/step - loss: 5.7904 - val_loss: 46.1769\n",
      "Epoch 188/250\n",
      "22/22 [==============================] - 0s 1ms/step - loss: 5.7182 - val_loss: 48.7807\n",
      "Epoch 189/250\n",
      "22/22 [==============================] - 0s 1ms/step - loss: 5.7355 - val_loss: 47.5770\n",
      "Epoch 190/250\n",
      "22/22 [==============================] - 0s 1ms/step - loss: 5.7518 - val_loss: 47.9831\n",
      "Epoch 191/250\n",
      "22/22 [==============================] - 0s 1ms/step - loss: 5.6690 - val_loss: 48.6814\n",
      "Epoch 192/250\n",
      "22/22 [==============================] - 0s 1ms/step - loss: 5.7434 - val_loss: 45.9002\n",
      "Epoch 193/250\n",
      "22/22 [==============================] - 0s 1ms/step - loss: 5.6994 - val_loss: 48.7454\n",
      "Epoch 194/250\n",
      "22/22 [==============================] - 0s 1ms/step - loss: 5.6804 - val_loss: 44.4336\n",
      "Epoch 195/250\n",
      "22/22 [==============================] - 0s 1ms/step - loss: 5.7242 - val_loss: 51.1241\n",
      "Epoch 196/250\n",
      "22/22 [==============================] - 0s 1ms/step - loss: 5.6795 - val_loss: 47.7020\n",
      "Epoch 197/250\n",
      "22/22 [==============================] - 0s 1ms/step - loss: 5.6324 - val_loss: 46.7185\n",
      "Epoch 198/250\n",
      "22/22 [==============================] - 0s 1ms/step - loss: 5.6086 - val_loss: 47.6512\n",
      "Epoch 199/250\n",
      "22/22 [==============================] - 0s 1ms/step - loss: 5.7006 - val_loss: 45.3244\n",
      "Epoch 200/250\n",
      "22/22 [==============================] - 0s 1ms/step - loss: 5.6325 - val_loss: 49.5981\n",
      "Epoch 201/250\n",
      "22/22 [==============================] - 0s 1ms/step - loss: 5.7738 - val_loss: 42.9016\n",
      "Epoch 202/250\n",
      "22/22 [==============================] - 0s 1ms/step - loss: 5.6492 - val_loss: 49.8270\n",
      "Epoch 203/250\n",
      "22/22 [==============================] - 0s 1ms/step - loss: 5.7048 - val_loss: 47.8873\n",
      "Epoch 204/250\n",
      "22/22 [==============================] - 0s 1ms/step - loss: 5.6683 - val_loss: 49.8927\n",
      "Epoch 205/250\n",
      "22/22 [==============================] - 0s 1ms/step - loss: 5.7024 - val_loss: 44.2795\n",
      "Epoch 206/250\n",
      "22/22 [==============================] - 0s 997us/step - loss: 5.7252 - val_loss: 47.4140\n",
      "Epoch 207/250\n",
      "22/22 [==============================] - 0s 1ms/step - loss: 5.6718 - val_loss: 46.0989\n",
      "Epoch 208/250\n",
      "22/22 [==============================] - 0s 1ms/step - loss: 5.6871 - val_loss: 52.4173\n",
      "Epoch 209/250\n",
      "22/22 [==============================] - 0s 1ms/step - loss: 5.7747 - val_loss: 48.5443\n",
      "Epoch 210/250\n",
      "22/22 [==============================] - 0s 1ms/step - loss: 5.6710 - val_loss: 50.0864\n",
      "Epoch 211/250\n",
      "22/22 [==============================] - 0s 1ms/step - loss: 5.7315 - val_loss: 48.5187\n",
      "Epoch 212/250\n",
      "22/22 [==============================] - 0s 1ms/step - loss: 5.6657 - val_loss: 46.4013\n",
      "Epoch 213/250\n",
      "22/22 [==============================] - 0s 1ms/step - loss: 5.6727 - val_loss: 47.8658\n",
      "Epoch 214/250\n",
      "22/22 [==============================] - 0s 1ms/step - loss: 5.7203 - val_loss: 44.7912\n",
      "Epoch 215/250\n",
      "22/22 [==============================] - 0s 1ms/step - loss: 5.7244 - val_loss: 47.4800\n",
      "Epoch 216/250\n",
      "22/22 [==============================] - 0s 1ms/step - loss: 5.6691 - val_loss: 48.0305\n",
      "Epoch 217/250\n",
      "22/22 [==============================] - 0s 996us/step - loss: 5.7339 - val_loss: 49.6032\n",
      "Epoch 218/250\n",
      "22/22 [==============================] - 0s 997us/step - loss: 5.6752 - val_loss: 49.6743\n",
      "Epoch 219/250\n",
      "22/22 [==============================] - 0s 1ms/step - loss: 5.6913 - val_loss: 49.5253\n",
      "Epoch 220/250\n",
      "22/22 [==============================] - 0s 993us/step - loss: 5.7605 - val_loss: 47.7942\n",
      "Epoch 221/250\n",
      "22/22 [==============================] - 0s 1ms/step - loss: 5.7079 - val_loss: 47.7916\n",
      "Epoch 222/250\n",
      "22/22 [==============================] - 0s 1ms/step - loss: 5.7301 - val_loss: 49.4007\n",
      "Epoch 223/250\n",
      "22/22 [==============================] - 0s 1ms/step - loss: 5.6366 - val_loss: 48.8825\n",
      "Epoch 224/250\n",
      "22/22 [==============================] - 0s 1ms/step - loss: 5.6219 - val_loss: 48.0343\n",
      "Epoch 225/250\n",
      "22/22 [==============================] - 0s 1ms/step - loss: 5.6894 - val_loss: 48.9600\n",
      "Epoch 226/250\n",
      "22/22 [==============================] - 0s 1ms/step - loss: 5.6636 - val_loss: 46.4463\n",
      "Epoch 227/250\n",
      "22/22 [==============================] - 0s 1ms/step - loss: 5.6483 - val_loss: 50.1396\n",
      "Epoch 228/250\n",
      "22/22 [==============================] - 0s 989us/step - loss: 5.6644 - val_loss: 46.4657\n",
      "Epoch 229/250\n",
      "22/22 [==============================] - 0s 997us/step - loss: 5.7880 - val_loss: 50.6241\n",
      "Epoch 230/250\n",
      "22/22 [==============================] - 0s 1ms/step - loss: 5.7408 - val_loss: 48.0018\n",
      "Epoch 231/250\n",
      "22/22 [==============================] - 0s 1ms/step - loss: 5.9438 - val_loss: 44.7434\n",
      "Epoch 232/250\n",
      "22/22 [==============================] - 0s 1ms/step - loss: 5.6854 - val_loss: 47.7295\n",
      "Epoch 233/250\n",
      "22/22 [==============================] - 0s 1ms/step - loss: 5.7522 - val_loss: 49.5385\n",
      "Epoch 234/250\n",
      "22/22 [==============================] - 0s 1ms/step - loss: 5.7031 - val_loss: 46.8582\n",
      "Epoch 235/250\n",
      "22/22 [==============================] - 0s 4ms/step - loss: 5.7054 - val_loss: 47.4685\n",
      "Epoch 236/250\n",
      "22/22 [==============================] - 0s 3ms/step - loss: 5.7165 - val_loss: 49.2421\n",
      "Epoch 237/250\n",
      "22/22 [==============================] - 0s 1ms/step - loss: 5.6961 - val_loss: 51.3102\n",
      "Epoch 238/250\n",
      "22/22 [==============================] - 0s 1ms/step - loss: 5.6871 - val_loss: 48.6576\n",
      "Epoch 239/250\n",
      "22/22 [==============================] - 0s 1ms/step - loss: 5.6254 - val_loss: 48.2994\n",
      "Epoch 240/250\n",
      "22/22 [==============================] - 0s 1ms/step - loss: 5.6976 - val_loss: 49.0774\n",
      "Epoch 241/250\n",
      "22/22 [==============================] - 0s 1ms/step - loss: 5.7106 - val_loss: 48.0544\n",
      "Epoch 242/250\n",
      "22/22 [==============================] - 0s 1ms/step - loss: 5.6615 - val_loss: 46.4347\n",
      "Epoch 243/250\n",
      "22/22 [==============================] - 0s 1ms/step - loss: 5.7294 - val_loss: 50.6136\n",
      "Epoch 244/250\n",
      "22/22 [==============================] - 0s 1ms/step - loss: 5.7168 - val_loss: 48.5111\n",
      "Epoch 245/250\n",
      "22/22 [==============================] - 0s 1ms/step - loss: 5.7529 - val_loss: 48.8409\n",
      "Epoch 246/250\n",
      "22/22 [==============================] - 0s 1ms/step - loss: 5.7237 - val_loss: 44.8344\n",
      "Epoch 247/250\n",
      "22/22 [==============================] - 0s 1ms/step - loss: 5.7718 - val_loss: 47.5804\n",
      "Epoch 248/250\n",
      "22/22 [==============================] - 0s 1ms/step - loss: 5.7128 - val_loss: 49.4032\n",
      "Epoch 249/250\n",
      "22/22 [==============================] - 0s 1ms/step - loss: 5.7103 - val_loss: 48.3808\n",
      "Epoch 250/250\n",
      "22/22 [==============================] - 0s 1ms/step - loss: 5.7362 - val_loss: 50.3026\n"
     ]
    },
    {
     "data": {
      "text/plain": [
       "<keras.callbacks.History at 0x16748ff40>"
      ]
     },
     "execution_count": 8,
     "metadata": {},
     "output_type": "execute_result"
    }
   ],
   "source": [
    "# Beispiel für das Modelltraining\n",
    "history = model.fit(X_train, y_train, epochs=250, batch_size=32, validation_data=(X_valid, y_valid))\n",
    "history"
   ]
  },
  {
   "cell_type": "code",
   "execution_count": 11,
   "metadata": {},
   "outputs": [
    {
     "data": {
      "image/png": "[encoded data removed]",
      "text/plain": [
       "<Figure size 640x480 with 1 Axes>"
      ]
     },
     "metadata": {},
     "output_type": "display_data"
    }
   ],
   "source": [
    "def create_plt_loss(history, x_tick_min = int, x_tick_max = int, x_tick_step = int):\n",
    "    \"\"\"\n",
    "    Create a plot for the loss of the model\n",
    "\n",
    "    Input : \n",
    "    - history : history of the model  \n",
    "    - x_ticks : list of integers for the x-axis\n",
    "\n",
    "    Output : \n",
    "    - Plot of the loss\n",
    "    \"\"\"\n",
    "    plt.plot(history.history['loss'], label='Train Loss')\n",
    "    plt.xticks(np.arange(x_tick_min, x_tick_max, \n",
    "                         step=x_tick_step))\n",
    "    plt.grid(True)\n",
    "    plt.xlabel('Epochs')\n",
    "    plt.ylabel('Loss')\n",
    "    plt.legend()\n",
    "    plt.show()\n",
    "    return plt.show()\n",
    "\n",
    "create_plt_loss(history, x_tick_min = 0, \n",
    "                x_tick_max =  250, x_tick_step=20)"
   ]
  },
  {
   "cell_type": "code",
   "execution_count": 12,
   "metadata": {},
   "outputs": [
    {
     "data": {
      "image/png": "[encoded data removed]",
      "text/plain": [
       "<Figure size 640x480 with 1 Axes>"
      ]
     },
     "metadata": {},
     "output_type": "display_data"
    }
   ],
   "source": [
    "def create_plt_val_los(history, x_tick_min = int, x_tick_max = int, x_tick_step = int):\n",
    "    \"\"\"\n",
    "    Create a plot for the loss of the model\n",
    "\n",
    "    Input : \n",
    "    - history : history of the model  \n",
    "    - x_ticks : list of integers for the x-axis\n",
    "\n",
    "    Output : \n",
    "    - Plot of the loss\n",
    "    \"\"\"\n",
    "    plt.plot(history.history['val_loss'], label='Validation Loss')\n",
    "    plt.xticks(np.arange(x_tick_min, x_tick_max, \n",
    "                         step=x_tick_step))\n",
    "    plt.grid(True)\n",
    "    plt.xlabel('Epochs')\n",
    "    plt.ylabel('Loss')\n",
    "    plt.legend()\n",
    "    plt.show()\n",
    "    return plt.show()\n",
    "\n",
    "    \n",
    "create_plt_val_los(history, x_tick_min = 0,x_tick_max=250, x_tick_step=30)"
   ]
  },
  {
   "cell_type": "code",
   "execution_count": 13,
   "metadata": {},
   "outputs": [
    {
     "name": "stdout",
     "output_type": "stream",
     "text": [
      "4/4 [==============================] - 0s 991us/step - loss: 298.5027\n",
      "Test Loss: 298.502685546875\n"
     ]
    }
   ],
   "source": [
    "# Beispiel für die Modellbewertung\n",
    "test_loss = model.evaluate(X_test, y_test)\n",
    "print(\"Test Loss:\", test_loss)\n"
   ]
  },
  {
   "cell_type": "code",
   "execution_count": 14,
   "metadata": {},
   "outputs": [
    {
     "name": "stdout",
     "output_type": "stream",
     "text": [
      "4/4 [==============================] - 0s 538us/step\n"
     ]
    },
    {
     "data": {
      "text/plain": [
       "(98, 1)"
      ]
     },
     "execution_count": 14,
     "metadata": {},
     "output_type": "execute_result"
    }
   ],
   "source": [
    "predictions = model.predict(X_test)\n",
    "predictions.shape"
   ]
  },
  {
   "cell_type": "code",
   "execution_count": 15,
   "metadata": {},
   "outputs": [
    {
     "data": {
      "text/plain": [
       "((98,), (98, 1))"
      ]
     },
     "execution_count": 15,
     "metadata": {},
     "output_type": "execute_result"
    }
   ],
   "source": [
    "y_test.shape, predictions.shape"
   ]
  },
  {
   "cell_type": "code",
   "execution_count": 16,
   "metadata": {},
   "outputs": [
    {
     "data": {
      "text/html": [
       "<div>\n",
       "<style scoped>\n",
       "    .dataframe tbody tr th:only-of-type {\n",
       "        vertical-align: middle;\n",
       "    }\n",
       "\n",
       "    .dataframe tbody tr th {\n",
       "        vertical-align: top;\n",
       "    }\n",
       "\n",
       "    .dataframe thead th {\n",
       "        text-align: right;\n",
       "    }\n",
       "</style>\n",
       "<table border=\"1\" class=\"dataframe\">\n",
       "  <thead>\n",
       "    <tr style=\"text-align: right;\">\n",
       "      <th></th>\n",
       "      <th>True Values</th>\n",
       "      <th>Predicted Values</th>\n",
       "    </tr>\n",
       "  </thead>\n",
       "  <tbody>\n",
       "    <tr>\n",
       "      <th>0</th>\n",
       "      <td>18.23</td>\n",
       "      <td>8.296927</td>\n",
       "    </tr>\n",
       "    <tr>\n",
       "      <th>1</th>\n",
       "      <td>18.27</td>\n",
       "      <td>8.105674</td>\n",
       "    </tr>\n",
       "    <tr>\n",
       "      <th>2</th>\n",
       "      <td>18.33</td>\n",
       "      <td>7.585331</td>\n",
       "    </tr>\n",
       "    <tr>\n",
       "      <th>3</th>\n",
       "      <td>18.39</td>\n",
       "      <td>6.491227</td>\n",
       "    </tr>\n",
       "    <tr>\n",
       "      <th>4</th>\n",
       "      <td>18.42</td>\n",
       "      <td>9.118733</td>\n",
       "    </tr>\n",
       "    <tr>\n",
       "      <th>...</th>\n",
       "      <td>...</td>\n",
       "      <td>...</td>\n",
       "    </tr>\n",
       "    <tr>\n",
       "      <th>93</th>\n",
       "      <td>35.42</td>\n",
       "      <td>8.997166</td>\n",
       "    </tr>\n",
       "    <tr>\n",
       "      <th>94</th>\n",
       "      <td>36.84</td>\n",
       "      <td>7.648570</td>\n",
       "    </tr>\n",
       "    <tr>\n",
       "      <th>95</th>\n",
       "      <td>41.32</td>\n",
       "      <td>7.810659</td>\n",
       "    </tr>\n",
       "    <tr>\n",
       "      <th>96</th>\n",
       "      <td>47.22</td>\n",
       "      <td>9.483434</td>\n",
       "    </tr>\n",
       "    <tr>\n",
       "      <th>97</th>\n",
       "      <td>60.19</td>\n",
       "      <td>8.702152</td>\n",
       "    </tr>\n",
       "  </tbody>\n",
       "</table>\n",
       "<p>98 rows × 2 columns</p>\n",
       "</div>"
      ],
      "text/plain": [
       "    True Values  Predicted Values\n",
       "0         18.23          8.296927\n",
       "1         18.27          8.105674\n",
       "2         18.33          7.585331\n",
       "3         18.39          6.491227\n",
       "4         18.42          9.118733\n",
       "..          ...               ...\n",
       "93        35.42          8.997166\n",
       "94        36.84          7.648570\n",
       "95        41.32          7.810659\n",
       "96        47.22          9.483434\n",
       "97        60.19          8.702152\n",
       "\n",
       "[98 rows x 2 columns]"
      ]
     },
     "execution_count": 16,
     "metadata": {},
     "output_type": "execute_result"
    }
   ],
   "source": [
    "# Erstelle eine DataFrame für die wahren und vorhergesagten Werte\n",
    "results_df = pd.DataFrame({\n",
    "    'True Values': y_test.values.flatten(),\n",
    "    'Predicted Values': predictions.flatten()\n",
    "})\n",
    "results_df"
   ]
  },
  {
   "cell_type": "code",
   "execution_count": 17,
   "metadata": {},
   "outputs": [
    {
     "data": {
      "image/png": "[encoded data removed]",
      "text/plain": [
       "<Figure size 640x480 with 1 Axes>"
      ]
     },
     "metadata": {},
     "output_type": "display_data"
    }
   ],
   "source": [
    "# Scatterplot für \"True Values\" in Grün\n",
    "plt.scatter(results_df[\"True Values\"], results_df[\"Predicted Values\"], color='green', label='True Values')\n",
    "\n",
    "# Scatterplot für \"Predicted Values\" in Blau\n",
    "plt.scatter(results_df[\"Predicted Values\"], results_df[\"Predicted Values\"], color='blue', label='Predicted Values')\n",
    "\n",
    "plt.xlabel('True Values / Predicted Values')\n",
    "plt.ylabel('Predicted Values')\n",
    "plt.title('Scatterplot of True vs. Predicted Values')\n",
    "plt.legend()\n",
    "plt.show()\n"
   ]
  },
  {
   "cell_type": "markdown",
   "metadata": {},
   "source": [
    "# Ende Model 1"
   ]
  },
  {
   "cell_type": "code",
   "execution_count": null,
   "metadata": {},
   "outputs": [],
   "source": []
  },
  {
   "cell_type": "code",
   "execution_count": null,
   "metadata": {},
   "outputs": [],
   "source": []
  },
  {
   "cell_type": "markdown",
   "metadata": {},
   "source": [
    "# Model 2 "
   ]
  },
  {
   "cell_type": "markdown",
   "metadata": {},
   "source": [
    "2 Model: LSTM"
   ]
  },
  {
   "cell_type": "code",
   "execution_count": 18,
   "metadata": {},
   "outputs": [],
   "source": [
    "# Model infrastructure\n",
    "model_2 = Sequential([\n",
    "    InputLayer(input_shape=(X_train.shape[1], 1), name='Input'),\n",
    "    LSTM(units=2, return_sequences=True, activation=\"relu\", name='layer1'),\n",
    "    LSTM(units=2, return_sequences=False, activation=\"relu\", name='layer2'),\n",
    "    Dense(units=1, name='Output')\n",
    "])\n",
    "\n",
    "    "
   ]
  },
  {
   "cell_type": "code",
   "execution_count": 19,
   "metadata": {},
   "outputs": [
    {
     "name": "stdout",
     "output_type": "stream",
     "text": [
      "Model: \"sequential_1\"\n",
      "_________________________________________________________________\n",
      " Layer (type)                Output Shape              Param #   \n",
      "=================================================================\n",
      " layer1 (LSTM)               (None, 2, 2)              32        \n",
      "                                                                 \n",
      " layer2 (LSTM)               (None, 2)                 40        \n",
      "                                                                 \n",
      " Output (Dense)              (None, 1)                 3         \n",
      "                                                                 \n",
      "=================================================================\n",
      "Total params: 75\n",
      "Trainable params: 75\n",
      "Non-trainable params: 0\n",
      "_________________________________________________________________\n"
     ]
    }
   ],
   "source": [
    "model_2.compile(optimizer='adam', loss='mean_squared_error')     \n",
    "model_2.summary() "
   ]
  },
  {
   "cell_type": "code",
   "execution_count": 20,
   "metadata": {},
   "outputs": [
    {
     "name": "stdout",
     "output_type": "stream",
     "text": [
      "Epoch 1/175\n",
      "700/700 [==============================] - 1s 1ms/step - loss: 51.6823 - val_loss: 194.9525\n",
      "Epoch 2/175\n",
      "700/700 [==============================] - 1s 788us/step - loss: 43.6293 - val_loss: 178.4622\n",
      "Epoch 3/175\n",
      "700/700 [==============================] - 1s 951us/step - loss: 36.6500 - val_loss: 163.1276\n",
      "Epoch 4/175\n",
      "700/700 [==============================] - 1s 789us/step - loss: 30.6355 - val_loss: 149.2242\n",
      "Epoch 5/175\n",
      "700/700 [==============================] - 1s 789us/step - loss: 25.4989 - val_loss: 136.4777\n",
      "Epoch 6/175\n",
      "700/700 [==============================] - 1s 788us/step - loss: 21.1463 - val_loss: 124.8456\n",
      "Epoch 7/175\n",
      "700/700 [==============================] - 1s 819us/step - loss: 17.5350 - val_loss: 114.3404\n",
      "Epoch 8/175\n",
      "700/700 [==============================] - 1s 790us/step - loss: 14.5822 - val_loss: 104.8492\n",
      "Epoch 9/175\n",
      "700/700 [==============================] - 1s 786us/step - loss: 12.2347 - val_loss: 96.5534\n",
      "Epoch 10/175\n",
      "700/700 [==============================] - 1s 805us/step - loss: 10.4208 - val_loss: 89.2311\n",
      "Epoch 11/175\n",
      "700/700 [==============================] - 1s 875us/step - loss: 9.0736 - val_loss: 83.0117\n",
      "Epoch 12/175\n",
      "700/700 [==============================] - 1s 862us/step - loss: 8.1069 - val_loss: 77.7839\n",
      "Epoch 13/175\n",
      "700/700 [==============================] - 1s 787us/step - loss: 7.4325 - val_loss: 73.4543\n",
      "Epoch 14/175\n",
      "700/700 [==============================] - 1s 810us/step - loss: 6.9854 - val_loss: 70.0204\n",
      "Epoch 15/175\n",
      "700/700 [==============================] - 1s 955us/step - loss: 6.7009 - val_loss: 67.2795\n",
      "Epoch 16/175\n",
      "700/700 [==============================] - 1s 791us/step - loss: 6.5256 - val_loss: 65.1691\n",
      "Epoch 17/175\n",
      "700/700 [==============================] - 1s 787us/step - loss: 6.4191 - val_loss: 63.4727\n",
      "Epoch 18/175\n",
      "700/700 [==============================] - 1s 807us/step - loss: 6.3567 - val_loss: 62.2906\n",
      "Epoch 19/175\n",
      "700/700 [==============================] - 1s 789us/step - loss: 6.3207 - val_loss: 61.3646\n",
      "Epoch 20/175\n",
      "700/700 [==============================] - 1s 784us/step - loss: 6.2987 - val_loss: 60.6249\n",
      "Epoch 21/175\n",
      "700/700 [==============================] - 1s 781us/step - loss: 6.2858 - val_loss: 60.0942\n",
      "Epoch 22/175\n",
      "700/700 [==============================] - 1s 784us/step - loss: 6.2783 - val_loss: 59.6269\n",
      "Epoch 23/175\n",
      "700/700 [==============================] - 1s 786us/step - loss: 6.2736 - val_loss: 59.3277\n",
      "Epoch 24/175\n",
      "700/700 [==============================] - 1s 780us/step - loss: 6.2717 - val_loss: 59.1247\n",
      "Epoch 25/175\n",
      "700/700 [==============================] - 1s 790us/step - loss: 6.2706 - val_loss: 58.9022\n",
      "Epoch 26/175\n",
      "700/700 [==============================] - 1s 780us/step - loss: 6.2696 - val_loss: 58.8305\n",
      "Epoch 27/175\n",
      "700/700 [==============================] - 1s 790us/step - loss: 6.2696 - val_loss: 58.6672\n",
      "Epoch 28/175\n",
      "700/700 [==============================] - 1s 792us/step - loss: 6.2688 - val_loss: 58.6694\n",
      "Epoch 29/175\n",
      "700/700 [==============================] - 1s 789us/step - loss: 6.2691 - val_loss: 58.5618\n",
      "Epoch 30/175\n",
      "700/700 [==============================] - 1s 933us/step - loss: 6.2686 - val_loss: 58.5474\n",
      "Epoch 31/175\n",
      "700/700 [==============================] - 1s 778us/step - loss: 6.2684 - val_loss: 58.4737\n",
      "Epoch 32/175\n",
      "700/700 [==============================] - 1s 773us/step - loss: 6.2687 - val_loss: 58.4974\n",
      "Epoch 33/175\n",
      "700/700 [==============================] - 1s 798us/step - loss: 6.2689 - val_loss: 58.4114\n",
      "Epoch 34/175\n",
      "700/700 [==============================] - 1s 777us/step - loss: 6.2684 - val_loss: 58.4543\n",
      "Epoch 35/175\n",
      "700/700 [==============================] - 1s 789us/step - loss: 6.2688 - val_loss: 58.4257\n",
      "Epoch 36/175\n",
      "700/700 [==============================] - 1s 802us/step - loss: 6.2690 - val_loss: 58.4299\n",
      "Epoch 37/175\n",
      "700/700 [==============================] - 1s 777us/step - loss: 6.2689 - val_loss: 58.4264\n",
      "Epoch 38/175\n",
      "700/700 [==============================] - 1s 775us/step - loss: 6.2685 - val_loss: 58.4429\n",
      "Epoch 39/175\n",
      "700/700 [==============================] - 1s 774us/step - loss: 6.2687 - val_loss: 58.4472\n",
      "Epoch 40/175\n",
      "700/700 [==============================] - 1s 776us/step - loss: 6.2686 - val_loss: 58.4524\n",
      "Epoch 41/175\n",
      "700/700 [==============================] - 1s 800us/step - loss: 6.2688 - val_loss: 58.4370\n",
      "Epoch 42/175\n",
      "700/700 [==============================] - 1s 964us/step - loss: 6.2685 - val_loss: 58.4214\n",
      "Epoch 43/175\n",
      "700/700 [==============================] - 1s 775us/step - loss: 6.2684 - val_loss: 58.3305\n",
      "Epoch 44/175\n",
      "700/700 [==============================] - 1s 775us/step - loss: 6.2684 - val_loss: 58.3937\n",
      "Epoch 45/175\n",
      "700/700 [==============================] - 1s 778us/step - loss: 6.2682 - val_loss: 58.4213\n",
      "Epoch 46/175\n",
      "700/700 [==============================] - 1s 809us/step - loss: 6.2683 - val_loss: 58.3698\n",
      "Epoch 47/175\n",
      "700/700 [==============================] - 1s 798us/step - loss: 6.2691 - val_loss: 58.3467\n",
      "Epoch 48/175\n",
      "700/700 [==============================] - 1s 789us/step - loss: 6.2689 - val_loss: 58.3121\n",
      "Epoch 49/175\n",
      "700/700 [==============================] - 1s 781us/step - loss: 6.2683 - val_loss: 58.3642\n",
      "Epoch 50/175\n",
      "700/700 [==============================] - 1s 804us/step - loss: 6.2683 - val_loss: 58.3534\n",
      "Epoch 51/175\n",
      "700/700 [==============================] - 1s 795us/step - loss: 6.2680 - val_loss: 58.3599\n",
      "Epoch 52/175\n",
      "700/700 [==============================] - 1s 781us/step - loss: 6.2688 - val_loss: 58.3519\n",
      "Epoch 53/175\n",
      "700/700 [==============================] - 1s 783us/step - loss: 6.2683 - val_loss: 58.4313\n",
      "Epoch 54/175\n",
      "700/700 [==============================] - 1s 777us/step - loss: 6.2683 - val_loss: 58.4373\n",
      "Epoch 55/175\n",
      "700/700 [==============================] - 1s 918us/step - loss: 6.2686 - val_loss: 58.4580\n",
      "Epoch 56/175\n",
      "700/700 [==============================] - 1s 779us/step - loss: 6.2688 - val_loss: 58.4345\n",
      "Epoch 57/175\n",
      "700/700 [==============================] - 1s 781us/step - loss: 6.2694 - val_loss: 58.3636\n",
      "Epoch 58/175\n",
      "700/700 [==============================] - 1s 773us/step - loss: 6.2684 - val_loss: 58.3915\n",
      "Epoch 59/175\n",
      "700/700 [==============================] - 1s 778us/step - loss: 6.2687 - val_loss: 58.4086\n",
      "Epoch 60/175\n",
      "700/700 [==============================] - 1s 778us/step - loss: 6.2683 - val_loss: 58.3729\n",
      "Epoch 61/175\n",
      "700/700 [==============================] - 1s 781us/step - loss: 6.2683 - val_loss: 58.4025\n",
      "Epoch 62/175\n",
      "700/700 [==============================] - 1s 780us/step - loss: 6.2687 - val_loss: 58.3417\n",
      "Epoch 63/175\n",
      "700/700 [==============================] - 1s 776us/step - loss: 6.2681 - val_loss: 58.4230\n",
      "Epoch 64/175\n",
      "700/700 [==============================] - 1s 776us/step - loss: 6.2684 - val_loss: 58.4525\n",
      "Epoch 65/175\n",
      "700/700 [==============================] - 1s 776us/step - loss: 6.2689 - val_loss: 58.3774\n",
      "Epoch 66/175\n",
      "700/700 [==============================] - 1s 774us/step - loss: 6.2693 - val_loss: 58.4756\n",
      "Epoch 67/175\n",
      "700/700 [==============================] - 1s 771us/step - loss: 6.2681 - val_loss: 58.4091\n",
      "Epoch 68/175\n",
      "700/700 [==============================] - 1s 788us/step - loss: 6.2687 - val_loss: 58.3706\n",
      "Epoch 69/175\n",
      "700/700 [==============================] - 1s 773us/step - loss: 6.2685 - val_loss: 58.3857\n",
      "Epoch 70/175\n",
      "700/700 [==============================] - 1s 782us/step - loss: 6.2679 - val_loss: 58.4362\n",
      "Epoch 71/175\n",
      "700/700 [==============================] - 1s 788us/step - loss: 6.2683 - val_loss: 58.4649\n",
      "Epoch 72/175\n",
      "700/700 [==============================] - 1s 790us/step - loss: 6.2685 - val_loss: 58.4694\n",
      "Epoch 73/175\n",
      "700/700 [==============================] - 1s 930us/step - loss: 6.2685 - val_loss: 58.4052\n",
      "Epoch 74/175\n",
      "700/700 [==============================] - 1s 789us/step - loss: 6.2685 - val_loss: 58.3622\n",
      "Epoch 75/175\n",
      "700/700 [==============================] - 1s 784us/step - loss: 6.2688 - val_loss: 58.3276\n",
      "Epoch 76/175\n",
      "700/700 [==============================] - 1s 981us/step - loss: 6.2687 - val_loss: 58.3653\n",
      "Epoch 77/175\n",
      "700/700 [==============================] - 1s 842us/step - loss: 6.2684 - val_loss: 58.3429\n",
      "Epoch 78/175\n",
      "700/700 [==============================] - 1s 800us/step - loss: 6.2686 - val_loss: 58.4062\n",
      "Epoch 79/175\n",
      "700/700 [==============================] - 1s 836us/step - loss: 6.2684 - val_loss: 58.4360\n",
      "Epoch 80/175\n",
      "700/700 [==============================] - 1s 888us/step - loss: 6.2684 - val_loss: 58.4477\n",
      "Epoch 81/175\n",
      "700/700 [==============================] - 1s 1ms/step - loss: 6.2689 - val_loss: 58.4438\n",
      "Epoch 82/175\n",
      "700/700 [==============================] - 1s 1ms/step - loss: 6.2694 - val_loss: 58.4214\n",
      "Epoch 83/175\n",
      "700/700 [==============================] - 1s 843us/step - loss: 6.2687 - val_loss: 58.3863\n",
      "Epoch 84/175\n",
      "700/700 [==============================] - 1s 784us/step - loss: 6.2689 - val_loss: 58.4537\n",
      "Epoch 85/175\n",
      "700/700 [==============================] - 1s 826us/step - loss: 6.2683 - val_loss: 58.4586\n",
      "Epoch 86/175\n",
      "700/700 [==============================] - 1s 903us/step - loss: 6.2688 - val_loss: 58.4152\n",
      "Epoch 87/175\n",
      "700/700 [==============================] - 1s 1ms/step - loss: 6.2684 - val_loss: 58.3918\n",
      "Epoch 88/175\n",
      "700/700 [==============================] - 1s 809us/step - loss: 6.2684 - val_loss: 58.3968\n",
      "Epoch 89/175\n",
      "700/700 [==============================] - 1s 850us/step - loss: 6.2683 - val_loss: 58.4058\n",
      "Epoch 90/175\n",
      "700/700 [==============================] - 1s 808us/step - loss: 6.2688 - val_loss: 58.3364\n",
      "Epoch 91/175\n",
      "700/700 [==============================] - 1s 808us/step - loss: 6.2683 - val_loss: 58.3462\n",
      "Epoch 92/175\n",
      "700/700 [==============================] - 1s 1ms/step - loss: 6.2678 - val_loss: 58.4350\n",
      "Epoch 93/175\n",
      "700/700 [==============================] - 1s 871us/step - loss: 6.2683 - val_loss: 58.4328\n",
      "Epoch 94/175\n",
      "700/700 [==============================] - 1s 1ms/step - loss: 6.2684 - val_loss: 58.4546\n",
      "Epoch 95/175\n",
      "700/700 [==============================] - 1s 809us/step - loss: 6.2687 - val_loss: 58.4828\n",
      "Epoch 96/175\n",
      "700/700 [==============================] - 1s 831us/step - loss: 6.2690 - val_loss: 58.5047\n",
      "Epoch 97/175\n",
      "700/700 [==============================] - 1s 843us/step - loss: 6.2687 - val_loss: 58.4550\n",
      "Epoch 98/175\n",
      "700/700 [==============================] - 1s 951us/step - loss: 6.2691 - val_loss: 58.3944\n",
      "Epoch 99/175\n",
      "700/700 [==============================] - 1s 816us/step - loss: 6.2688 - val_loss: 58.4419\n",
      "Epoch 100/175\n",
      "700/700 [==============================] - 1s 925us/step - loss: 6.2692 - val_loss: 58.4680\n",
      "Epoch 101/175\n",
      "700/700 [==============================] - 1s 783us/step - loss: 6.2689 - val_loss: 58.4283\n",
      "Epoch 102/175\n",
      "700/700 [==============================] - 1s 825us/step - loss: 6.2688 - val_loss: 58.4817\n",
      "Epoch 103/175\n",
      "700/700 [==============================] - 1s 849us/step - loss: 6.2687 - val_loss: 58.4353\n",
      "Epoch 104/175\n",
      "700/700 [==============================] - 1s 919us/step - loss: 6.2687 - val_loss: 58.5117\n",
      "Epoch 105/175\n",
      "700/700 [==============================] - 1s 988us/step - loss: 6.2683 - val_loss: 58.3959\n",
      "Epoch 106/175\n",
      "700/700 [==============================] - 1s 928us/step - loss: 6.2683 - val_loss: 58.4105\n",
      "Epoch 107/175\n",
      "700/700 [==============================] - 1s 876us/step - loss: 6.2679 - val_loss: 58.4278\n",
      "Epoch 108/175\n",
      "700/700 [==============================] - 1s 957us/step - loss: 6.2684 - val_loss: 58.3643\n",
      "Epoch 109/175\n",
      "700/700 [==============================] - 1s 852us/step - loss: 6.2684 - val_loss: 58.3649\n",
      "Epoch 110/175\n",
      "700/700 [==============================] - 1s 782us/step - loss: 6.2685 - val_loss: 58.4322\n",
      "Epoch 111/175\n",
      "700/700 [==============================] - 1s 783us/step - loss: 6.2689 - val_loss: 58.4430\n",
      "Epoch 112/175\n",
      "700/700 [==============================] - 1s 930us/step - loss: 6.2683 - val_loss: 58.4307\n",
      "Epoch 113/175\n",
      "700/700 [==============================] - 1s 790us/step - loss: 6.2678 - val_loss: 58.4300\n",
      "Epoch 114/175\n",
      "700/700 [==============================] - 1s 787us/step - loss: 6.2688 - val_loss: 58.3891\n",
      "Epoch 115/175\n",
      "700/700 [==============================] - 1s 785us/step - loss: 6.2687 - val_loss: 58.4069\n",
      "Epoch 116/175\n",
      "700/700 [==============================] - 1s 900us/step - loss: 6.2686 - val_loss: 58.4378\n",
      "Epoch 117/175\n",
      "700/700 [==============================] - 1s 1ms/step - loss: 6.2689 - val_loss: 58.4056\n",
      "Epoch 118/175\n",
      "700/700 [==============================] - 1s 830us/step - loss: 6.2691 - val_loss: 58.3469\n",
      "Epoch 119/175\n",
      "700/700 [==============================] - 1s 937us/step - loss: 6.2679 - val_loss: 58.3754\n",
      "Epoch 120/175\n",
      "700/700 [==============================] - 1s 813us/step - loss: 6.2684 - val_loss: 58.3419\n",
      "Epoch 121/175\n",
      "700/700 [==============================] - 1s 927us/step - loss: 6.2680 - val_loss: 58.3899\n",
      "Epoch 122/175\n",
      "700/700 [==============================] - 1s 782us/step - loss: 6.2684 - val_loss: 58.3861\n",
      "Epoch 123/175\n",
      "700/700 [==============================] - 1s 786us/step - loss: 6.2681 - val_loss: 58.3410\n",
      "Epoch 124/175\n",
      "700/700 [==============================] - 1s 792us/step - loss: 6.2684 - val_loss: 58.3409\n",
      "Epoch 125/175\n",
      "700/700 [==============================] - 1s 781us/step - loss: 6.2686 - val_loss: 58.3095\n",
      "Epoch 126/175\n",
      "700/700 [==============================] - 1s 783us/step - loss: 6.2684 - val_loss: 58.3628\n",
      "Epoch 127/175\n",
      "700/700 [==============================] - 1s 781us/step - loss: 6.2684 - val_loss: 58.3504\n",
      "Epoch 128/175\n",
      "700/700 [==============================] - 1s 778us/step - loss: 6.2689 - val_loss: 58.3330\n",
      "Epoch 129/175\n",
      "700/700 [==============================] - 1s 789us/step - loss: 6.2682 - val_loss: 58.3564\n",
      "Epoch 130/175\n",
      "700/700 [==============================] - 1s 785us/step - loss: 6.2682 - val_loss: 58.3109\n",
      "Epoch 131/175\n",
      "700/700 [==============================] - 1s 783us/step - loss: 6.2686 - val_loss: 58.3223\n",
      "Epoch 132/175\n",
      "700/700 [==============================] - 1s 780us/step - loss: 6.2687 - val_loss: 58.4356\n",
      "Epoch 133/175\n",
      "700/700 [==============================] - 1s 788us/step - loss: 6.2686 - val_loss: 58.4545\n",
      "Epoch 134/175\n",
      "700/700 [==============================] - 1s 781us/step - loss: 6.2681 - val_loss: 58.4011\n",
      "Epoch 135/175\n",
      "700/700 [==============================] - 1s 784us/step - loss: 6.2698 - val_loss: 58.4504\n",
      "Epoch 136/175\n",
      "700/700 [==============================] - 1s 921us/step - loss: 6.2683 - val_loss: 58.3866\n",
      "Epoch 137/175\n",
      "700/700 [==============================] - 1s 790us/step - loss: 6.2682 - val_loss: 58.4225\n",
      "Epoch 138/175\n",
      "700/700 [==============================] - 1s 775us/step - loss: 6.2684 - val_loss: 58.3705\n",
      "Epoch 139/175\n",
      "700/700 [==============================] - 1s 781us/step - loss: 6.2682 - val_loss: 58.3590\n",
      "Epoch 140/175\n",
      "700/700 [==============================] - 1s 786us/step - loss: 6.2687 - val_loss: 58.3091\n",
      "Epoch 141/175\n",
      "700/700 [==============================] - 1s 785us/step - loss: 6.2682 - val_loss: 58.3770\n",
      "Epoch 142/175\n",
      "700/700 [==============================] - 1s 786us/step - loss: 6.2682 - val_loss: 58.4146\n",
      "Epoch 143/175\n",
      "700/700 [==============================] - 1s 784us/step - loss: 6.2686 - val_loss: 58.3620\n",
      "Epoch 144/175\n",
      "700/700 [==============================] - 1s 786us/step - loss: 6.2687 - val_loss: 58.3882\n",
      "Epoch 145/175\n",
      "700/700 [==============================] - 1s 790us/step - loss: 6.2683 - val_loss: 58.3295\n",
      "Epoch 146/175\n",
      "700/700 [==============================] - 1s 784us/step - loss: 6.2685 - val_loss: 58.3617\n",
      "Epoch 147/175\n",
      "700/700 [==============================] - 1s 784us/step - loss: 6.2681 - val_loss: 58.3849\n",
      "Epoch 148/175\n",
      "700/700 [==============================] - 1s 785us/step - loss: 6.2684 - val_loss: 58.3542\n",
      "Epoch 149/175\n",
      "700/700 [==============================] - 1s 927us/step - loss: 6.2685 - val_loss: 58.3635\n",
      "Epoch 150/175\n",
      "700/700 [==============================] - 1s 870us/step - loss: 6.2682 - val_loss: 58.4231\n",
      "Epoch 151/175\n",
      "700/700 [==============================] - 1s 787us/step - loss: 6.2698 - val_loss: 58.4206\n",
      "Epoch 152/175\n",
      "700/700 [==============================] - 1s 805us/step - loss: 6.2686 - val_loss: 58.3749\n",
      "Epoch 153/175\n",
      "700/700 [==============================] - 1s 797us/step - loss: 6.2694 - val_loss: 58.3460\n",
      "Epoch 154/175\n",
      "700/700 [==============================] - 1s 792us/step - loss: 6.2681 - val_loss: 58.3939\n",
      "Epoch 155/175\n",
      "700/700 [==============================] - 1s 785us/step - loss: 6.2688 - val_loss: 58.3630\n",
      "Epoch 156/175\n",
      "700/700 [==============================] - 1s 785us/step - loss: 6.2685 - val_loss: 58.3672\n",
      "Epoch 157/175\n",
      "700/700 [==============================] - 1s 788us/step - loss: 6.2693 - val_loss: 58.3961\n",
      "Epoch 158/175\n",
      "700/700 [==============================] - 1s 792us/step - loss: 6.2687 - val_loss: 58.4085\n",
      "Epoch 159/175\n",
      "700/700 [==============================] - 1s 798us/step - loss: 6.2680 - val_loss: 58.3713\n",
      "Epoch 160/175\n",
      "700/700 [==============================] - 1s 837us/step - loss: 6.2680 - val_loss: 58.3775\n",
      "Epoch 161/175\n",
      "700/700 [==============================] - 1s 785us/step - loss: 6.2682 - val_loss: 58.3576\n",
      "Epoch 162/175\n",
      "700/700 [==============================] - 1s 954us/step - loss: 6.2684 - val_loss: 58.3363\n",
      "Epoch 163/175\n",
      "700/700 [==============================] - 1s 813us/step - loss: 6.2681 - val_loss: 58.3598\n",
      "Epoch 164/175\n",
      "700/700 [==============================] - 1s 853us/step - loss: 6.2687 - val_loss: 58.3560\n",
      "Epoch 165/175\n",
      "700/700 [==============================] - 1s 808us/step - loss: 6.2682 - val_loss: 58.3523\n",
      "Epoch 166/175\n",
      "700/700 [==============================] - 1s 804us/step - loss: 6.2689 - val_loss: 58.3607\n",
      "Epoch 167/175\n",
      "700/700 [==============================] - 1s 807us/step - loss: 6.2684 - val_loss: 58.3520\n",
      "Epoch 168/175\n",
      "700/700 [==============================] - 1s 805us/step - loss: 6.2681 - val_loss: 58.3563\n",
      "Epoch 169/175\n",
      "700/700 [==============================] - 1s 787us/step - loss: 6.2687 - val_loss: 58.3626\n",
      "Epoch 170/175\n",
      "700/700 [==============================] - 1s 792us/step - loss: 6.2685 - val_loss: 58.3846\n",
      "Epoch 171/175\n",
      "700/700 [==============================] - 1s 789us/step - loss: 6.2683 - val_loss: 58.4018\n",
      "Epoch 172/175\n",
      "700/700 [==============================] - 1s 778us/step - loss: 6.2688 - val_loss: 58.3853\n",
      "Epoch 173/175\n",
      "700/700 [==============================] - 1s 782us/step - loss: 6.2688 - val_loss: 58.3380\n",
      "Epoch 174/175\n",
      "700/700 [==============================] - 1s 796us/step - loss: 6.2685 - val_loss: 58.3568\n",
      "Epoch 175/175\n",
      "700/700 [==============================] - 1s 793us/step - loss: 6.2692 - val_loss: 58.4092\n"
     ]
    },
    {
     "data": {
      "text/plain": [
       "<keras.callbacks.History at 0x167e07f40>"
      ]
     },
     "execution_count": 20,
     "metadata": {},
     "output_type": "execute_result"
    }
   ],
   "source": [
    "history_2 = model_2.fit(X_train, y_train, epochs=175, batch_size=1, validation_data=(X_valid, y_valid))\n",
    "history_2"
   ]
  },
  {
   "cell_type": "code",
   "execution_count": 21,
   "metadata": {},
   "outputs": [
    {
     "data": {
      "image/png": "[encoded data removed]",
      "text/plain": [
       "<Figure size 640x480 with 1 Axes>"
      ]
     },
     "metadata": {},
     "output_type": "display_data"
    }
   ],
   "source": [
    "create_plt_loss(history_2, x_tick_min = 0,x_tick_max=275, x_tick_step=30)"
   ]
  },
  {
   "cell_type": "code",
   "execution_count": 22,
   "metadata": {},
   "outputs": [
    {
     "data": {
      "image/png": "[encoded data removed]",
      "text/plain": [
       "<Figure size 640x480 with 1 Axes>"
      ]
     },
     "metadata": {},
     "output_type": "display_data"
    }
   ],
   "source": [
    "create_plt_val_los(history_2, x_tick_min = 0,x_tick_max=275, x_tick_step=30)  "
   ]
  },
  {
   "cell_type": "code",
   "execution_count": 23,
   "metadata": {},
   "outputs": [
    {
     "name": "stdout",
     "output_type": "stream",
     "text": [
      "4/4 [==============================] - 0s 948us/step - loss: 334.8305\n",
      "Test Loss of Model 1: 298.502685546875\n",
      "Test Loss of Model 2: 334.8304748535156\n"
     ]
    }
   ],
   "source": [
    "test_loss_2 = model_2.evaluate(X_test, y_test)\n",
    "print(\"Test Loss of Model 1:\", test_loss)\n",
    "print(\"Test Loss of Model 2:\", test_loss_2)"
   ]
  },
  {
   "cell_type": "code",
   "execution_count": 24,
   "metadata": {},
   "outputs": [
    {
     "name": "stdout",
     "output_type": "stream",
     "text": [
      "4/4 [==============================] - 0s 1ms/step\n"
     ]
    },
    {
     "data": {
      "text/plain": [
       "(98, 1)"
      ]
     },
     "execution_count": 24,
     "metadata": {},
     "output_type": "execute_result"
    }
   ],
   "source": [
    "predictions_2 = model_2.predict(X_test)\n",
    "predictions_2.shape"
   ]
  },
  {
   "cell_type": "code",
   "execution_count": 25,
   "metadata": {},
   "outputs": [
    {
     "data": {
      "text/html": [
       "<div>\n",
       "<style scoped>\n",
       "    .dataframe tbody tr th:only-of-type {\n",
       "        vertical-align: middle;\n",
       "    }\n",
       "\n",
       "    .dataframe tbody tr th {\n",
       "        vertical-align: top;\n",
       "    }\n",
       "\n",
       "    .dataframe thead th {\n",
       "        text-align: right;\n",
       "    }\n",
       "</style>\n",
       "<table border=\"1\" class=\"dataframe\">\n",
       "  <thead>\n",
       "    <tr style=\"text-align: right;\">\n",
       "      <th></th>\n",
       "      <th>True Values</th>\n",
       "      <th>Predicted Values</th>\n",
       "    </tr>\n",
       "  </thead>\n",
       "  <tbody>\n",
       "    <tr>\n",
       "      <th>0</th>\n",
       "      <td>18.23</td>\n",
       "      <td>7.060156</td>\n",
       "    </tr>\n",
       "    <tr>\n",
       "      <th>1</th>\n",
       "      <td>18.27</td>\n",
       "      <td>7.060156</td>\n",
       "    </tr>\n",
       "    <tr>\n",
       "      <th>2</th>\n",
       "      <td>18.33</td>\n",
       "      <td>7.060156</td>\n",
       "    </tr>\n",
       "    <tr>\n",
       "      <th>3</th>\n",
       "      <td>18.39</td>\n",
       "      <td>7.060156</td>\n",
       "    </tr>\n",
       "    <tr>\n",
       "      <th>4</th>\n",
       "      <td>18.42</td>\n",
       "      <td>7.060156</td>\n",
       "    </tr>\n",
       "    <tr>\n",
       "      <th>...</th>\n",
       "      <td>...</td>\n",
       "      <td>...</td>\n",
       "    </tr>\n",
       "    <tr>\n",
       "      <th>93</th>\n",
       "      <td>35.42</td>\n",
       "      <td>7.060156</td>\n",
       "    </tr>\n",
       "    <tr>\n",
       "      <th>94</th>\n",
       "      <td>36.84</td>\n",
       "      <td>7.060156</td>\n",
       "    </tr>\n",
       "    <tr>\n",
       "      <th>95</th>\n",
       "      <td>41.32</td>\n",
       "      <td>7.060156</td>\n",
       "    </tr>\n",
       "    <tr>\n",
       "      <th>96</th>\n",
       "      <td>47.22</td>\n",
       "      <td>7.060156</td>\n",
       "    </tr>\n",
       "    <tr>\n",
       "      <th>97</th>\n",
       "      <td>60.19</td>\n",
       "      <td>7.060156</td>\n",
       "    </tr>\n",
       "  </tbody>\n",
       "</table>\n",
       "<p>98 rows × 2 columns</p>\n",
       "</div>"
      ],
      "text/plain": [
       "    True Values  Predicted Values\n",
       "0         18.23          7.060156\n",
       "1         18.27          7.060156\n",
       "2         18.33          7.060156\n",
       "3         18.39          7.060156\n",
       "4         18.42          7.060156\n",
       "..          ...               ...\n",
       "93        35.42          7.060156\n",
       "94        36.84          7.060156\n",
       "95        41.32          7.060156\n",
       "96        47.22          7.060156\n",
       "97        60.19          7.060156\n",
       "\n",
       "[98 rows x 2 columns]"
      ]
     },
     "execution_count": 25,
     "metadata": {},
     "output_type": "execute_result"
    }
   ],
   "source": [
    "# Erstelle eine DataFrame für die wahren und vorhergesagten Werte\n",
    "results_df_2 = pd.DataFrame({\n",
    "    'True Values': y_test.values.flatten(),\n",
    "    'Predicted Values': predictions_2.flatten()\n",
    "})\n",
    "results_df_2"
   ]
  },
  {
   "cell_type": "code",
   "execution_count": 26,
   "metadata": {},
   "outputs": [
    {
     "data": {
      "text/plain": [
       "Index(['True Values', 'Predicted Values'], dtype='object')"
      ]
     },
     "execution_count": 26,
     "metadata": {},
     "output_type": "execute_result"
    }
   ],
   "source": [
    "results_df_2.columns"
   ]
  },
  {
   "cell_type": "code",
   "execution_count": 27,
   "metadata": {},
   "outputs": [
    {
     "data": {
      "image/png": "[encoded data removed]",
      "text/plain": [
       "<Figure size 640x480 with 1 Axes>"
      ]
     },
     "metadata": {},
     "output_type": "display_data"
    }
   ],
   "source": [
    "# Scatterplot für \"True Values\" in Grün\n",
    "plt.scatter(results_df_2[\"True Values\"], results_df_2[\"Predicted Values\"], color='green', label='True Values')\n",
    "\n",
    "# Scatterplot für \"Predicted Values\" in Blau\n",
    "plt.scatter(results_df_2[\"Predicted Values\"], results_df_2[\"Predicted Values\"], color='blue', label='Predicted Values')\n",
    "\n",
    "plt.xlabel('True Values / Predicted Values')\n",
    "plt.ylabel('Predicted Values')\n",
    "plt.title('Scatterplot of True vs. Predicted Values')\n",
    "plt.legend()\n",
    "plt.show()\n"
   ]
  },
  {
   "cell_type": "code",
   "execution_count": null,
   "metadata": {},
   "outputs": [],
   "source": [
    "        "
   ]
  },
  {
   "cell_type": "markdown",
   "metadata": {},
   "source": [
    "# Model 3"
   ]
  },
  {
   "cell_type": "code",
   "execution_count": 28,
   "metadata": {},
   "outputs": [
    {
     "name": "stdout",
     "output_type": "stream",
     "text": [
      "Model: \"sequential_2\"\n",
      "_________________________________________________________________\n",
      " Layer (type)                Output Shape              Param #   \n",
      "=================================================================\n",
      " Input (SimpleRNN)           (None, 2, 2)              8         \n",
      "                                                                 \n",
      " layer1 (SimpleRNN)          (None, 2, 20)             460       \n",
      "                                                                 \n",
      " layer2 (SimpleRNN)          (None, 3)                 72        \n",
      "                                                                 \n",
      " Output (Dense)              (None, 1)                 4         \n",
      "                                                                 \n",
      "=================================================================\n",
      "Total params: 544\n",
      "Trainable params: 544\n",
      "Non-trainable params: 0\n",
      "_________________________________________________________________\n"
     ]
    }
   ],
   "source": [
    "model_3 = keras.models.Sequential([ \n",
    "    keras.layers.SimpleRNN(2, return_sequences=True, input_shape=(X_train.shape[1], 1), activation=\"relu\", name=\"Input\"),\n",
    "    keras.layers.SimpleRNN(20, return_sequences=True, activation=\"relu\", name=\"layer1\"),\n",
    "    keras.layers.SimpleRNN(3, return_sequences=False, activation=\"relu\", name=\"layer2\"),\n",
    "    keras.layers.Dense(1, name='Output')\n",
    "])\n",
    "model_3.compile(loss=\"mean_squared_error\", optimizer=\"adam\")  \n",
    "model_3.summary()"
   ]
  },
  {
   "cell_type": "code",
   "execution_count": 29,
   "metadata": {},
   "outputs": [
    {
     "name": "stdout",
     "output_type": "stream",
     "text": [
      "Epoch 1/10\n",
      "22/22 [==============================] - 1s 9ms/step - loss: 56.2299 - val_loss: 212.6329\n",
      "Epoch 2/10\n",
      "22/22 [==============================] - 0s 2ms/step - loss: 55.6886 - val_loss: 211.9988\n",
      "Epoch 3/10\n",
      "22/22 [==============================] - 0s 2ms/step - loss: 55.3810 - val_loss: 211.3674\n",
      "Epoch 4/10\n",
      "22/22 [==============================] - 0s 2ms/step - loss: 55.0747 - val_loss: 210.7385\n",
      "Epoch 5/10\n",
      "22/22 [==============================] - 0s 2ms/step - loss: 54.7703 - val_loss: 210.1106\n",
      "Epoch 6/10\n",
      "22/22 [==============================] - 0s 2ms/step - loss: 54.4664 - val_loss: 209.4847\n",
      "Epoch 7/10\n",
      "22/22 [==============================] - 0s 2ms/step - loss: 54.1648 - val_loss: 208.8589\n",
      "Epoch 8/10\n",
      "22/22 [==============================] - 0s 2ms/step - loss: 53.8650 - val_loss: 208.2330\n",
      "Epoch 9/10\n",
      "22/22 [==============================] - 0s 5ms/step - loss: 53.5643 - val_loss: 207.6161\n",
      "Epoch 10/10\n",
      "22/22 [==============================] - 0s 3ms/step - loss: 53.2684 - val_loss: 206.9935\n"
     ]
    },
    {
     "data": {
      "text/plain": [
       "<keras.callbacks.History at 0x17266f280>"
      ]
     },
     "execution_count": 29,
     "metadata": {},
     "output_type": "execute_result"
    }
   ],
   "source": [
    "model_3.compile(loss=\"mean_squared_error\", optimizer=\"adam\")   \n",
    "history_3 = model_3.fit(X_train, y_train, epochs=10, validation_data=(X_valid, y_valid)) #batch_Size = 1\n",
    "history_3"
   ]
  },
  {
   "cell_type": "code",
   "execution_count": 30,
   "metadata": {},
   "outputs": [
    {
     "name": "stdout",
     "output_type": "stream",
     "text": [
      "4/4 [==============================] - 0s 934us/step - loss: 615.2222\n",
      "Test Loss of Model 1: 298.502685546875\n",
      "Test Loss of Model 2: 334.8304748535156\n",
      "Test Loss of Model 3: 615.2222290039062\n"
     ]
    }
   ],
   "source": [
    "test_loss_3 = model_3.evaluate(X_test, y_test)\n",
    "print(\"Test Loss of Model 1:\", test_loss)\n",
    "print(\"Test Loss of Model 2:\", test_loss_2)\n",
    "print(\"Test Loss of Model 3:\", test_loss_3)"
   ]
  },
  {
   "cell_type": "code",
   "execution_count": null,
   "metadata": {},
   "outputs": [],
   "source": [
    "create_plt_loss(history_3, x_tick_min = 0,x_tick_max=12, x_tick_step=2)"
   ]
  },
  {
   "cell_type": "code",
   "execution_count": null,
   "metadata": {},
   "outputs": [],
   "source": [
    "create_plt_val_los(history_3, x_tick_min = 0,x_tick_max=12, x_tick_step=2)"
   ]
  },
  {
   "cell_type": "code",
   "execution_count": null,
   "metadata": {},
   "outputs": [],
   "source": []
  },
  {
   "cell_type": "code",
   "execution_count": null,
   "metadata": {},
   "outputs": [],
   "source": []
  },
  {
   "cell_type": "code",
   "execution_count": null,
   "metadata": {},
   "outputs": [],
   "source": []
  },
  {
   "cell_type": "code",
   "execution_count": null,
   "metadata": {},
   "outputs": [],
   "source": []
  },
  {
   "cell_type": "markdown",
   "metadata": {},
   "source": [
    "# Model 4\n",
    "Ein paper das besagt das dropouts model immer besser machen \n",
    "[text](https://www.jmlr.org/papers/volume15/srivastava14a/srivastava14a.pdf?utm_content=buffer79b43&utm_medium=social&utm_source=twitter.com&utm_campaign=buffer,)"
   ]
  },
  {
   "cell_type": "code",
   "execution_count": null,
   "metadata": {},
   "outputs": [],
   "source": [
    "# Model infrastructure\n",
    "model_4 = Sequential([\n",
    "    InputLayer(input_shape=X_train.shape[-1], name=\"Input\"),\n",
    "    Dense(30, activation=\"relu\", name=\"layer1\"),\n",
    "    Dropout(0.001),\n",
    "    Dense(40, name=\"layer2\"),\n",
    "    Dense(1, name=\"Output\"),\n",
    "])\n",
    "\n",
    "\n",
    "\n",
    "optimizer_4 = Adam(learning_rate=0.001)  # Default learning rate\n",
    "model_4.compile(loss='mean_squared_error', optimizer=optimizer_4)  # Using MSE for loss and MAE for metrics\n",
    "model_4.summary()"
   ]
  },
  {
   "cell_type": "code",
   "execution_count": null,
   "metadata": {},
   "outputs": [],
   "source": [
    "history_4 = model_4.fit(X_train, y_train, epochs=33, validation_data=(X_valid, y_valid))\n",
    "history_4"
   ]
  },
  {
   "cell_type": "code",
   "execution_count": null,
   "metadata": {},
   "outputs": [],
   "source": [
    "test_loss_4 = model_4.evaluate(X_test, y_test)\n",
    "print(\"Test Loss of Model 1:\", test_loss)\n",
    "print(\"Test Loss of Model 2:\", test_loss_2)\n",
    "print(\"Test Loss of Model 3:\", test_loss_3)\n",
    "print(\"Test Loss of Model 4:\", test_loss_4)"
   ]
  },
  {
   "cell_type": "code",
   "execution_count": null,
   "metadata": {},
   "outputs": [],
   "source": [
    "create_plt_loss(history_4, x_tick_min = 0,x_tick_max=42, x_tick_step=2)"
   ]
  },
  {
   "cell_type": "code",
   "execution_count": null,
   "metadata": {},
   "outputs": [],
   "source": [
    "create_plt_loss(history_4, x_tick_min = 0,x_tick_max=42, x_tick_step=2)"
   ]
  },
  {
   "cell_type": "markdown",
   "metadata": {},
   "source": [
    "# New Dataset housing"
   ]
  },
  {
   "cell_type": "code",
   "execution_count": null,
   "metadata": {},
   "outputs": [],
   "source": [
    "df_housing = pd.read_csv('/Users/riccardo/Desktop/Repositorys_Github/Training/Dataset/housing.csv', sep=\",\", index_col=False).round(2)\n",
    "df_housing"
   ]
  },
  {
   "cell_type": "code",
   "execution_count": null,
   "metadata": {},
   "outputs": [],
   "source": [
    "df_housing.isnull().sum()\n",
    "df_housing = df_housing.dropna()\n",
    "df_housing.isnull().sum()\n"
   ]
  },
  {
   "cell_type": "code",
   "execution_count": null,
   "metadata": {},
   "outputs": [],
   "source": [
    "df_housing.columns\n",
    "X = df_housing[['total_rooms', 'total_bedrooms', 'population', 'households', 'median_income']]   \n",
    "y = df_housing[['median_house_value']]"
   ]
  },
  {
   "cell_type": "code",
   "execution_count": null,
   "metadata": {},
   "outputs": [],
   "source": [
    "X_train,y_train,X_valid,y_valid,X_test,y_test = train_test_valid_split(df_housing, train_size=7500, test_size=1600, valid_size_min=1400, valid_size_max=2000)"
   ]
  },
  {
   "cell_type": "code",
   "execution_count": null,
   "metadata": {},
   "outputs": [],
   "source": [
    "X_train.shape, y_train.shape, X_valid.shape, y_valid.shape, X_test.shape, y_test.shape"
   ]
  },
  {
   "cell_type": "code",
   "execution_count": null,
   "metadata": {},
   "outputs": [],
   "source": [
    "y_pred = X_valid.iloc[:, -1].values\n",
    "np.mean(keras.losses.mean_squared_error(y_valid, y_pred))"
   ]
  },
  {
   "cell_type": "code",
   "execution_count": null,
   "metadata": {},
   "outputs": [],
   "source": [
    "X_train.shape"
   ]
  },
  {
   "cell_type": "code",
   "execution_count": null,
   "metadata": {},
   "outputs": [],
   "source": [
    "model_housing = Sequential([\n",
    "    InputLayer(input_shape=[None, 7500, 5], name=\"Input\"),\n",
    "    Dense(20, activation=\"relu\", name=\"layer1\"),\n",
    "    Dense(30, activation=\"relu\", name=\"layer2\"),\n",
    "    Dense(8, name=\"Output\"),\n",
    "])\n",
    "\n",
    "optimizer = Adam(learning_rate=0.005)  # Default learning rate\n",
    "model_housing.compile(loss='mean_squared_error', optimizer=optimizer)  # Using MSE for loss and MAE for metrics\n",
    "model_housing.summary()"
   ]
  },
  {
   "cell_type": "code",
   "execution_count": null,
   "metadata": {},
   "outputs": [],
   "source": [
    "history_housing = model_housing.fit(X_train,y_train, epochs=5)\n",
    "history_housing"
   ]
  },
  {
   "cell_type": "code",
   "execution_count": null,
   "metadata": {},
   "outputs": [],
   "source": [
    "50237677568.0000\n",
    "21635821568.0000"
   ]
  },
  {
   "cell_type": "code",
   "execution_count": null,
   "metadata": {},
   "outputs": [],
   "source": [
    "create_plt_loss(history_housing, x_tick_min = 0,x_tick_max=5, x_tick_step=1)"
   ]
  },
  {
   "cell_type": "code",
   "execution_count": null,
   "metadata": {},
   "outputs": [],
   "source": []
  },
  {
   "cell_type": "code",
   "execution_count": null,
   "metadata": {},
   "outputs": [],
   "source": []
  },
  {
   "cell_type": "code",
   "execution_count": null,
   "metadata": {},
   "outputs": [],
   "source": []
  }
 ],
 "metadata": {
  "kernelspec": {
   "display_name": "model",
   "language": "python",
   "name": "python3"
  },
  "language_info": {
   "codemirror_mode": {
    "name": "ipython",
    "version": 3
   },
   "file_extension": ".py",
   "mimetype": "text/x-python",
   "name": "python",
   "nbconvert_exporter": "python",
   "pygments_lexer": "ipython3",
   "version": "3.9.18"
  }
 },
 "nbformat": 4,
 "nbformat_minor": 2
}

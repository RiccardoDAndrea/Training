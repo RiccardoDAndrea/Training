{
 "cells": [
  {
   "cell_type": "code",
   "execution_count": 49,
   "metadata": {},
   "outputs": [],
   "source": [
    "import keras\n",
    "import pandas as pd\n",
    "from sklearn.model_selection import train_test_split\n",
    "from keras.models import Sequential\n",
    "from keras.layers import InputLayer, Dense\n",
    "import numpy as np\n",
    "import tensorflow as tf\n",
    "import matplotlib.pyplot as plt\n",
    "from keras.layers import LSTM, Dense, Dropout\n"
   ]
  },
  {
   "cell_type": "code",
   "execution_count": 2,
   "metadata": {},
   "outputs": [
    {
     "data": {
      "text/html": [
       "<div>\n",
       "<style scoped>\n",
       "    .dataframe tbody tr th:only-of-type {\n",
       "        vertical-align: middle;\n",
       "    }\n",
       "\n",
       "    .dataframe tbody tr th {\n",
       "        vertical-align: top;\n",
       "    }\n",
       "\n",
       "    .dataframe thead th {\n",
       "        text-align: right;\n",
       "    }\n",
       "</style>\n",
       "<table border=\"1\" class=\"dataframe\">\n",
       "  <thead>\n",
       "    <tr style=\"text-align: right;\">\n",
       "      <th></th>\n",
       "      <th>wage</th>\n",
       "      <th>educ</th>\n",
       "      <th>exper</th>\n",
       "      <th>metro</th>\n",
       "    </tr>\n",
       "  </thead>\n",
       "  <tbody>\n",
       "    <tr>\n",
       "      <th>0</th>\n",
       "      <td>2.070000</td>\n",
       "      <td>12</td>\n",
       "      <td>7</td>\n",
       "      <td>1</td>\n",
       "    </tr>\n",
       "    <tr>\n",
       "      <th>1</th>\n",
       "      <td>2.120000</td>\n",
       "      <td>12</td>\n",
       "      <td>35</td>\n",
       "      <td>1</td>\n",
       "    </tr>\n",
       "    <tr>\n",
       "      <th>2</th>\n",
       "      <td>2.540000</td>\n",
       "      <td>16</td>\n",
       "      <td>20</td>\n",
       "      <td>1</td>\n",
       "    </tr>\n",
       "    <tr>\n",
       "      <th>3</th>\n",
       "      <td>2.680000</td>\n",
       "      <td>12</td>\n",
       "      <td>24</td>\n",
       "      <td>1</td>\n",
       "    </tr>\n",
       "    <tr>\n",
       "      <th>4</th>\n",
       "      <td>3.090000</td>\n",
       "      <td>13</td>\n",
       "      <td>4</td>\n",
       "      <td>1</td>\n",
       "    </tr>\n",
       "    <tr>\n",
       "      <th>...</th>\n",
       "      <td>...</td>\n",
       "      <td>...</td>\n",
       "      <td>...</td>\n",
       "      <td>...</td>\n",
       "    </tr>\n",
       "    <tr>\n",
       "      <th>993</th>\n",
       "      <td>35.419998</td>\n",
       "      <td>18</td>\n",
       "      <td>23</td>\n",
       "      <td>1</td>\n",
       "    </tr>\n",
       "    <tr>\n",
       "      <th>994</th>\n",
       "      <td>36.840000</td>\n",
       "      <td>16</td>\n",
       "      <td>7</td>\n",
       "      <td>1</td>\n",
       "    </tr>\n",
       "    <tr>\n",
       "      <th>995</th>\n",
       "      <td>41.320000</td>\n",
       "      <td>16</td>\n",
       "      <td>11</td>\n",
       "      <td>1</td>\n",
       "    </tr>\n",
       "    <tr>\n",
       "      <th>996</th>\n",
       "      <td>47.220001</td>\n",
       "      <td>18</td>\n",
       "      <td>35</td>\n",
       "      <td>1</td>\n",
       "    </tr>\n",
       "    <tr>\n",
       "      <th>997</th>\n",
       "      <td>60.189999</td>\n",
       "      <td>16</td>\n",
       "      <td>33</td>\n",
       "      <td>1</td>\n",
       "    </tr>\n",
       "  </tbody>\n",
       "</table>\n",
       "<p>998 rows × 4 columns</p>\n",
       "</div>"
      ],
      "text/plain": [
       "          wage  educ  exper  metro\n",
       "0     2.070000    12      7      1\n",
       "1     2.120000    12     35      1\n",
       "2     2.540000    16     20      1\n",
       "3     2.680000    12     24      1\n",
       "4     3.090000    13      4      1\n",
       "..         ...   ...    ...    ...\n",
       "993  35.419998    18     23      1\n",
       "994  36.840000    16      7      1\n",
       "995  41.320000    16     11      1\n",
       "996  47.220001    18     35      1\n",
       "997  60.189999    16     33      1\n",
       "\n",
       "[998 rows x 4 columns]"
      ]
     },
     "execution_count": 2,
     "metadata": {},
     "output_type": "execute_result"
    }
   ],
   "source": [
    "df = pd.read_csv('/Users/riccardo/Desktop/Repositorys_Github/Training/Dataset/wage.csv', sep=\";\", index_col=False)\n",
    "df "
   ]
  },
  {
   "cell_type": "code",
   "execution_count": 4,
   "metadata": {},
   "outputs": [
    {
     "data": {
      "text/html": [
       "<div>\n",
       "<style scoped>\n",
       "    .dataframe tbody tr th:only-of-type {\n",
       "        vertical-align: middle;\n",
       "    }\n",
       "\n",
       "    .dataframe tbody tr th {\n",
       "        vertical-align: top;\n",
       "    }\n",
       "\n",
       "    .dataframe thead th {\n",
       "        text-align: right;\n",
       "    }\n",
       "</style>\n",
       "<table border=\"1\" class=\"dataframe\">\n",
       "  <thead>\n",
       "    <tr style=\"text-align: right;\">\n",
       "      <th></th>\n",
       "      <th>wage</th>\n",
       "    </tr>\n",
       "  </thead>\n",
       "  <tbody>\n",
       "    <tr>\n",
       "      <th>0</th>\n",
       "      <td>2.07</td>\n",
       "    </tr>\n",
       "    <tr>\n",
       "      <th>1</th>\n",
       "      <td>2.12</td>\n",
       "    </tr>\n",
       "    <tr>\n",
       "      <th>2</th>\n",
       "      <td>2.54</td>\n",
       "    </tr>\n",
       "    <tr>\n",
       "      <th>3</th>\n",
       "      <td>2.68</td>\n",
       "    </tr>\n",
       "    <tr>\n",
       "      <th>4</th>\n",
       "      <td>3.09</td>\n",
       "    </tr>\n",
       "  </tbody>\n",
       "</table>\n",
       "</div>"
      ],
      "text/plain": [
       "   wage\n",
       "0  2.07\n",
       "1  2.12\n",
       "2  2.54\n",
       "3  2.68\n",
       "4  3.09"
      ]
     },
     "execution_count": 4,
     "metadata": {},
     "output_type": "execute_result"
    }
   ],
   "source": [
    "X = df[['educ', 'exper']]\n",
    "y = df[['wage']]\n",
    "X.head()\n",
    "y.head()"
   ]
  },
  {
   "cell_type": "code",
   "execution_count": 5,
   "metadata": {},
   "outputs": [],
   "source": [
    "# Annahme: df ist ein Pandas DataFrame\n",
    "X_train, y_train = X.iloc[:700], y.iloc[:700, -1]\n",
    "X_valid, y_valid = X.iloc[700:900], y.iloc[700:900, -1]\n",
    "X_test, y_test = X.iloc[900:], y.iloc[900:, -1]\n",
    "\n"
   ]
  },
  {
   "cell_type": "code",
   "execution_count": 6,
   "metadata": {},
   "outputs": [
    {
     "name": "stdout",
     "output_type": "stream",
     "text": [
      "Der X Test Datensatz besthet aus:  (700, 2) Der Y Test Datensatz besthet aus:  (700,)\n",
      "Der X_test Datensatz besthet aus:  (98, 2) Der y_test Datensatz besteht  aus:  (98,)\n",
      "X_train  <class 'pandas.core.frame.DataFrame'> y_train type: <class 'pandas.core.series.Series'> X_test type: <class 'pandas.core.frame.DataFrame'> X_test type: <class 'pandas.core.series.Series'> X_val <class 'pandas.core.frame.DataFrame'> y_val <class 'pandas.core.series.Series'>\n"
     ]
    }
   ],
   "source": [
    "print(\"Der X Test Datensatz besthet aus: \", X_train.shape, \"Der Y Test Datensatz besthet aus: \", y_train.shape)\n",
    "print(\"Der X_test Datensatz besthet aus: \", X_test.shape,\"Der y_test Datensatz besteht  aus: \", y_test.shape)\n",
    "print(\"X_train \", type(X_train), \"y_train type:\", type(y_train), \n",
    "      \"X_test type:\",type(X_test), \"X_test type:\",type(y_test), \n",
    "      \"X_val\", type(X_valid), \"y_val\", type(y_valid))"
   ]
  },
  {
   "cell_type": "code",
   "execution_count": 7,
   "metadata": {},
   "outputs": [
    {
     "data": {
      "text/plain": [
       "158.0"
      ]
     },
     "execution_count": 7,
     "metadata": {},
     "output_type": "execute_result"
    }
   ],
   "source": [
    "y_pred = X_valid.iloc[:, -1].values\n",
    "np.mean(keras.losses.mean_squared_error(y_valid, y_pred))"
   ]
  },
  {
   "cell_type": "markdown",
   "metadata": {},
   "source": [
    "# Model 1 "
   ]
  },
  {
   "cell_type": "code",
   "execution_count": 18,
   "metadata": {},
   "outputs": [
    {
     "name": "stdout",
     "output_type": "stream",
     "text": [
      "Model: \"sequential_1\"\n",
      "_________________________________________________________________\n",
      " Layer (type)                Output Shape              Param #   \n",
      "=================================================================\n",
      " layer1 (Dense)              (None, 20)                60        \n",
      "                                                                 \n",
      " layer2 (Dense)              (None, 30)                630       \n",
      "                                                                 \n",
      " layer3 (Dense)              (None, 40)                1240      \n",
      "                                                                 \n",
      " Output (Dense)              (None, 1)                 41        \n",
      "                                                                 \n",
      "=================================================================\n",
      "Total params: 1,971\n",
      "Trainable params: 1,971\n",
      "Non-trainable params: 0\n",
      "_________________________________________________________________\n"
     ]
    }
   ],
   "source": [
    "from keras.models import Sequential\n",
    "from keras.layers import InputLayer, Dense\n",
    "from keras.optimizers import Adam\n",
    "\n",
    "model = Sequential([\n",
    "    InputLayer(input_shape=X_train.shape[-1], name=\"Input\"),\n",
    "    Dense(20, activation=\"sigmoid\", name=\"layer1\"),\n",
    "    Dense(30, name=\"layer2\"),\n",
    "    Dense(40, name=\"layer3\"),\n",
    "    Dense(1, name=\"Output\"),\n",
    "])\n",
    "\n",
    "optimizer = Adam(learning_rate=0.005)  # Default learning rate\n",
    "model.compile(loss='mean_squared_error', optimizer=optimizer)  # Using MSE for loss and MAE for metrics\n",
    "model.summary()\n"
   ]
  },
  {
   "cell_type": "code",
   "execution_count": 19,
   "metadata": {},
   "outputs": [
    {
     "name": "stdout",
     "output_type": "stream",
     "text": [
      "Epoch 1/30\n",
      "22/22 [==============================] - 0s 4ms/step - loss: 13.2879 - val_loss: 75.1991\n",
      "Epoch 2/30\n",
      "22/22 [==============================] - 0s 2ms/step - loss: 6.4660 - val_loss: 58.0598\n",
      "Epoch 3/30\n",
      "22/22 [==============================] - 0s 1ms/step - loss: 5.9199 - val_loss: 63.0609\n",
      "Epoch 4/30\n",
      "22/22 [==============================] - 0s 1ms/step - loss: 5.9827 - val_loss: 53.0061\n",
      "Epoch 5/30\n",
      "22/22 [==============================] - 0s 1ms/step - loss: 5.8211 - val_loss: 49.2947\n",
      "Epoch 6/30\n",
      "22/22 [==============================] - 0s 1ms/step - loss: 5.8150 - val_loss: 51.6705\n",
      "Epoch 7/30\n",
      "22/22 [==============================] - 0s 1ms/step - loss: 5.7314 - val_loss: 52.6352\n",
      "Epoch 8/30\n",
      "22/22 [==============================] - 0s 1ms/step - loss: 5.6372 - val_loss: 44.4297\n",
      "Epoch 9/30\n",
      "22/22 [==============================] - 0s 1ms/step - loss: 5.7526 - val_loss: 46.0861\n",
      "Epoch 10/30\n",
      "22/22 [==============================] - 0s 1ms/step - loss: 5.5818 - val_loss: 54.5387\n",
      "Epoch 11/30\n",
      "22/22 [==============================] - 0s 1ms/step - loss: 5.6956 - val_loss: 49.5263\n",
      "Epoch 12/30\n",
      "22/22 [==============================] - 0s 1ms/step - loss: 5.9214 - val_loss: 50.6010\n",
      "Epoch 13/30\n",
      "22/22 [==============================] - 0s 1ms/step - loss: 5.6175 - val_loss: 52.0163\n",
      "Epoch 14/30\n",
      "22/22 [==============================] - 0s 1ms/step - loss: 5.5736 - val_loss: 55.0869\n",
      "Epoch 15/30\n",
      "22/22 [==============================] - 0s 1ms/step - loss: 5.5767 - val_loss: 47.8884\n",
      "Epoch 16/30\n",
      "22/22 [==============================] - 0s 1ms/step - loss: 5.5317 - val_loss: 49.3626\n",
      "Epoch 17/30\n",
      "22/22 [==============================] - 0s 1ms/step - loss: 5.5291 - val_loss: 56.0372\n",
      "Epoch 18/30\n",
      "22/22 [==============================] - 0s 1ms/step - loss: 5.8366 - val_loss: 48.7844\n",
      "Epoch 19/30\n",
      "22/22 [==============================] - 0s 1ms/step - loss: 5.4768 - val_loss: 56.0551\n",
      "Epoch 20/30\n",
      "22/22 [==============================] - 0s 1ms/step - loss: 5.6483 - val_loss: 47.1578\n",
      "Epoch 21/30\n",
      "22/22 [==============================] - 0s 1ms/step - loss: 5.5035 - val_loss: 57.1319\n",
      "Epoch 22/30\n",
      "22/22 [==============================] - 0s 1ms/step - loss: 5.4681 - val_loss: 50.7071\n",
      "Epoch 23/30\n",
      "22/22 [==============================] - 0s 1ms/step - loss: 5.5241 - val_loss: 52.1112\n",
      "Epoch 24/30\n",
      "22/22 [==============================] - 0s 1ms/step - loss: 5.5009 - val_loss: 58.0349\n",
      "Epoch 25/30\n",
      "22/22 [==============================] - 0s 1ms/step - loss: 5.5666 - val_loss: 42.9123\n",
      "Epoch 26/30\n",
      "22/22 [==============================] - 0s 1ms/step - loss: 5.4734 - val_loss: 50.7185\n",
      "Epoch 27/30\n",
      "22/22 [==============================] - 0s 1ms/step - loss: 5.4957 - val_loss: 45.6887\n",
      "Epoch 28/30\n",
      "22/22 [==============================] - 0s 1ms/step - loss: 5.4647 - val_loss: 53.0130\n",
      "Epoch 29/30\n",
      "22/22 [==============================] - 0s 1ms/step - loss: 5.6550 - val_loss: 47.2843\n",
      "Epoch 30/30\n",
      "22/22 [==============================] - 0s 1ms/step - loss: 5.7104 - val_loss: 55.6189\n"
     ]
    }
   ],
   "source": [
    "# Beispiel für das Modelltraining\n",
    "history = model.fit(X_train, y_train, epochs=30, batch_size=32, validation_data=(X_valid, y_valid))\n"
   ]
  },
  {
   "cell_type": "code",
   "execution_count": 41,
   "metadata": {},
   "outputs": [
    {
     "data": {
      "image/png": "[encoded data removed]",
      "text/plain": [
       "<Figure size 640x480 with 1 Axes>"
      ]
     },
     "metadata": {},
     "output_type": "display_data"
    }
   ],
   "source": [
    "def create_plt_loss(history, x_tick_min = int, x_tick_max = int, x_tick_step = int):\n",
    "    \"\"\"\n",
    "    Create a plot for the loss of the model\n",
    "\n",
    "    Input : \n",
    "    - history : history of the model  \n",
    "    - x_ticks : list of integers for the x-axis\n",
    "\n",
    "    Output : \n",
    "    - Plot of the loss\n",
    "    \"\"\"\n",
    "    plt.plot(history.history['loss'], label='Train Loss')\n",
    "    plt.xticks(np.arange(x_tick_min, x_tick_max, \n",
    "                         step=x_tick_step))\n",
    "    plt.grid(True)\n",
    "    plt.xlabel('Epochs')\n",
    "    plt.ylabel('Loss')\n",
    "    plt.legend()\n",
    "    plt.show()\n",
    "    return plt.show()\n",
    "\n",
    "create_plt_loss(history, x_tick_min = 0, \n",
    "                x_tick_max =  30, x_tick_step=2)"
   ]
  },
  {
   "cell_type": "code",
   "execution_count": 67,
   "metadata": {},
   "outputs": [
    {
     "data": {
      "image/png": "[encoded data removed]",
      "text/plain": [
       "<Figure size 640x480 with 1 Axes>"
      ]
     },
     "metadata": {},
     "output_type": "display_data"
    }
   ],
   "source": [
    "def create_plt_val_los(history, x_tick_min = int, x_tick_max = int, x_tick_step = int):\n",
    "    \"\"\"\n",
    "    Create a plot for the loss of the model\n",
    "\n",
    "    Input : \n",
    "    - history : history of the model  \n",
    "    - x_ticks : list of integers for the x-axis\n",
    "\n",
    "    Output : \n",
    "    - Plot of the loss\n",
    "    \"\"\"\n",
    "    plt.plot(history.history['val_loss'], label='Validation Loss')\n",
    "    plt.xticks(np.arange(x_tick_min, x_tick_max, \n",
    "                         step=x_tick_step))\n",
    "    plt.grid(True)\n",
    "    plt.xlabel('Epochs')\n",
    "    plt.ylabel('Loss')\n",
    "    plt.legend()\n",
    "    plt.show()\n",
    "    return plt.show()\n",
    "\n",
    "    \n",
    "create_plt_val_los(history, x_tick_min = 0,x_tick_max=30, x_tick_step=2)"
   ]
  },
  {
   "cell_type": "code",
   "execution_count": 44,
   "metadata": {},
   "outputs": [
    {
     "name": "stdout",
     "output_type": "stream",
     "text": [
      "4/4 [==============================] - 0s 5ms/step - loss: 319.1094\n",
      "Test Loss: 319.1094055175781\n"
     ]
    }
   ],
   "source": [
    "# Beispiel für die Modellbewertung\n",
    "test_loss = model.evaluate(X_test, y_test)\n",
    "print(\"Test Loss:\", test_loss)\n"
   ]
  },
  {
   "cell_type": "code",
   "execution_count": 45,
   "metadata": {},
   "outputs": [
    {
     "name": "stdout",
     "output_type": "stream",
     "text": [
      "4/4 [==============================] - 0s 550us/step\n"
     ]
    },
    {
     "data": {
      "text/plain": [
       "(98, 1)"
      ]
     },
     "execution_count": 45,
     "metadata": {},
     "output_type": "execute_result"
    }
   ],
   "source": [
    "predictions = model.predict(X_test)\n",
    "predictions.shape"
   ]
  },
  {
   "cell_type": "code",
   "execution_count": 46,
   "metadata": {},
   "outputs": [
    {
     "data": {
      "text/plain": [
       "((98,), (98, 1))"
      ]
     },
     "execution_count": 46,
     "metadata": {},
     "output_type": "execute_result"
    }
   ],
   "source": [
    "y_test.shape, predictions.shape"
   ]
  },
  {
   "cell_type": "code",
   "execution_count": 47,
   "metadata": {},
   "outputs": [
    {
     "data": {
      "text/html": [
       "<div>\n",
       "<style scoped>\n",
       "    .dataframe tbody tr th:only-of-type {\n",
       "        vertical-align: middle;\n",
       "    }\n",
       "\n",
       "    .dataframe tbody tr th {\n",
       "        vertical-align: top;\n",
       "    }\n",
       "\n",
       "    .dataframe thead th {\n",
       "        text-align: right;\n",
       "    }\n",
       "</style>\n",
       "<table border=\"1\" class=\"dataframe\">\n",
       "  <thead>\n",
       "    <tr style=\"text-align: right;\">\n",
       "      <th></th>\n",
       "      <th>True Values</th>\n",
       "      <th>Predicted Values</th>\n",
       "    </tr>\n",
       "  </thead>\n",
       "  <tbody>\n",
       "    <tr>\n",
       "      <th>0</th>\n",
       "      <td>18.230000</td>\n",
       "      <td>7.737133</td>\n",
       "    </tr>\n",
       "    <tr>\n",
       "      <th>1</th>\n",
       "      <td>18.270000</td>\n",
       "      <td>7.139068</td>\n",
       "    </tr>\n",
       "    <tr>\n",
       "      <th>2</th>\n",
       "      <td>18.330000</td>\n",
       "      <td>6.463645</td>\n",
       "    </tr>\n",
       "    <tr>\n",
       "      <th>3</th>\n",
       "      <td>18.389999</td>\n",
       "      <td>6.658182</td>\n",
       "    </tr>\n",
       "    <tr>\n",
       "      <th>4</th>\n",
       "      <td>18.420000</td>\n",
       "      <td>7.936142</td>\n",
       "    </tr>\n",
       "    <tr>\n",
       "      <th>...</th>\n",
       "      <td>...</td>\n",
       "      <td>...</td>\n",
       "    </tr>\n",
       "    <tr>\n",
       "      <th>93</th>\n",
       "      <td>35.419998</td>\n",
       "      <td>7.925593</td>\n",
       "    </tr>\n",
       "    <tr>\n",
       "      <th>94</th>\n",
       "      <td>36.840000</td>\n",
       "      <td>7.561083</td>\n",
       "    </tr>\n",
       "    <tr>\n",
       "      <th>95</th>\n",
       "      <td>41.320000</td>\n",
       "      <td>7.549229</td>\n",
       "    </tr>\n",
       "    <tr>\n",
       "      <th>96</th>\n",
       "      <td>47.220001</td>\n",
       "      <td>7.826093</td>\n",
       "    </tr>\n",
       "    <tr>\n",
       "      <th>97</th>\n",
       "      <td>60.189999</td>\n",
       "      <td>7.615135</td>\n",
       "    </tr>\n",
       "  </tbody>\n",
       "</table>\n",
       "<p>98 rows × 2 columns</p>\n",
       "</div>"
      ],
      "text/plain": [
       "    True Values  Predicted Values\n",
       "0     18.230000          7.737133\n",
       "1     18.270000          7.139068\n",
       "2     18.330000          6.463645\n",
       "3     18.389999          6.658182\n",
       "4     18.420000          7.936142\n",
       "..          ...               ...\n",
       "93    35.419998          7.925593\n",
       "94    36.840000          7.561083\n",
       "95    41.320000          7.549229\n",
       "96    47.220001          7.826093\n",
       "97    60.189999          7.615135\n",
       "\n",
       "[98 rows x 2 columns]"
      ]
     },
     "execution_count": 47,
     "metadata": {},
     "output_type": "execute_result"
    }
   ],
   "source": [
    "# Erstelle eine DataFrame für die wahren und vorhergesagten Werte\n",
    "results_df = pd.DataFrame({\n",
    "    'True Values': y_test.values.flatten(),\n",
    "    'Predicted Values': predictions.flatten()\n",
    "})\n",
    "results_df"
   ]
  },
  {
   "cell_type": "markdown",
   "metadata": {},
   "source": [
    "# Ende Model 1"
   ]
  },
  {
   "cell_type": "code",
   "execution_count": null,
   "metadata": {},
   "outputs": [],
   "source": []
  },
  {
   "cell_type": "code",
   "execution_count": null,
   "metadata": {},
   "outputs": [],
   "source": []
  },
  {
   "cell_type": "markdown",
   "metadata": {},
   "source": [
    "# Model 2 "
   ]
  },
  {
   "cell_type": "markdown",
   "metadata": {},
   "source": [
    "2 Model:"
   ]
  },
  {
   "cell_type": "code",
   "execution_count": 59,
   "metadata": {},
   "outputs": [
    {
     "name": "stderr",
     "output_type": "stream",
     "text": [
      "2024-03-03 21:08:18.949844: I tensorflow/core/common_runtime/executor.cc:1197] [/device:CPU:0] (DEBUG INFO) Executor start aborting (this does not indicate an error and you can ignore this message): INVALID_ARGUMENT: You must feed a value for placeholder tensor 'gradients/split_2_grad/concat/split_2/split_dim' with dtype int32\n",
      "\t [[{{node gradients/split_2_grad/concat/split_2/split_dim}}]]\n",
      "2024-03-03 21:08:18.950467: I tensorflow/core/common_runtime/executor.cc:1197] [/device:CPU:0] (DEBUG INFO) Executor start aborting (this does not indicate an error and you can ignore this message): INVALID_ARGUMENT: You must feed a value for placeholder tensor 'gradients/split_grad/concat/split/split_dim' with dtype int32\n",
      "\t [[{{node gradients/split_grad/concat/split/split_dim}}]]\n",
      "2024-03-03 21:08:18.952488: I tensorflow/core/common_runtime/executor.cc:1197] [/device:CPU:0] (DEBUG INFO) Executor start aborting (this does not indicate an error and you can ignore this message): INVALID_ARGUMENT: You must feed a value for placeholder tensor 'gradients/split_1_grad/concat/split_1/split_dim' with dtype int32\n",
      "\t [[{{node gradients/split_1_grad/concat/split_1/split_dim}}]]\n"
     ]
    },
    {
     "name": "stdout",
     "output_type": "stream",
     "text": [
      "Model: \"sequential_9\"\n",
      "_________________________________________________________________\n",
      " Layer (type)                Output Shape              Param #   \n",
      "=================================================================\n",
      " lstm_12 (LSTM)              (None, 2, 50)             10400     \n",
      "                                                                 \n",
      " lstm_13 (LSTM)              (None, 50)                20200     \n",
      "                                                                 \n",
      " dense_5 (Dense)             (None, 1)                 51        \n",
      "                                                                 \n",
      "=================================================================\n",
      "Total params: 30,651\n",
      "Trainable params: 30,651\n",
      "Non-trainable params: 0\n",
      "_________________________________________________________________\n"
     ]
    }
   ],
   "source": [
    "# Model infrastructure\n",
    "\n",
    "model_2 = Sequential()\n",
    "model_2.add(LSTM(units=50, return_sequences=True, input_shape=(X_train.shape[1],1)))\n",
    "model_2.add(LSTM(units=50, return_sequences=False, activation = \"sigmoid\"))\n",
    "model_2.add(Dense(units=1))\n",
    "    "
   ]
  },
  {
   "cell_type": "code",
   "execution_count": null,
   "metadata": {},
   "outputs": [],
   "source": [
    "model_2.compile(optimizer='adam', loss='mean_squared_error')     \n",
    "model_2.summary() "
   ]
  },
  {
   "cell_type": "code",
   "execution_count": 74,
   "metadata": {},
   "outputs": [
    {
     "name": "stdout",
     "output_type": "stream",
     "text": [
      "Epoch 1/20\n",
      "690/700 [============================>.] - ETA: 0s - loss: 5.5473"
     ]
    },
    {
     "name": "stderr",
     "output_type": "stream",
     "text": [
      "2024-03-03 21:14:13.227027: I tensorflow/core/common_runtime/executor.cc:1197] [/device:CPU:0] (DEBUG INFO) Executor start aborting (this does not indicate an error and you can ignore this message): INVALID_ARGUMENT: You must feed a value for placeholder tensor 'gradients/split_2_grad/concat/split_2/split_dim' with dtype int32\n",
      "\t [[{{node gradients/split_2_grad/concat/split_2/split_dim}}]]\n",
      "2024-03-03 21:14:13.227463: I tensorflow/core/common_runtime/executor.cc:1197] [/device:CPU:0] (DEBUG INFO) Executor start aborting (this does not indicate an error and you can ignore this message): INVALID_ARGUMENT: You must feed a value for placeholder tensor 'gradients/split_grad/concat/split/split_dim' with dtype int32\n",
      "\t [[{{node gradients/split_grad/concat/split/split_dim}}]]\n",
      "2024-03-03 21:14:13.228167: I tensorflow/core/common_runtime/executor.cc:1197] [/device:CPU:0] (DEBUG INFO) Executor start aborting (this does not indicate an error and you can ignore this message): INVALID_ARGUMENT: You must feed a value for placeholder tensor 'gradients/split_1_grad/concat/split_1/split_dim' with dtype int32\n",
      "\t [[{{node gradients/split_1_grad/concat/split_1/split_dim}}]]\n"
     ]
    },
    {
     "name": "stdout",
     "output_type": "stream",
     "text": [
      "700/700 [==============================] - 1s 1ms/step - loss: 5.5301 - val_loss: 51.0845\n",
      "Epoch 2/20\n",
      "700/700 [==============================] - 1s 996us/step - loss: 5.5226 - val_loss: 50.1922\n",
      "Epoch 3/20\n",
      "700/700 [==============================] - 1s 980us/step - loss: 5.5728 - val_loss: 52.3755\n",
      "Epoch 4/20\n",
      "700/700 [==============================] - 1s 975us/step - loss: 5.5716 - val_loss: 56.0640\n",
      "Epoch 5/20\n",
      "700/700 [==============================] - 1s 1ms/step - loss: 5.4932 - val_loss: 48.7217\n",
      "Epoch 6/20\n",
      "700/700 [==============================] - 1s 978us/step - loss: 5.5286 - val_loss: 48.3456\n",
      "Epoch 7/20\n",
      "700/700 [==============================] - 1s 981us/step - loss: 5.4521 - val_loss: 51.5617\n",
      "Epoch 8/20\n",
      "700/700 [==============================] - 1s 1ms/step - loss: 5.4737 - val_loss: 50.7799\n",
      "Epoch 9/20\n",
      "700/700 [==============================] - 1s 1ms/step - loss: 5.4783 - val_loss: 52.3258\n",
      "Epoch 10/20\n",
      "700/700 [==============================] - 1s 967us/step - loss: 5.5227 - val_loss: 50.7039\n",
      "Epoch 11/20\n",
      "700/700 [==============================] - 1s 1ms/step - loss: 5.4910 - val_loss: 51.7447\n",
      "Epoch 12/20\n",
      "700/700 [==============================] - 1s 1ms/step - loss: 5.4968 - val_loss: 49.7607\n",
      "Epoch 13/20\n",
      "700/700 [==============================] - 1s 978us/step - loss: 5.4570 - val_loss: 47.3887\n",
      "Epoch 14/20\n",
      "700/700 [==============================] - 1s 977us/step - loss: 5.4737 - val_loss: 44.3683\n",
      "Epoch 15/20\n",
      "700/700 [==============================] - 1s 977us/step - loss: 5.4542 - val_loss: 46.6808\n",
      "Epoch 16/20\n",
      "700/700 [==============================] - 1s 1ms/step - loss: 5.5103 - val_loss: 49.4865\n",
      "Epoch 17/20\n",
      "700/700 [==============================] - 1s 1ms/step - loss: 5.3799 - val_loss: 48.4754\n",
      "Epoch 18/20\n",
      "700/700 [==============================] - 1s 998us/step - loss: 5.4873 - val_loss: 45.8994\n",
      "Epoch 19/20\n",
      "700/700 [==============================] - 1s 1ms/step - loss: 5.4813 - val_loss: 46.2401\n",
      "Epoch 20/20\n",
      "700/700 [==============================] - 1s 1ms/step - loss: 5.4489 - val_loss: 44.6992\n"
     ]
    },
    {
     "data": {
      "text/plain": [
       "<keras.callbacks.History at 0x156f675b0>"
      ]
     },
     "execution_count": 74,
     "metadata": {},
     "output_type": "execute_result"
    }
   ],
   "source": [
    "history_2 = model_2.fit(X_train, y_train, epochs=20, batch_size=1, validation_data=(X_valid, y_valid))\n",
    "history_2"
   ]
  },
  {
   "cell_type": "code",
   "execution_count": 78,
   "metadata": {},
   "outputs": [
    {
     "data": {
      "image/png": "[encoded data removed]",
      "text/plain": [
       "<Figure size 640x480 with 1 Axes>"
      ]
     },
     "metadata": {},
     "output_type": "display_data"
    }
   ],
   "source": [
    "create_plt_loss(history_2, x_tick_min = 0,x_tick_max=22, x_tick_step=2)"
   ]
  },
  {
   "cell_type": "code",
   "execution_count": 79,
   "metadata": {},
   "outputs": [
    {
     "data": {
      "image/png": "[encoded data removed]",
      "text/plain": [
       "<Figure size 640x480 with 1 Axes>"
      ]
     },
     "metadata": {},
     "output_type": "display_data"
    }
   ],
   "source": [
    "create_plt_val_los(history_2, x_tick_min = 0,x_tick_max=22, x_tick_step=2)  "
   ]
  },
  {
   "cell_type": "code",
   "execution_count": 81,
   "metadata": {},
   "outputs": [
    {
     "name": "stdout",
     "output_type": "stream",
     "text": [
      "4/4 [==============================] - 0s 2ms/step - loss: 295.5969\n",
      "Test Loss of Model 1: 319.1094055175781\n",
      "Test Loss of Model 2: 295.596923828125\n"
     ]
    }
   ],
   "source": [
    "test_loss_2 = model_2.evaluate(X_test, y_test)\n",
    "print(\"Test Loss of Model 1:\", test_loss)\n",
    "print(\"Test Loss of Model 2:\", test_loss_2)"
   ]
  },
  {
   "cell_type": "code",
   "execution_count": 82,
   "metadata": {},
   "outputs": [
    {
     "name": "stdout",
     "output_type": "stream",
     "text": [
      "4/4 [==============================] - 0s 865us/step\n"
     ]
    },
    {
     "name": "stderr",
     "output_type": "stream",
     "text": [
      "2024-03-03 21:21:01.434883: I tensorflow/core/common_runtime/executor.cc:1197] [/device:CPU:0] (DEBUG INFO) Executor start aborting (this does not indicate an error and you can ignore this message): INVALID_ARGUMENT: You must feed a value for placeholder tensor 'gradients/split_2_grad/concat/split_2/split_dim' with dtype int32\n",
      "\t [[{{node gradients/split_2_grad/concat/split_2/split_dim}}]]\n",
      "2024-03-03 21:21:01.435315: I tensorflow/core/common_runtime/executor.cc:1197] [/device:CPU:0] (DEBUG INFO) Executor start aborting (this does not indicate an error and you can ignore this message): INVALID_ARGUMENT: You must feed a value for placeholder tensor 'gradients/split_grad/concat/split/split_dim' with dtype int32\n",
      "\t [[{{node gradients/split_grad/concat/split/split_dim}}]]\n",
      "2024-03-03 21:21:01.435770: I tensorflow/core/common_runtime/executor.cc:1197] [/device:CPU:0] (DEBUG INFO) Executor start aborting (this does not indicate an error and you can ignore this message): INVALID_ARGUMENT: You must feed a value for placeholder tensor 'gradients/split_1_grad/concat/split_1/split_dim' with dtype int32\n",
      "\t [[{{node gradients/split_1_grad/concat/split_1/split_dim}}]]\n"
     ]
    },
    {
     "data": {
      "text/plain": [
       "(98, 1)"
      ]
     },
     "execution_count": 82,
     "metadata": {},
     "output_type": "execute_result"
    }
   ],
   "source": [
    "predictions_2 = model_2.predict(X_test)\n",
    "predictions_2.shape"
   ]
  },
  {
   "cell_type": "code",
   "execution_count": 83,
   "metadata": {},
   "outputs": [
    {
     "data": {
      "text/html": [
       "<div>\n",
       "<style scoped>\n",
       "    .dataframe tbody tr th:only-of-type {\n",
       "        vertical-align: middle;\n",
       "    }\n",
       "\n",
       "    .dataframe tbody tr th {\n",
       "        vertical-align: top;\n",
       "    }\n",
       "\n",
       "    .dataframe thead th {\n",
       "        text-align: right;\n",
       "    }\n",
       "</style>\n",
       "<table border=\"1\" class=\"dataframe\">\n",
       "  <thead>\n",
       "    <tr style=\"text-align: right;\">\n",
       "      <th></th>\n",
       "      <th>True Values</th>\n",
       "      <th>Predicted Values</th>\n",
       "    </tr>\n",
       "  </thead>\n",
       "  <tbody>\n",
       "    <tr>\n",
       "      <th>0</th>\n",
       "      <td>18.230000</td>\n",
       "      <td>8.334155</td>\n",
       "    </tr>\n",
       "    <tr>\n",
       "      <th>1</th>\n",
       "      <td>18.270000</td>\n",
       "      <td>8.219435</td>\n",
       "    </tr>\n",
       "    <tr>\n",
       "      <th>2</th>\n",
       "      <td>18.330000</td>\n",
       "      <td>7.633757</td>\n",
       "    </tr>\n",
       "    <tr>\n",
       "      <th>3</th>\n",
       "      <td>18.389999</td>\n",
       "      <td>7.680062</td>\n",
       "    </tr>\n",
       "    <tr>\n",
       "      <th>4</th>\n",
       "      <td>18.420000</td>\n",
       "      <td>8.397002</td>\n",
       "    </tr>\n",
       "    <tr>\n",
       "      <th>...</th>\n",
       "      <td>...</td>\n",
       "      <td>...</td>\n",
       "    </tr>\n",
       "    <tr>\n",
       "      <th>93</th>\n",
       "      <td>35.419998</td>\n",
       "      <td>8.418233</td>\n",
       "    </tr>\n",
       "    <tr>\n",
       "      <th>94</th>\n",
       "      <td>36.840000</td>\n",
       "      <td>8.346364</td>\n",
       "    </tr>\n",
       "    <tr>\n",
       "      <th>95</th>\n",
       "      <td>41.320000</td>\n",
       "      <td>8.388777</td>\n",
       "    </tr>\n",
       "    <tr>\n",
       "      <th>96</th>\n",
       "      <td>47.220001</td>\n",
       "      <td>8.339531</td>\n",
       "    </tr>\n",
       "    <tr>\n",
       "      <th>97</th>\n",
       "      <td>60.189999</td>\n",
       "      <td>8.268551</td>\n",
       "    </tr>\n",
       "  </tbody>\n",
       "</table>\n",
       "<p>98 rows × 2 columns</p>\n",
       "</div>"
      ],
      "text/plain": [
       "    True Values  Predicted Values\n",
       "0     18.230000          8.334155\n",
       "1     18.270000          8.219435\n",
       "2     18.330000          7.633757\n",
       "3     18.389999          7.680062\n",
       "4     18.420000          8.397002\n",
       "..          ...               ...\n",
       "93    35.419998          8.418233\n",
       "94    36.840000          8.346364\n",
       "95    41.320000          8.388777\n",
       "96    47.220001          8.339531\n",
       "97    60.189999          8.268551\n",
       "\n",
       "[98 rows x 2 columns]"
      ]
     },
     "execution_count": 83,
     "metadata": {},
     "output_type": "execute_result"
    }
   ],
   "source": [
    "# Erstelle eine DataFrame für die wahren und vorhergesagten Werte\n",
    "results_df_2 = pd.DataFrame({\n",
    "    'True Values': y_test.values.flatten(),\n",
    "    'Predicted Values': predictions_2.flatten()\n",
    "})\n",
    "results_df_2"
   ]
  },
  {
   "cell_type": "code",
   "execution_count": 85,
   "metadata": {},
   "outputs": [
    {
     "data": {
      "text/plain": [
       "<Axes: >"
      ]
     },
     "execution_count": 85,
     "metadata": {},
     "output_type": "execute_result"
    },
    {
     "data": {
      "image/png": "[encoded data removed]",
      "text/plain": [
       "<Figure size 640x480 with 1 Axes>"
      ]
     },
     "metadata": {},
     "output_type": "display_data"
    }
   ],
   "source": [
    "results_df.plot()"
   ]
  }
 ],
 "metadata": {
  "kernelspec": {
   "display_name": "model",
   "language": "python",
   "name": "python3"
  },
  "language_info": {
   "codemirror_mode": {
    "name": "ipython",
    "version": 3
   },
   "file_extension": ".py",
   "mimetype": "text/x-python",
   "name": "python",
   "nbconvert_exporter": "python",
   "pygments_lexer": "ipython3",
   "version": "3.9.18"
  }
 },
 "nbformat": 4,
 "nbformat_minor": 2
}

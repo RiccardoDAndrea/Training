{
 "cells": [
  {
   "cell_type": "code",
   "execution_count": 1,
   "metadata": {},
   "outputs": [],
   "source": [
    "import keras\n",
    "import pandas as pd\n",
    "from sklearn.model_selection import train_test_split\n",
    "from keras.models import Sequential\n",
    "from keras.layers import InputLayer, Dense\n",
    "import numpy as np\n",
    "import tensorflow as tf\n",
    "\n"
   ]
  },
  {
   "cell_type": "code",
   "execution_count": 2,
   "metadata": {},
   "outputs": [
    {
     "data": {
      "text/html": [
       "<div>\n",
       "<style scoped>\n",
       "    .dataframe tbody tr th:only-of-type {\n",
       "        vertical-align: middle;\n",
       "    }\n",
       "\n",
       "    .dataframe tbody tr th {\n",
       "        vertical-align: top;\n",
       "    }\n",
       "\n",
       "    .dataframe thead th {\n",
       "        text-align: right;\n",
       "    }\n",
       "</style>\n",
       "<table border=\"1\" class=\"dataframe\">\n",
       "  <thead>\n",
       "    <tr style=\"text-align: right;\">\n",
       "      <th></th>\n",
       "      <th>wage</th>\n",
       "      <th>educ</th>\n",
       "      <th>exper</th>\n",
       "      <th>metro</th>\n",
       "    </tr>\n",
       "  </thead>\n",
       "  <tbody>\n",
       "    <tr>\n",
       "      <th>0</th>\n",
       "      <td>2.070000</td>\n",
       "      <td>12</td>\n",
       "      <td>7</td>\n",
       "      <td>1</td>\n",
       "    </tr>\n",
       "    <tr>\n",
       "      <th>1</th>\n",
       "      <td>2.120000</td>\n",
       "      <td>12</td>\n",
       "      <td>35</td>\n",
       "      <td>1</td>\n",
       "    </tr>\n",
       "    <tr>\n",
       "      <th>2</th>\n",
       "      <td>2.540000</td>\n",
       "      <td>16</td>\n",
       "      <td>20</td>\n",
       "      <td>1</td>\n",
       "    </tr>\n",
       "    <tr>\n",
       "      <th>3</th>\n",
       "      <td>2.680000</td>\n",
       "      <td>12</td>\n",
       "      <td>24</td>\n",
       "      <td>1</td>\n",
       "    </tr>\n",
       "    <tr>\n",
       "      <th>4</th>\n",
       "      <td>3.090000</td>\n",
       "      <td>13</td>\n",
       "      <td>4</td>\n",
       "      <td>1</td>\n",
       "    </tr>\n",
       "    <tr>\n",
       "      <th>...</th>\n",
       "      <td>...</td>\n",
       "      <td>...</td>\n",
       "      <td>...</td>\n",
       "      <td>...</td>\n",
       "    </tr>\n",
       "    <tr>\n",
       "      <th>993</th>\n",
       "      <td>35.419998</td>\n",
       "      <td>18</td>\n",
       "      <td>23</td>\n",
       "      <td>1</td>\n",
       "    </tr>\n",
       "    <tr>\n",
       "      <th>994</th>\n",
       "      <td>36.840000</td>\n",
       "      <td>16</td>\n",
       "      <td>7</td>\n",
       "      <td>1</td>\n",
       "    </tr>\n",
       "    <tr>\n",
       "      <th>995</th>\n",
       "      <td>41.320000</td>\n",
       "      <td>16</td>\n",
       "      <td>11</td>\n",
       "      <td>1</td>\n",
       "    </tr>\n",
       "    <tr>\n",
       "      <th>996</th>\n",
       "      <td>47.220001</td>\n",
       "      <td>18</td>\n",
       "      <td>35</td>\n",
       "      <td>1</td>\n",
       "    </tr>\n",
       "    <tr>\n",
       "      <th>997</th>\n",
       "      <td>60.189999</td>\n",
       "      <td>16</td>\n",
       "      <td>33</td>\n",
       "      <td>1</td>\n",
       "    </tr>\n",
       "  </tbody>\n",
       "</table>\n",
       "<p>998 rows × 4 columns</p>\n",
       "</div>"
      ],
      "text/plain": [
       "          wage  educ  exper  metro\n",
       "0     2.070000    12      7      1\n",
       "1     2.120000    12     35      1\n",
       "2     2.540000    16     20      1\n",
       "3     2.680000    12     24      1\n",
       "4     3.090000    13      4      1\n",
       "..         ...   ...    ...    ...\n",
       "993  35.419998    18     23      1\n",
       "994  36.840000    16      7      1\n",
       "995  41.320000    16     11      1\n",
       "996  47.220001    18     35      1\n",
       "997  60.189999    16     33      1\n",
       "\n",
       "[998 rows x 4 columns]"
      ]
     },
     "execution_count": 2,
     "metadata": {},
     "output_type": "execute_result"
    }
   ],
   "source": [
    "import pandas as pd\n",
    "\n",
    "# CSV-Datei einlesen und Header überspringen\n",
    "df = pd.read_csv('/Users/riccardo/Desktop/Repositorys_Github/Training/Dataset/wage.csv', sep=';')\n",
    "df\n"
   ]
  },
  {
   "cell_type": "code",
   "execution_count": 3,
   "metadata": {},
   "outputs": [
    {
     "data": {
      "text/plain": [
       "pandas.core.frame.DataFrame"
      ]
     },
     "execution_count": 3,
     "metadata": {},
     "output_type": "execute_result"
    }
   ],
   "source": [
    "df = pd.DataFrame(df)\n",
    "type(df)"
   ]
  },
  {
   "cell_type": "code",
   "execution_count": 4,
   "metadata": {},
   "outputs": [],
   "source": [
    "# Annahme: df ist ein Pandas DataFrame\n",
    "X_train, y_train = df.iloc[:700, :-1], df.iloc[:700, -1]\n",
    "X_valid, y_valid = df.iloc[700:900, :-1], df.iloc[700:900, -1]\n",
    "X_test, y_test = df.iloc[900:, :-1], df.iloc[900:, -1]\n"
   ]
  },
  {
   "cell_type": "code",
   "execution_count": 7,
   "metadata": {},
   "outputs": [
    {
     "name": "stdout",
     "output_type": "stream",
     "text": [
      "Der X Test Datensatz besthet aus:  (700, 3) Der Y Test Datensatz besthet aus:  (700,)\n",
      "Der X_test Datensatz besthet aus:  (98, 3) Der y_test Datensatz besteht  aus:  (98,)\n",
      "X_train  <class 'pandas.core.frame.DataFrame'> y_train type: <class 'pandas.core.series.Series'> X_test type: <class 'pandas.core.frame.DataFrame'> X_test type: <class 'pandas.core.series.Series'> X_val <class 'pandas.core.frame.DataFrame'> y_val <class 'pandas.core.series.Series'>\n"
     ]
    }
   ],
   "source": [
    "print(\"Der X Test Datensatz besthet aus: \", X_train.shape, \"Der Y Test Datensatz besthet aus: \", y_train.shape)\n",
    "print(\"Der X_test Datensatz besthet aus: \", X_test.shape,\"Der y_test Datensatz besteht  aus: \", y_test.shape)\n",
    "print(\"X_train \", type(X_train), \"y_train type:\", type(y_train), \n",
    "      \"X_test type:\",type(X_test), \"X_test type:\",type(y_test), \n",
    "      \"X_val\", type(X_valid), \"y_val\", type(y_valid))"
   ]
  },
  {
   "cell_type": "code",
   "execution_count": 8,
   "metadata": {},
   "outputs": [
    {
     "data": {
      "text/plain": [
       "510.0"
      ]
     },
     "execution_count": 8,
     "metadata": {},
     "output_type": "execute_result"
    }
   ],
   "source": [
    "y_pred = X_valid.iloc[:, -1].values\n",
    "np.mean(keras.losses.mean_squared_error(y_valid, y_pred))\n"
   ]
  },
  {
   "cell_type": "code",
   "execution_count": 12,
   "metadata": {},
   "outputs": [
    {
     "name": "stdout",
     "output_type": "stream",
     "text": [
      "Model: \"sequential_1\"\n",
      "_________________________________________________________________\n",
      " Layer (type)                Output Shape              Param #   \n",
      "=================================================================\n",
      " layer1 (Dense)              (None, 20)                80        \n",
      "                                                                 \n",
      " layer2 (Dense)              (None, 30)                630       \n",
      "                                                                 \n",
      " Output (Dense)              (None, 35)                1085      \n",
      "                                                                 \n",
      "=================================================================\n",
      "Total params: 1,795\n",
      "Trainable params: 1,795\n",
      "Non-trainable params: 0\n",
      "_________________________________________________________________\n"
     ]
    }
   ],
   "source": [
    "from keras.models import Sequential\n",
    "from keras.layers import InputLayer, Dense\n",
    "from keras.optimizers import Adam\n",
    "\n",
    "model = Sequential([\n",
    "    InputLayer(input_shape=X_train.shape[-1], name=\"Input\"),\n",
    "    Dense(20, activation=\"sigmoid\", name=\"layer1\"),\n",
    "    Dense(30, activation=\"sigmoid\", name=\"layer2\"),\n",
    "    Dense(35, name=\"Output\"),\n",
    "])\n",
    "\n",
    "optimizer = Adam()  # Default learning rate\n",
    "model.compile(loss='mean_squared_error', optimizer=optimizer)  # Using MSE for loss and MAE for metrics\n",
    "model.summary()\n"
   ]
  },
  {
   "cell_type": "code",
   "execution_count": 13,
   "metadata": {},
   "outputs": [
    {
     "name": "stdout",
     "output_type": "stream",
     "text": [
      "Epoch 1/20\n",
      "22/22 [==============================] - 0s 664us/step - loss: 0.8605\n",
      "Epoch 2/20\n",
      "22/22 [==============================] - 0s 782us/step - loss: 0.4706\n",
      "Epoch 3/20\n",
      "22/22 [==============================] - 0s 821us/step - loss: 0.2921\n",
      "Epoch 4/20\n",
      "22/22 [==============================] - 0s 652us/step - loss: 0.2140\n",
      "Epoch 5/20\n",
      "22/22 [==============================] - 0s 733us/step - loss: 0.1858\n",
      "Epoch 6/20\n",
      "22/22 [==============================] - 0s 618us/step - loss: 0.1766\n",
      "Epoch 7/20\n",
      "22/22 [==============================] - 0s 529us/step - loss: 0.1740\n",
      "Epoch 8/20\n",
      "22/22 [==============================] - 0s 504us/step - loss: 0.1735\n",
      "Epoch 9/20\n",
      "22/22 [==============================] - 0s 496us/step - loss: 0.1730\n",
      "Epoch 10/20\n",
      "22/22 [==============================] - 0s 433us/step - loss: 0.1727\n",
      "Epoch 11/20\n",
      "22/22 [==============================] - 0s 429us/step - loss: 0.1729\n",
      "Epoch 12/20\n",
      "22/22 [==============================] - 0s 591us/step - loss: 0.1731\n",
      "Epoch 13/20\n",
      "22/22 [==============================] - 0s 545us/step - loss: 0.1731\n",
      "Epoch 14/20\n",
      "22/22 [==============================] - 0s 438us/step - loss: 0.1720\n",
      "Epoch 15/20\n",
      "22/22 [==============================] - 0s 453us/step - loss: 0.1719\n",
      "Epoch 16/20\n",
      "22/22 [==============================] - 0s 487us/step - loss: 0.1722\n",
      "Epoch 17/20\n",
      "22/22 [==============================] - 0s 480us/step - loss: 0.1716\n",
      "Epoch 18/20\n",
      "22/22 [==============================] - 0s 434us/step - loss: 0.1717\n",
      "Epoch 19/20\n",
      "22/22 [==============================] - 0s 440us/step - loss: 0.1718\n",
      "Epoch 20/20\n",
      "22/22 [==============================] - 0s 417us/step - loss: 0.1714\n"
     ]
    },
    {
     "data": {
      "text/plain": [
       "<keras.callbacks.History at 0x176c3f670>"
      ]
     },
     "execution_count": 13,
     "metadata": {},
     "output_type": "execute_result"
    }
   ],
   "source": [
    "model.fit(X_train, y_train, epochs=20)"
   ]
  },
  {
   "cell_type": "code",
   "execution_count": 14,
   "metadata": {},
   "outputs": [
    {
     "data": {
      "text/plain": [
       "((98,), (200,))"
      ]
     },
     "execution_count": 14,
     "metadata": {},
     "output_type": "execute_result"
    }
   ],
   "source": [
    "y_test.shape, y_pred.shape"
   ]
  },
  {
   "cell_type": "code",
   "execution_count": 17,
   "metadata": {},
   "outputs": [
    {
     "name": "stdout",
     "output_type": "stream",
     "text": [
      "4/4 [==============================] - 0s 886us/step - loss: 0.0870\n",
      "Loss auf Testdaten: 0.08703901618719101\n"
     ]
    }
   ],
   "source": [
    "loss = model.evaluate(X_test, y_test)\n",
    "print(\"Loss auf Testdaten:\", loss)\n"
   ]
  },
  {
   "cell_type": "code",
   "execution_count": 26,
   "metadata": {},
   "outputs": [],
   "source": [
    "# import matplotlib.pyplot as plt\n",
    "# # Annahme: Du trainierst dein Modell und speicherst die Trainingsgeschichte in einer Variablen namens train_history\n",
    "# train_history = model.fit(X_train, y_train, epochs=20, validation_data=(X_val, y_val))\n",
    "\n",
    "# # Speichern der Loss-Werte für Trainings- und Validierungsdaten\n",
    "# train_loss = train_history.history['loss']\n",
    "# val_loss = train_history.history['val_loss']\n",
    "\n",
    "# # Annahme: train_history ist die gespeicherte Trainingsgeschichte mit Loss-Werten für Trainings- und Validierungsdaten über die Epochen\n",
    "# train_loss = train_history.history['loss']\n",
    "# val_loss = train_history.history['val_loss']\n",
    "# epochs = range(1, len(train_loss) + 1)\n",
    "\n",
    "# # Plot Loss-Kurve\n",
    "# plt.plot(epochs, train_loss, 'b', label='Training loss')\n",
    "# plt.plot(epochs, val_loss, 'r', label='Validation loss')\n",
    "# plt.title('Training and validation loss')\n",
    "# plt.xlabel('Epochs')\n",
    "# plt.ylabel('Loss')\n",
    "# plt.legend()\n",
    "# plt.show()\n"
   ]
  },
  {
   "cell_type": "code",
   "execution_count": null,
   "metadata": {},
   "outputs": [],
   "source": []
  },
  {
   "cell_type": "code",
   "execution_count": null,
   "metadata": {},
   "outputs": [],
   "source": []
  },
  {
   "cell_type": "code",
   "execution_count": null,
   "metadata": {},
   "outputs": [],
   "source": []
  },
  {
   "cell_type": "code",
   "execution_count": null,
   "metadata": {},
   "outputs": [],
   "source": []
  },
  {
   "cell_type": "code",
   "execution_count": null,
   "metadata": {},
   "outputs": [],
   "source": []
  },
  {
   "cell_type": "code",
   "execution_count": null,
   "metadata": {},
   "outputs": [],
   "source": []
  },
  {
   "cell_type": "code",
   "execution_count": null,
   "metadata": {},
   "outputs": [],
   "source": []
  },
  {
   "cell_type": "code",
   "execution_count": null,
   "metadata": {},
   "outputs": [],
   "source": []
  },
  {
   "cell_type": "code",
   "execution_count": null,
   "metadata": {},
   "outputs": [],
   "source": []
  },
  {
   "cell_type": "code",
   "execution_count": null,
   "metadata": {},
   "outputs": [],
   "source": []
  },
  {
   "cell_type": "code",
   "execution_count": null,
   "metadata": {},
   "outputs": [],
   "source": []
  },
  {
   "cell_type": "code",
   "execution_count": null,
   "metadata": {},
   "outputs": [],
   "source": []
  },
  {
   "cell_type": "code",
   "execution_count": 18,
   "metadata": {},
   "outputs": [
    {
     "name": "stdout",
     "output_type": "stream",
     "text": [
      "4/4 [==============================] - 0s 875us/step - loss: 0.0870\n"
     ]
    },
    {
     "data": {
      "text/plain": [
       "0.08703901618719101"
      ]
     },
     "execution_count": 18,
     "metadata": {},
     "output_type": "execute_result"
    }
   ],
   "source": [
    "model.evaluate(X_test, y_test)"
   ]
  },
  {
   "cell_type": "code",
   "execution_count": 19,
   "metadata": {},
   "outputs": [],
   "source": [
    "from keras.layers import LSTM, Dense"
   ]
  },
  {
   "cell_type": "markdown",
   "metadata": {},
   "source": [
    "2 Model:"
   ]
  },
  {
   "cell_type": "code",
   "execution_count": 20,
   "metadata": {},
   "outputs": [
    {
     "name": "stdout",
     "output_type": "stream",
     "text": [
      "Model: \"sequential_2\"\n",
      "_________________________________________________________________\n",
      " Layer (type)                Output Shape              Param #   \n",
      "=================================================================\n",
      " lstm (LSTM)                 (None, 3, 50)             10400     \n",
      "                                                                 \n",
      " lstm_1 (LSTM)               (None, 50)                20200     \n",
      "                                                                 \n",
      " dense (Dense)               (None, 1)                 51        \n",
      "                                                                 \n",
      "=================================================================\n",
      "Total params: 30,651\n",
      "Trainable params: 30,651\n",
      "Non-trainable params: 0\n",
      "_________________________________________________________________\n"
     ]
    },
    {
     "name": "stderr",
     "output_type": "stream",
     "text": [
      "2024-03-03 14:19:24.873217: I tensorflow/core/common_runtime/executor.cc:1197] [/device:CPU:0] (DEBUG INFO) Executor start aborting (this does not indicate an error and you can ignore this message): INVALID_ARGUMENT: You must feed a value for placeholder tensor 'gradients/split_2_grad/concat/split_2/split_dim' with dtype int32\n",
      "\t [[{{node gradients/split_2_grad/concat/split_2/split_dim}}]]\n",
      "2024-03-03 14:19:24.873636: I tensorflow/core/common_runtime/executor.cc:1197] [/device:CPU:0] (DEBUG INFO) Executor start aborting (this does not indicate an error and you can ignore this message): INVALID_ARGUMENT: You must feed a value for placeholder tensor 'gradients/split_grad/concat/split/split_dim' with dtype int32\n",
      "\t [[{{node gradients/split_grad/concat/split/split_dim}}]]\n",
      "2024-03-03 14:19:24.874212: I tensorflow/core/common_runtime/executor.cc:1197] [/device:CPU:0] (DEBUG INFO) Executor start aborting (this does not indicate an error and you can ignore this message): INVALID_ARGUMENT: You must feed a value for placeholder tensor 'gradients/split_1_grad/concat/split_1/split_dim' with dtype int32\n",
      "\t [[{{node gradients/split_1_grad/concat/split_1/split_dim}}]]\n",
      "2024-03-03 14:19:24.943026: I tensorflow/core/common_runtime/executor.cc:1197] [/device:CPU:0] (DEBUG INFO) Executor start aborting (this does not indicate an error and you can ignore this message): INVALID_ARGUMENT: You must feed a value for placeholder tensor 'gradients/split_2_grad/concat/split_2/split_dim' with dtype int32\n",
      "\t [[{{node gradients/split_2_grad/concat/split_2/split_dim}}]]\n",
      "2024-03-03 14:19:24.943441: I tensorflow/core/common_runtime/executor.cc:1197] [/device:CPU:0] (DEBUG INFO) Executor start aborting (this does not indicate an error and you can ignore this message): INVALID_ARGUMENT: You must feed a value for placeholder tensor 'gradients/split_grad/concat/split/split_dim' with dtype int32\n",
      "\t [[{{node gradients/split_grad/concat/split/split_dim}}]]\n",
      "2024-03-03 14:19:24.943839: I tensorflow/core/common_runtime/executor.cc:1197] [/device:CPU:0] (DEBUG INFO) Executor start aborting (this does not indicate an error and you can ignore this message): INVALID_ARGUMENT: You must feed a value for placeholder tensor 'gradients/split_1_grad/concat/split_1/split_dim' with dtype int32\n",
      "\t [[{{node gradients/split_1_grad/concat/split_1/split_dim}}]]\n"
     ]
    }
   ],
   "source": [
    "model = Sequential()\n",
    "model.add(LSTM(units=50, return_sequences=True, input_shape=(X_train.shape[1],1)))\n",
    "model.add(LSTM(units=50, return_sequences=False))\n",
    "model.add(Dense(units=1))\n",
    "model.compile(optimizer='adam', loss='mean_squared_error', metrics = ['accuracy'])     \n",
    "model.summary()     "
   ]
  },
  {
   "cell_type": "code",
   "execution_count": 21,
   "metadata": {},
   "outputs": [
    {
     "name": "stdout",
     "output_type": "stream",
     "text": [
      "Epoch 1/20\n"
     ]
    },
    {
     "name": "stderr",
     "output_type": "stream",
     "text": [
      "2024-03-03 14:19:31.185459: I tensorflow/core/common_runtime/executor.cc:1197] [/device:CPU:0] (DEBUG INFO) Executor start aborting (this does not indicate an error and you can ignore this message): INVALID_ARGUMENT: You must feed a value for placeholder tensor 'gradients/split_2_grad/concat/split_2/split_dim' with dtype int32\n",
      "\t [[{{node gradients/split_2_grad/concat/split_2/split_dim}}]]\n",
      "2024-03-03 14:19:31.186269: I tensorflow/core/common_runtime/executor.cc:1197] [/device:CPU:0] (DEBUG INFO) Executor start aborting (this does not indicate an error and you can ignore this message): INVALID_ARGUMENT: You must feed a value for placeholder tensor 'gradients/split_grad/concat/split/split_dim' with dtype int32\n",
      "\t [[{{node gradients/split_grad/concat/split/split_dim}}]]\n",
      "2024-03-03 14:19:31.186832: I tensorflow/core/common_runtime/executor.cc:1197] [/device:CPU:0] (DEBUG INFO) Executor start aborting (this does not indicate an error and you can ignore this message): INVALID_ARGUMENT: You must feed a value for placeholder tensor 'gradients/split_1_grad/concat/split_1/split_dim' with dtype int32\n",
      "\t [[{{node gradients/split_1_grad/concat/split_1/split_dim}}]]\n",
      "2024-03-03 14:19:31.252578: I tensorflow/core/common_runtime/executor.cc:1197] [/device:CPU:0] (DEBUG INFO) Executor start aborting (this does not indicate an error and you can ignore this message): INVALID_ARGUMENT: You must feed a value for placeholder tensor 'gradients/split_2_grad/concat/split_2/split_dim' with dtype int32\n",
      "\t [[{{node gradients/split_2_grad/concat/split_2/split_dim}}]]\n",
      "2024-03-03 14:19:31.253043: I tensorflow/core/common_runtime/executor.cc:1197] [/device:CPU:0] (DEBUG INFO) Executor start aborting (this does not indicate an error and you can ignore this message): INVALID_ARGUMENT: You must feed a value for placeholder tensor 'gradients/split_grad/concat/split/split_dim' with dtype int32\n",
      "\t [[{{node gradients/split_grad/concat/split/split_dim}}]]\n",
      "2024-03-03 14:19:31.253535: I tensorflow/core/common_runtime/executor.cc:1197] [/device:CPU:0] (DEBUG INFO) Executor start aborting (this does not indicate an error and you can ignore this message): INVALID_ARGUMENT: You must feed a value for placeholder tensor 'gradients/split_1_grad/concat/split_1/split_dim' with dtype int32\n",
      "\t [[{{node gradients/split_1_grad/concat/split_1/split_dim}}]]\n",
      "2024-03-03 14:19:31.475093: I tensorflow/core/common_runtime/executor.cc:1197] [/device:CPU:0] (DEBUG INFO) Executor start aborting (this does not indicate an error and you can ignore this message): INVALID_ARGUMENT: You must feed a value for placeholder tensor 'gradients/split_2_grad/concat/split_2/split_dim' with dtype int32\n",
      "\t [[{{node gradients/split_2_grad/concat/split_2/split_dim}}]]\n",
      "2024-03-03 14:19:31.475541: I tensorflow/core/common_runtime/executor.cc:1197] [/device:CPU:0] (DEBUG INFO) Executor start aborting (this does not indicate an error and you can ignore this message): INVALID_ARGUMENT: You must feed a value for placeholder tensor 'gradients/split_grad/concat/split/split_dim' with dtype int32\n",
      "\t [[{{node gradients/split_grad/concat/split/split_dim}}]]\n",
      "2024-03-03 14:19:31.476237: I tensorflow/core/common_runtime/executor.cc:1197] [/device:CPU:0] (DEBUG INFO) Executor start aborting (this does not indicate an error and you can ignore this message): INVALID_ARGUMENT: You must feed a value for placeholder tensor 'gradients/split_1_grad/concat/split_1/split_dim' with dtype int32\n",
      "\t [[{{node gradients/split_1_grad/concat/split_1/split_dim}}]]\n",
      "2024-03-03 14:19:31.542983: I tensorflow/core/common_runtime/executor.cc:1197] [/device:CPU:0] (DEBUG INFO) Executor start aborting (this does not indicate an error and you can ignore this message): INVALID_ARGUMENT: You must feed a value for placeholder tensor 'gradients/split_2_grad/concat/split_2/split_dim' with dtype int32\n",
      "\t [[{{node gradients/split_2_grad/concat/split_2/split_dim}}]]\n",
      "2024-03-03 14:19:31.543438: I tensorflow/core/common_runtime/executor.cc:1197] [/device:CPU:0] (DEBUG INFO) Executor start aborting (this does not indicate an error and you can ignore this message): INVALID_ARGUMENT: You must feed a value for placeholder tensor 'gradients/split_grad/concat/split/split_dim' with dtype int32\n",
      "\t [[{{node gradients/split_grad/concat/split/split_dim}}]]\n",
      "2024-03-03 14:19:31.543949: I tensorflow/core/common_runtime/executor.cc:1197] [/device:CPU:0] (DEBUG INFO) Executor start aborting (this does not indicate an error and you can ignore this message): INVALID_ARGUMENT: You must feed a value for placeholder tensor 'gradients/split_1_grad/concat/split_1/split_dim' with dtype int32\n",
      "\t [[{{node gradients/split_1_grad/concat/split_1/split_dim}}]]\n"
     ]
    },
    {
     "name": "stdout",
     "output_type": "stream",
     "text": [
      "700/700 [==============================] - 2s 1ms/step - loss: 0.1902 - accuracy: 0.7671\n",
      "Epoch 2/20\n",
      "700/700 [==============================] - 1s 1ms/step - loss: 0.1816 - accuracy: 0.7800\n",
      "Epoch 3/20\n",
      "700/700 [==============================] - 1s 1ms/step - loss: 0.1751 - accuracy: 0.7800\n",
      "Epoch 4/20\n",
      "700/700 [==============================] - 1s 1ms/step - loss: 0.1767 - accuracy: 0.7800\n",
      "Epoch 5/20\n",
      "700/700 [==============================] - 1s 1ms/step - loss: 0.1764 - accuracy: 0.7800\n",
      "Epoch 6/20\n",
      "700/700 [==============================] - 1s 1ms/step - loss: 0.1747 - accuracy: 0.7800\n",
      "Epoch 7/20\n",
      "700/700 [==============================] - 1s 1ms/step - loss: 0.1758 - accuracy: 0.7800\n",
      "Epoch 8/20\n",
      "700/700 [==============================] - 1s 1ms/step - loss: 0.1745 - accuracy: 0.7800\n",
      "Epoch 9/20\n",
      "700/700 [==============================] - 1s 1ms/step - loss: 0.1738 - accuracy: 0.7800\n",
      "Epoch 10/20\n",
      "700/700 [==============================] - 1s 1ms/step - loss: 0.1736 - accuracy: 0.7800\n",
      "Epoch 11/20\n",
      "700/700 [==============================] - 1s 1ms/step - loss: 0.1735 - accuracy: 0.7800\n",
      "Epoch 12/20\n",
      "700/700 [==============================] - 1s 1ms/step - loss: 0.1723 - accuracy: 0.7800\n",
      "Epoch 13/20\n",
      "700/700 [==============================] - 1s 1ms/step - loss: 0.1756 - accuracy: 0.7800\n",
      "Epoch 14/20\n",
      "700/700 [==============================] - 1s 1ms/step - loss: 0.1737 - accuracy: 0.7800\n",
      "Epoch 15/20\n",
      "700/700 [==============================] - 1s 1ms/step - loss: 0.1738 - accuracy: 0.7800\n",
      "Epoch 16/20\n",
      "700/700 [==============================] - 1s 1ms/step - loss: 0.1724 - accuracy: 0.7800\n",
      "Epoch 17/20\n",
      "700/700 [==============================] - 1s 1ms/step - loss: 0.1733 - accuracy: 0.7800\n",
      "Epoch 18/20\n",
      "700/700 [==============================] - 1s 1ms/step - loss: 0.1737 - accuracy: 0.7800\n",
      "Epoch 19/20\n",
      "700/700 [==============================] - 1s 1ms/step - loss: 0.1730 - accuracy: 0.7800\n",
      "Epoch 20/20\n",
      "700/700 [==============================] - 1s 1ms/step - loss: 0.1742 - accuracy: 0.7800\n"
     ]
    }
   ],
   "source": [
    "history = model.fit(X_train, y_train, epochs=20, batch_size=1)"
   ]
  },
  {
   "cell_type": "code",
   "execution_count": 22,
   "metadata": {},
   "outputs": [
    {
     "data": {
      "text/plain": [
       "((700, 3), (700,))"
      ]
     },
     "execution_count": 22,
     "metadata": {},
     "output_type": "execute_result"
    }
   ],
   "source": [
    "X_train.shape,y_train.shape"
   ]
  },
  {
   "cell_type": "code",
   "execution_count": 23,
   "metadata": {},
   "outputs": [
    {
     "name": "stdout",
     "output_type": "stream",
     "text": [
      "4/4 [==============================] - 0s 852us/step\n"
     ]
    },
    {
     "name": "stderr",
     "output_type": "stream",
     "text": [
      "2024-03-03 14:19:56.399664: I tensorflow/core/common_runtime/executor.cc:1197] [/device:CPU:0] (DEBUG INFO) Executor start aborting (this does not indicate an error and you can ignore this message): INVALID_ARGUMENT: You must feed a value for placeholder tensor 'gradients/split_2_grad/concat/split_2/split_dim' with dtype int32\n",
      "\t [[{{node gradients/split_2_grad/concat/split_2/split_dim}}]]\n",
      "2024-03-03 14:19:56.400323: I tensorflow/core/common_runtime/executor.cc:1197] [/device:CPU:0] (DEBUG INFO) Executor start aborting (this does not indicate an error and you can ignore this message): INVALID_ARGUMENT: You must feed a value for placeholder tensor 'gradients/split_grad/concat/split/split_dim' with dtype int32\n",
      "\t [[{{node gradients/split_grad/concat/split/split_dim}}]]\n",
      "2024-03-03 14:19:56.400945: I tensorflow/core/common_runtime/executor.cc:1197] [/device:CPU:0] (DEBUG INFO) Executor start aborting (this does not indicate an error and you can ignore this message): INVALID_ARGUMENT: You must feed a value for placeholder tensor 'gradients/split_1_grad/concat/split_1/split_dim' with dtype int32\n",
      "\t [[{{node gradients/split_1_grad/concat/split_1/split_dim}}]]\n",
      "2024-03-03 14:19:56.466980: I tensorflow/core/common_runtime/executor.cc:1197] [/device:CPU:0] (DEBUG INFO) Executor start aborting (this does not indicate an error and you can ignore this message): INVALID_ARGUMENT: You must feed a value for placeholder tensor 'gradients/split_2_grad/concat/split_2/split_dim' with dtype int32\n",
      "\t [[{{node gradients/split_2_grad/concat/split_2/split_dim}}]]\n",
      "2024-03-03 14:19:56.467546: I tensorflow/core/common_runtime/executor.cc:1197] [/device:CPU:0] (DEBUG INFO) Executor start aborting (this does not indicate an error and you can ignore this message): INVALID_ARGUMENT: You must feed a value for placeholder tensor 'gradients/split_grad/concat/split/split_dim' with dtype int32\n",
      "\t [[{{node gradients/split_grad/concat/split/split_dim}}]]\n",
      "2024-03-03 14:19:56.468036: I tensorflow/core/common_runtime/executor.cc:1197] [/device:CPU:0] (DEBUG INFO) Executor start aborting (this does not indicate an error and you can ignore this message): INVALID_ARGUMENT: You must feed a value for placeholder tensor 'gradients/split_1_grad/concat/split_1/split_dim' with dtype int32\n",
      "\t [[{{node gradients/split_1_grad/concat/split_1/split_dim}}]]\n"
     ]
    },
    {
     "data": {
      "text/plain": [
       "array([[0.3386609],\n",
       "       [0.3386609],\n",
       "       [0.2220858],\n",
       "       [0.3386609],\n",
       "       [0.3386609],\n",
       "       [0.3386609],\n",
       "       [0.3386609],\n",
       "       [0.3386609],\n",
       "       [0.3386609],\n",
       "       [0.3386609],\n",
       "       [0.3386609],\n",
       "       [0.3386609],\n",
       "       [0.3386609],\n",
       "       [0.3386609],\n",
       "       [0.3386609],\n",
       "       [0.3386609],\n",
       "       [0.3386609],\n",
       "       [0.3386609],\n",
       "       [0.3386609],\n",
       "       [0.3386609],\n",
       "       [0.3386609],\n",
       "       [0.3386609],\n",
       "       [0.3386609],\n",
       "       [0.3386609],\n",
       "       [0.3386609],\n",
       "       [0.3386609],\n",
       "       [0.3386609],\n",
       "       [0.3386609],\n",
       "       [0.3386609],\n",
       "       [0.3386609],\n",
       "       [0.3386609],\n",
       "       [0.3386609],\n",
       "       [0.3386609],\n",
       "       [0.3386609],\n",
       "       [0.3386609],\n",
       "       [0.3386609],\n",
       "       [0.3386609],\n",
       "       [0.3386609],\n",
       "       [0.3386609],\n",
       "       [0.3386609],\n",
       "       [0.3386609],\n",
       "       [0.2220858],\n",
       "       [0.3386609],\n",
       "       [0.3386609],\n",
       "       [0.2220858],\n",
       "       [0.3386609],\n",
       "       [0.3386609],\n",
       "       [0.3386609],\n",
       "       [0.3386609],\n",
       "       [0.3386609],\n",
       "       [0.3386609],\n",
       "       [0.3386609],\n",
       "       [0.3386609],\n",
       "       [0.3386609],\n",
       "       [0.3386609],\n",
       "       [0.3386609],\n",
       "       [0.3386609],\n",
       "       [0.3386609],\n",
       "       [0.3386609],\n",
       "       [0.3386609],\n",
       "       [0.3386609],\n",
       "       [0.3386609],\n",
       "       [0.3386609],\n",
       "       [0.3386609],\n",
       "       [0.3386609],\n",
       "       [0.3386609],\n",
       "       [0.3386609],\n",
       "       [0.3386609],\n",
       "       [0.2220858],\n",
       "       [0.3386609],\n",
       "       [0.3386609],\n",
       "       [0.3386609],\n",
       "       [0.3386609],\n",
       "       [0.3386609],\n",
       "       [0.3386609],\n",
       "       [0.2220858],\n",
       "       [0.2220858],\n",
       "       [0.3386609],\n",
       "       [0.3386609],\n",
       "       [0.3386609],\n",
       "       [0.3386609],\n",
       "       [0.3386609],\n",
       "       [0.3386609],\n",
       "       [0.3386609],\n",
       "       [0.3386609],\n",
       "       [0.3386609],\n",
       "       [0.3386609],\n",
       "       [0.3386609],\n",
       "       [0.3386609],\n",
       "       [0.3386609],\n",
       "       [0.3386609],\n",
       "       [0.3386609],\n",
       "       [0.3386609],\n",
       "       [0.3386609],\n",
       "       [0.3386609],\n",
       "       [0.3386609],\n",
       "       [0.3386609],\n",
       "       [0.3386609]], dtype=float32)"
      ]
     },
     "execution_count": 23,
     "metadata": {},
     "output_type": "execute_result"
    }
   ],
   "source": [
    "model.predict(y_test)"
   ]
  }
 ],
 "metadata": {
  "kernelspec": {
   "display_name": "model",
   "language": "python",
   "name": "python3"
  },
  "language_info": {
   "codemirror_mode": {
    "name": "ipython",
    "version": 3
   },
   "file_extension": ".py",
   "mimetype": "text/x-python",
   "name": "python",
   "nbconvert_exporter": "python",
   "pygments_lexer": "ipython3",
   "version": "3.9.18"
  }
 },
 "nbformat": 4,
 "nbformat_minor": 2
}

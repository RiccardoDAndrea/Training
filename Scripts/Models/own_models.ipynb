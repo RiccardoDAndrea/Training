{
 "cells": [
  {
   "cell_type": "code",
   "execution_count": 1,
   "metadata": {},
   "outputs": [],
   "source": [
    "import keras\n",
    "import pandas as pd\n",
    "from keras.models import Sequential\n",
    "from keras.layers import LSTM, Dense, Dropout, InputLayer\n",
    "from keras.optimizers import Adam\n",
    "import numpy as np\n",
    "import tensorflow as tf\n",
    "import matplotlib.pyplot as plt"
   ]
  },
  {
   "cell_type": "code",
   "execution_count": 2,
   "metadata": {},
   "outputs": [
    {
     "data": {
      "text/html": [
       "<div>\n",
       "<style scoped>\n",
       "    .dataframe tbody tr th:only-of-type {\n",
       "        vertical-align: middle;\n",
       "    }\n",
       "\n",
       "    .dataframe tbody tr th {\n",
       "        vertical-align: top;\n",
       "    }\n",
       "\n",
       "    .dataframe thead th {\n",
       "        text-align: right;\n",
       "    }\n",
       "</style>\n",
       "<table border=\"1\" class=\"dataframe\">\n",
       "  <thead>\n",
       "    <tr style=\"text-align: right;\">\n",
       "      <th></th>\n",
       "      <th>wage</th>\n",
       "      <th>educ</th>\n",
       "      <th>exper</th>\n",
       "      <th>metro</th>\n",
       "    </tr>\n",
       "  </thead>\n",
       "  <tbody>\n",
       "    <tr>\n",
       "      <th>0</th>\n",
       "      <td>2.07</td>\n",
       "      <td>12</td>\n",
       "      <td>7</td>\n",
       "      <td>1</td>\n",
       "    </tr>\n",
       "    <tr>\n",
       "      <th>1</th>\n",
       "      <td>2.12</td>\n",
       "      <td>12</td>\n",
       "      <td>35</td>\n",
       "      <td>1</td>\n",
       "    </tr>\n",
       "    <tr>\n",
       "      <th>2</th>\n",
       "      <td>2.54</td>\n",
       "      <td>16</td>\n",
       "      <td>20</td>\n",
       "      <td>1</td>\n",
       "    </tr>\n",
       "    <tr>\n",
       "      <th>3</th>\n",
       "      <td>2.68</td>\n",
       "      <td>12</td>\n",
       "      <td>24</td>\n",
       "      <td>1</td>\n",
       "    </tr>\n",
       "    <tr>\n",
       "      <th>4</th>\n",
       "      <td>3.09</td>\n",
       "      <td>13</td>\n",
       "      <td>4</td>\n",
       "      <td>1</td>\n",
       "    </tr>\n",
       "    <tr>\n",
       "      <th>...</th>\n",
       "      <td>...</td>\n",
       "      <td>...</td>\n",
       "      <td>...</td>\n",
       "      <td>...</td>\n",
       "    </tr>\n",
       "    <tr>\n",
       "      <th>993</th>\n",
       "      <td>35.42</td>\n",
       "      <td>18</td>\n",
       "      <td>23</td>\n",
       "      <td>1</td>\n",
       "    </tr>\n",
       "    <tr>\n",
       "      <th>994</th>\n",
       "      <td>36.84</td>\n",
       "      <td>16</td>\n",
       "      <td>7</td>\n",
       "      <td>1</td>\n",
       "    </tr>\n",
       "    <tr>\n",
       "      <th>995</th>\n",
       "      <td>41.32</td>\n",
       "      <td>16</td>\n",
       "      <td>11</td>\n",
       "      <td>1</td>\n",
       "    </tr>\n",
       "    <tr>\n",
       "      <th>996</th>\n",
       "      <td>47.22</td>\n",
       "      <td>18</td>\n",
       "      <td>35</td>\n",
       "      <td>1</td>\n",
       "    </tr>\n",
       "    <tr>\n",
       "      <th>997</th>\n",
       "      <td>60.19</td>\n",
       "      <td>16</td>\n",
       "      <td>33</td>\n",
       "      <td>1</td>\n",
       "    </tr>\n",
       "  </tbody>\n",
       "</table>\n",
       "<p>998 rows × 4 columns</p>\n",
       "</div>"
      ],
      "text/plain": [
       "      wage  educ  exper  metro\n",
       "0     2.07    12      7      1\n",
       "1     2.12    12     35      1\n",
       "2     2.54    16     20      1\n",
       "3     2.68    12     24      1\n",
       "4     3.09    13      4      1\n",
       "..     ...   ...    ...    ...\n",
       "993  35.42    18     23      1\n",
       "994  36.84    16      7      1\n",
       "995  41.32    16     11      1\n",
       "996  47.22    18     35      1\n",
       "997  60.19    16     33      1\n",
       "\n",
       "[998 rows x 4 columns]"
      ]
     },
     "execution_count": 2,
     "metadata": {},
     "output_type": "execute_result"
    }
   ],
   "source": [
    "df = pd.read_csv('/Users/riccardo/Desktop/Repositorys_Github/Training/Dataset/wage.csv', sep=\";\", index_col=False).round(2)\n",
    "df "
   ]
  },
  {
   "cell_type": "code",
   "execution_count": 3,
   "metadata": {},
   "outputs": [
    {
     "data": {
      "text/html": [
       "<div>\n",
       "<style scoped>\n",
       "    .dataframe tbody tr th:only-of-type {\n",
       "        vertical-align: middle;\n",
       "    }\n",
       "\n",
       "    .dataframe tbody tr th {\n",
       "        vertical-align: top;\n",
       "    }\n",
       "\n",
       "    .dataframe thead th {\n",
       "        text-align: right;\n",
       "    }\n",
       "</style>\n",
       "<table border=\"1\" class=\"dataframe\">\n",
       "  <thead>\n",
       "    <tr style=\"text-align: right;\">\n",
       "      <th></th>\n",
       "      <th>wage</th>\n",
       "    </tr>\n",
       "  </thead>\n",
       "  <tbody>\n",
       "    <tr>\n",
       "      <th>0</th>\n",
       "      <td>2.07</td>\n",
       "    </tr>\n",
       "    <tr>\n",
       "      <th>1</th>\n",
       "      <td>2.12</td>\n",
       "    </tr>\n",
       "    <tr>\n",
       "      <th>2</th>\n",
       "      <td>2.54</td>\n",
       "    </tr>\n",
       "    <tr>\n",
       "      <th>3</th>\n",
       "      <td>2.68</td>\n",
       "    </tr>\n",
       "    <tr>\n",
       "      <th>4</th>\n",
       "      <td>3.09</td>\n",
       "    </tr>\n",
       "  </tbody>\n",
       "</table>\n",
       "</div>"
      ],
      "text/plain": [
       "   wage\n",
       "0  2.07\n",
       "1  2.12\n",
       "2  2.54\n",
       "3  2.68\n",
       "4  3.09"
      ]
     },
     "execution_count": 3,
     "metadata": {},
     "output_type": "execute_result"
    }
   ],
   "source": [
    "X = df[['educ', 'exper']]\n",
    "y = df[['wage']]\n",
    "X.head()\n",
    "y.head()"
   ]
  },
  {
   "cell_type": "code",
   "execution_count": 4,
   "metadata": {},
   "outputs": [
    {
     "ename": "TypeError",
     "evalue": "train_test_valid_split() got multiple values for argument 'train_size'",
     "output_type": "error",
     "traceback": [
      "\u001b[0;31m---------------------------------------------------------------------------\u001b[0m",
      "\u001b[0;31mTypeError\u001b[0m                                 Traceback (most recent call last)",
      "Cell \u001b[0;32mIn[4], line 22\u001b[0m\n\u001b[1;32m     18\u001b[0m     X_test, y_test \u001b[38;5;241m=\u001b[39m X\u001b[38;5;241m.\u001b[39miloc[test_size:], y\u001b[38;5;241m.\u001b[39miloc[test_size:, \u001b[38;5;241m-\u001b[39m\u001b[38;5;241m1\u001b[39m]\n\u001b[1;32m     19\u001b[0m     \u001b[38;5;28;01mreturn\u001b[39;00m X_train, y_train, X_valid, y_valid, X_test, y_test\n\u001b[0;32m---> 22\u001b[0m X_train, y_train, X_valid, y_valid, X_test, y_test \u001b[38;5;241m=\u001b[39m \u001b[43mtrain_test_valid_split\u001b[49m\u001b[43m(\u001b[49m\u001b[43mdf\u001b[49m\u001b[43m,\u001b[49m\u001b[43m \u001b[49m\u001b[43mtrain_size\u001b[49m\u001b[38;5;241;43m=\u001b[39;49m\u001b[38;5;241;43m700\u001b[39;49m\u001b[43m,\u001b[49m\u001b[43m \u001b[49m\u001b[43mtest_size\u001b[49m\u001b[38;5;241;43m=\u001b[39;49m\u001b[38;5;241;43m900\u001b[39;49m\u001b[43m,\u001b[49m\u001b[43m \u001b[49m\u001b[43mvalid_size_min\u001b[49m\u001b[38;5;241;43m=\u001b[39;49m\u001b[38;5;241;43m700\u001b[39;49m\u001b[43m,\u001b[49m\u001b[43m \u001b[49m\u001b[43mvalid_size_max\u001b[49m\u001b[38;5;241;43m=\u001b[39;49m\u001b[38;5;241;43m900\u001b[39;49m\u001b[43m)\u001b[49m\n\u001b[1;32m     26\u001b[0m \u001b[38;5;66;03m# X_train, y_train = X.iloc[:700], y.iloc[:700, -1]\u001b[39;00m\n\u001b[1;32m     27\u001b[0m \u001b[38;5;66;03m# X_valid, y_valid = X.iloc[700:900], y.iloc[700:900, -1]\u001b[39;00m\n\u001b[1;32m     28\u001b[0m \u001b[38;5;66;03m# X_test, y_test = X.iloc[900:], y.iloc[900:, -1]\u001b[39;00m\n",
      "\u001b[0;31mTypeError\u001b[0m: train_test_valid_split() got multiple values for argument 'train_size'"
     ]
    }
   ],
   "source": [
    "def train_test_valid_split(df, train_size, test_size, valid_size_min, valid_size_max):\n",
    "    \"\"\"Function to split the data into train, test, and validation sets.\n",
    "\n",
    "    Input:\n",
    "    - df: Pandas DataFrame containing the data.\n",
    "    - train_size: Number of rows to be used as training data.\n",
    "    - test_size: Number of rows to be used as test data.\n",
    "    - valid_size_min: Minimum number of rows to be used as validation data.\n",
    "    - valid_size_max: Maximum number of rows to be used as validation data.\n",
    "\n",
    "    Output:\n",
    "    - A split of the data into train, test, and validation sets.\n",
    "    \"\"\"\n",
    "    X_train, y_train = df.iloc[:train_size, :-1], df.iloc[:train_size, -1]\n",
    "    X_valid, y_valid = df.iloc[valid_size_min:valid_size_max, :-1], df.iloc[valid_size_min:valid_size_max, -1]\n",
    "    X_test, y_test = df.iloc[test_size:, :-1], df.iloc[test_size:, -1]\n",
    "    \n",
    "    return X_train, y_train, X_valid, y_valid, X_test, y_test\n",
    "\n",
    "# Example usage\n",
    "X_train, y_train, X_valid, y_valid, X_test, y_test = train_test_valid_split(df, train_size=700, test_size=900, valid_size_min=700, valid_size_max=900)\n",
    "\n",
    "\n",
    "# X_train, y_train = X.iloc[:700], y.iloc[:700, -1]\n",
    "# X_valid, y_valid = X.iloc[700:900], y.iloc[700:900, -1]\n",
    "# X_test, y_test = X.iloc[900:], y.iloc[900:, -1]\n"
   ]
  },
  {
   "cell_type": "code",
   "execution_count": 42,
   "metadata": {},
   "outputs": [
    {
     "name": "stdout",
     "output_type": "stream",
     "text": [
      "Der X Test Datensatz besthet aus:  (700, 2) Der Y Test Datensatz besthet aus:  (700,)\n",
      "Der X_test Datensatz besthet aus:  (98, 2) Der y_test Datensatz besteht  aus:  (98,)\n",
      "X_train  <class 'pandas.core.frame.DataFrame'> y_train type: <class 'pandas.core.series.Series'> X_test type: <class 'pandas.core.frame.DataFrame'> X_test type: <class 'pandas.core.series.Series'> X_val <class 'pandas.core.frame.DataFrame'> y_val <class 'pandas.core.series.Series'>\n"
     ]
    }
   ],
   "source": [
    "print(\"Der X Test Datensatz besthet aus: \", X_train.shape, \"Der Y Test Datensatz besthet aus: \", y_train.shape)\n",
    "print(\"Der X_test Datensatz besthet aus: \", X_test.shape,\"Der y_test Datensatz besteht  aus: \", y_test.shape)\n",
    "print(\"X_train \", type(X_train), \"y_train type:\", type(y_train), \n",
    "      \"X_test type:\",type(X_test), \"X_test type:\",type(y_test), \n",
    "      \"X_val\", type(X_valid), \"y_val\", type(y_valid))"
   ]
  },
  {
   "cell_type": "code",
   "execution_count": 13,
   "metadata": {},
   "outputs": [
    {
     "data": {
      "text/plain": [
       "158.0"
      ]
     },
     "execution_count": 13,
     "metadata": {},
     "output_type": "execute_result"
    }
   ],
   "source": [
    "y_pred = X_valid.iloc[:, -1].values\n",
    "np.mean(keras.losses.mean_squared_error(y_valid, y_pred))"
   ]
  },
  {
   "cell_type": "markdown",
   "metadata": {},
   "source": [
    "# Model 1 "
   ]
  },
  {
   "cell_type": "code",
   "execution_count": 14,
   "metadata": {},
   "outputs": [
    {
     "name": "stdout",
     "output_type": "stream",
     "text": [
      "Model: \"sequential\"\n",
      "_________________________________________________________________\n",
      " Layer (type)                Output Shape              Param #   \n",
      "=================================================================\n",
      " layer1 (Dense)              (None, 5)                 15        \n",
      "                                                                 \n",
      " layer2 (Dense)              (None, 5)                 30        \n",
      "                                                                 \n",
      " Output (Dense)              (None, 1)                 6         \n",
      "                                                                 \n",
      "=================================================================\n",
      "Total params: 51\n",
      "Trainable params: 51\n",
      "Non-trainable params: 0\n",
      "_________________________________________________________________\n"
     ]
    }
   ],
   "source": [
    "model = Sequential([\n",
    "    InputLayer(input_shape=X_train.shape[-1], name=\"Input\"),\n",
    "    Dense(5, activation=\"relu\", name=\"layer1\"),\n",
    "    Dense(5, name=\"layer2\"),\n",
    "    Dense(1, name=\"Output\"),\n",
    "])\n",
    "\n",
    "optimizer = Adam(learning_rate=0.005)  # Default learning rate\n",
    "model.compile(loss='mean_squared_error', optimizer=optimizer)  # Using MSE for loss and MAE for metrics\n",
    "model.summary()\n"
   ]
  },
  {
   "cell_type": "code",
   "execution_count": 15,
   "metadata": {},
   "outputs": [
    {
     "name": "stdout",
     "output_type": "stream",
     "text": [
      "Epoch 1/20\n"
     ]
    },
    {
     "name": "stderr",
     "output_type": "stream",
     "text": [
      "2024-03-04 10:03:14.161305: W tensorflow/tsl/platform/profile_utils/cpu_utils.cc:128] Failed to get CPU frequency: 0 Hz\n"
     ]
    },
    {
     "name": "stdout",
     "output_type": "stream",
     "text": [
      "22/22 [==============================] - 0s 4ms/step - loss: 84.0715 - val_loss: 110.4008\n",
      "Epoch 2/20\n",
      "22/22 [==============================] - 0s 1ms/step - loss: 21.9489 - val_loss: 63.5596\n",
      "Epoch 3/20\n",
      "22/22 [==============================] - 0s 1ms/step - loss: 8.7068 - val_loss: 49.8432\n",
      "Epoch 4/20\n",
      "22/22 [==============================] - 0s 1ms/step - loss: 5.9741 - val_loss: 45.8918\n",
      "Epoch 5/20\n",
      "22/22 [==============================] - 0s 1ms/step - loss: 5.7203 - val_loss: 43.2772\n",
      "Epoch 6/20\n",
      "22/22 [==============================] - 0s 1ms/step - loss: 5.7178 - val_loss: 45.7501\n",
      "Epoch 7/20\n",
      "22/22 [==============================] - 0s 970us/step - loss: 5.6837 - val_loss: 44.1620\n",
      "Epoch 8/20\n",
      "22/22 [==============================] - 0s 980us/step - loss: 5.6805 - val_loss: 46.1734\n",
      "Epoch 9/20\n",
      "22/22 [==============================] - 0s 997us/step - loss: 5.6831 - val_loss: 43.0256\n",
      "Epoch 10/20\n",
      "22/22 [==============================] - 0s 996us/step - loss: 5.6800 - val_loss: 45.4860\n",
      "Epoch 11/20\n",
      "22/22 [==============================] - 0s 1ms/step - loss: 5.7030 - val_loss: 45.2285\n",
      "Epoch 12/20\n",
      "22/22 [==============================] - 0s 1ms/step - loss: 5.6446 - val_loss: 45.0847\n",
      "Epoch 13/20\n",
      "22/22 [==============================] - 0s 964us/step - loss: 5.6889 - val_loss: 47.2722\n",
      "Epoch 14/20\n",
      "22/22 [==============================] - 0s 1ms/step - loss: 5.6403 - val_loss: 47.1918\n",
      "Epoch 15/20\n",
      "22/22 [==============================] - 0s 979us/step - loss: 5.6495 - val_loss: 46.4314\n",
      "Epoch 16/20\n",
      "22/22 [==============================] - 0s 990us/step - loss: 5.6116 - val_loss: 42.1500\n",
      "Epoch 17/20\n",
      "22/22 [==============================] - 0s 1ms/step - loss: 5.6459 - val_loss: 49.1530\n",
      "Epoch 18/20\n",
      "22/22 [==============================] - 0s 980us/step - loss: 5.6823 - val_loss: 44.7262\n",
      "Epoch 19/20\n",
      "22/22 [==============================] - 0s 1ms/step - loss: 5.6239 - val_loss: 41.7686\n",
      "Epoch 20/20\n",
      "22/22 [==============================] - 0s 994us/step - loss: 5.6481 - val_loss: 48.8560\n"
     ]
    }
   ],
   "source": [
    "# Beispiel für das Modelltraining\n",
    "history = model.fit(X_train, y_train, epochs=20, batch_size=32, validation_data=(X_valid, y_valid))\n"
   ]
  },
  {
   "cell_type": "code",
   "execution_count": 17,
   "metadata": {},
   "outputs": [
    {
     "data": {
      "image/png": "[encoded data removed]",
      "text/plain": [
       "<Figure size 640x480 with 1 Axes>"
      ]
     },
     "metadata": {},
     "output_type": "display_data"
    }
   ],
   "source": [
    "def create_plt_loss(history, x_tick_min = int, x_tick_max = int, x_tick_step = int):\n",
    "    \"\"\"\n",
    "    Create a plot for the loss of the model\n",
    "\n",
    "    Input : \n",
    "    - history : history of the model  \n",
    "    - x_ticks : list of integers for the x-axis\n",
    "\n",
    "    Output : \n",
    "    - Plot of the loss\n",
    "    \"\"\"\n",
    "    plt.plot(history.history['loss'], label='Train Loss')\n",
    "    plt.xticks(np.arange(x_tick_min, x_tick_max, \n",
    "                         step=x_tick_step))\n",
    "    plt.grid(True)\n",
    "    plt.xlabel('Epochs')\n",
    "    plt.ylabel('Loss')\n",
    "    plt.legend()\n",
    "    plt.show()\n",
    "    return plt.show()\n",
    "\n",
    "create_plt_loss(history, x_tick_min = 0, \n",
    "                x_tick_max =  22, x_tick_step=2)"
   ]
  },
  {
   "cell_type": "code",
   "execution_count": 18,
   "metadata": {},
   "outputs": [
    {
     "data": {
      "image/png": "[encoded data removed]",
      "text/plain": [
       "<Figure size 640x480 with 1 Axes>"
      ]
     },
     "metadata": {},
     "output_type": "display_data"
    }
   ],
   "source": [
    "def create_plt_val_los(history, x_tick_min = int, x_tick_max = int, x_tick_step = int):\n",
    "    \"\"\"\n",
    "    Create a plot for the loss of the model\n",
    "\n",
    "    Input : \n",
    "    - history : history of the model  \n",
    "    - x_ticks : list of integers for the x-axis\n",
    "\n",
    "    Output : \n",
    "    - Plot of the loss\n",
    "    \"\"\"\n",
    "    plt.plot(history.history['val_loss'], label='Validation Loss')\n",
    "    plt.xticks(np.arange(x_tick_min, x_tick_max, \n",
    "                         step=x_tick_step))\n",
    "    plt.grid(True)\n",
    "    plt.xlabel('Epochs')\n",
    "    plt.ylabel('Loss')\n",
    "    plt.legend()\n",
    "    plt.show()\n",
    "    return plt.show()\n",
    "\n",
    "    \n",
    "create_plt_val_los(history, x_tick_min = 0,x_tick_max=22, x_tick_step=2)"
   ]
  },
  {
   "cell_type": "code",
   "execution_count": 19,
   "metadata": {},
   "outputs": [
    {
     "name": "stdout",
     "output_type": "stream",
     "text": [
      "4/4 [==============================] - 0s 971us/step - loss: 289.2796\n",
      "Test Loss: 289.2795715332031\n"
     ]
    }
   ],
   "source": [
    "# Beispiel für die Modellbewertung\n",
    "test_loss = model.evaluate(X_test, y_test)\n",
    "print(\"Test Loss:\", test_loss)\n"
   ]
  },
  {
   "cell_type": "code",
   "execution_count": 20,
   "metadata": {},
   "outputs": [
    {
     "name": "stdout",
     "output_type": "stream",
     "text": [
      "4/4 [==============================] - 0s 536us/step\n"
     ]
    },
    {
     "data": {
      "text/plain": [
       "(98, 1)"
      ]
     },
     "execution_count": 20,
     "metadata": {},
     "output_type": "execute_result"
    }
   ],
   "source": [
    "predictions = model.predict(X_test)\n",
    "predictions.shape"
   ]
  },
  {
   "cell_type": "code",
   "execution_count": 21,
   "metadata": {},
   "outputs": [
    {
     "data": {
      "text/plain": [
       "((98,), (98, 1))"
      ]
     },
     "execution_count": 21,
     "metadata": {},
     "output_type": "execute_result"
    }
   ],
   "source": [
    "y_test.shape, predictions.shape"
   ]
  },
  {
   "cell_type": "code",
   "execution_count": 22,
   "metadata": {},
   "outputs": [
    {
     "data": {
      "text/html": [
       "<div>\n",
       "<style scoped>\n",
       "    .dataframe tbody tr th:only-of-type {\n",
       "        vertical-align: middle;\n",
       "    }\n",
       "\n",
       "    .dataframe tbody tr th {\n",
       "        vertical-align: top;\n",
       "    }\n",
       "\n",
       "    .dataframe thead th {\n",
       "        text-align: right;\n",
       "    }\n",
       "</style>\n",
       "<table border=\"1\" class=\"dataframe\">\n",
       "  <thead>\n",
       "    <tr style=\"text-align: right;\">\n",
       "      <th></th>\n",
       "      <th>True Values</th>\n",
       "      <th>Predicted Values</th>\n",
       "    </tr>\n",
       "  </thead>\n",
       "  <tbody>\n",
       "    <tr>\n",
       "      <th>0</th>\n",
       "      <td>18.23</td>\n",
       "      <td>8.638962</td>\n",
       "    </tr>\n",
       "    <tr>\n",
       "      <th>1</th>\n",
       "      <td>18.27</td>\n",
       "      <td>7.405457</td>\n",
       "    </tr>\n",
       "    <tr>\n",
       "      <th>2</th>\n",
       "      <td>18.33</td>\n",
       "      <td>7.007166</td>\n",
       "    </tr>\n",
       "    <tr>\n",
       "      <th>3</th>\n",
       "      <td>18.39</td>\n",
       "      <td>6.589721</td>\n",
       "    </tr>\n",
       "    <tr>\n",
       "      <th>4</th>\n",
       "      <td>18.42</td>\n",
       "      <td>9.632661</td>\n",
       "    </tr>\n",
       "    <tr>\n",
       "      <th>...</th>\n",
       "      <td>...</td>\n",
       "      <td>...</td>\n",
       "    </tr>\n",
       "    <tr>\n",
       "      <th>93</th>\n",
       "      <td>35.42</td>\n",
       "      <td>9.586279</td>\n",
       "    </tr>\n",
       "    <tr>\n",
       "      <th>94</th>\n",
       "      <td>36.84</td>\n",
       "      <td>8.321461</td>\n",
       "    </tr>\n",
       "    <tr>\n",
       "      <th>95</th>\n",
       "      <td>41.32</td>\n",
       "      <td>8.453431</td>\n",
       "    </tr>\n",
       "    <tr>\n",
       "      <th>96</th>\n",
       "      <td>47.22</td>\n",
       "      <td>9.771808</td>\n",
       "    </tr>\n",
       "    <tr>\n",
       "      <th>97</th>\n",
       "      <td>60.19</td>\n",
       "      <td>8.793571</td>\n",
       "    </tr>\n",
       "  </tbody>\n",
       "</table>\n",
       "<p>98 rows × 2 columns</p>\n",
       "</div>"
      ],
      "text/plain": [
       "    True Values  Predicted Values\n",
       "0         18.23          8.638962\n",
       "1         18.27          7.405457\n",
       "2         18.33          7.007166\n",
       "3         18.39          6.589721\n",
       "4         18.42          9.632661\n",
       "..          ...               ...\n",
       "93        35.42          9.586279\n",
       "94        36.84          8.321461\n",
       "95        41.32          8.453431\n",
       "96        47.22          9.771808\n",
       "97        60.19          8.793571\n",
       "\n",
       "[98 rows x 2 columns]"
      ]
     },
     "execution_count": 22,
     "metadata": {},
     "output_type": "execute_result"
    }
   ],
   "source": [
    "# Erstelle eine DataFrame für die wahren und vorhergesagten Werte\n",
    "results_df = pd.DataFrame({\n",
    "    'True Values': y_test.values.flatten(),\n",
    "    'Predicted Values': predictions.flatten()\n",
    "})\n",
    "results_df"
   ]
  },
  {
   "cell_type": "code",
   "execution_count": 23,
   "metadata": {},
   "outputs": [
    {
     "data": {
      "image/png": "[encoded data removed]",
      "text/plain": [
       "<Figure size 640x480 with 1 Axes>"
      ]
     },
     "metadata": {},
     "output_type": "display_data"
    }
   ],
   "source": [
    "import matplotlib.pyplot as plt\n",
    "\n",
    "# Scatterplot für \"True Values\" in Grün\n",
    "plt.scatter(results_df[\"True Values\"], results_df[\"Predicted Values\"], color='green', label='True Values')\n",
    "\n",
    "# Scatterplot für \"Predicted Values\" in Blau\n",
    "plt.scatter(results_df[\"Predicted Values\"], results_df[\"Predicted Values\"], color='blue', label='Predicted Values')\n",
    "\n",
    "plt.xlabel('True Values / Predicted Values')\n",
    "plt.ylabel('Predicted Values')\n",
    "plt.title('Scatterplot of True vs. Predicted Values')\n",
    "plt.legend()\n",
    "plt.show()\n"
   ]
  },
  {
   "cell_type": "markdown",
   "metadata": {},
   "source": [
    "# Ende Model 1"
   ]
  },
  {
   "cell_type": "code",
   "execution_count": null,
   "metadata": {},
   "outputs": [],
   "source": []
  },
  {
   "cell_type": "code",
   "execution_count": null,
   "metadata": {},
   "outputs": [],
   "source": []
  },
  {
   "cell_type": "code",
   "execution_count": null,
   "metadata": {},
   "outputs": [],
   "source": [
    "model = Sequential([\n",
    "    InputLayer(input_shape=X_train.shape[-1], name=\"Input\"),\n",
    "    Dense(5, activation=\"relu\", name=\"layer1\"),\n",
    "    Dense(5, name=\"layer2\"),\n",
    "    Dense(1, name=\"Output\"),\n",
    "])"
   ]
  },
  {
   "cell_type": "markdown",
   "metadata": {},
   "source": [
    "# Model 2 "
   ]
  },
  {
   "cell_type": "markdown",
   "metadata": {},
   "source": [
    "2 Model: LSTM"
   ]
  },
  {
   "cell_type": "code",
   "execution_count": 24,
   "metadata": {},
   "outputs": [],
   "source": [
    "# Model infrastructure\n",
    "model_2 = Sequential([\n",
    "    InputLayer(input_shape=(X_train.shape[1], 1), name='Input'),\n",
    "    LSTM(units=2, return_sequences=True, activation=\"relu\", name='layer1'),\n",
    "    LSTM(units=2, return_sequences=False, activation=\"relu\", name='layer2'),\n",
    "    Dense(units=1, name='Output')\n",
    "])\n",
    "\n",
    "    "
   ]
  },
  {
   "cell_type": "code",
   "execution_count": 25,
   "metadata": {},
   "outputs": [
    {
     "name": "stdout",
     "output_type": "stream",
     "text": [
      "Model: \"sequential_1\"\n",
      "_________________________________________________________________\n",
      " Layer (type)                Output Shape              Param #   \n",
      "=================================================================\n",
      " layer1 (LSTM)               (None, 2, 2)              32        \n",
      "                                                                 \n",
      " layer2 (LSTM)               (None, 2)                 40        \n",
      "                                                                 \n",
      " Output (Dense)              (None, 1)                 3         \n",
      "                                                                 \n",
      "=================================================================\n",
      "Total params: 75\n",
      "Trainable params: 75\n",
      "Non-trainable params: 0\n",
      "_________________________________________________________________\n"
     ]
    }
   ],
   "source": [
    "model_2.compile(optimizer='adam', loss='mean_squared_error')     \n",
    "model_2.summary() "
   ]
  },
  {
   "cell_type": "code",
   "execution_count": 26,
   "metadata": {},
   "outputs": [
    {
     "name": "stdout",
     "output_type": "stream",
     "text": [
      "Epoch 1/20\n",
      "700/700 [==============================] - 1s 987us/step - loss: 23.4759 - val_loss: 58.6540\n",
      "Epoch 2/20\n",
      "700/700 [==============================] - 1s 847us/step - loss: 5.9147 - val_loss: 52.4876\n",
      "Epoch 3/20\n",
      "700/700 [==============================] - 1s 786us/step - loss: 5.7604 - val_loss: 45.9874\n",
      "Epoch 4/20\n",
      "700/700 [==============================] - 1s 781us/step - loss: 5.7401 - val_loss: 50.1882\n",
      "Epoch 5/20\n",
      "700/700 [==============================] - 1s 782us/step - loss: 5.7328 - val_loss: 54.6797\n",
      "Epoch 6/20\n",
      "700/700 [==============================] - 1s 784us/step - loss: 5.6516 - val_loss: 61.2073\n",
      "Epoch 7/20\n",
      "700/700 [==============================] - 1s 783us/step - loss: 5.6439 - val_loss: 48.0706\n",
      "Epoch 8/20\n",
      "700/700 [==============================] - 1s 785us/step - loss: 5.6861 - val_loss: 43.6246\n",
      "Epoch 9/20\n",
      "700/700 [==============================] - 1s 783us/step - loss: 5.6817 - val_loss: 51.9405\n",
      "Epoch 10/20\n",
      "700/700 [==============================] - 1s 801us/step - loss: 5.6235 - val_loss: 51.1251\n",
      "Epoch 11/20\n",
      "700/700 [==============================] - 1s 895us/step - loss: 5.6750 - val_loss: 41.1744\n",
      "Epoch 12/20\n",
      "700/700 [==============================] - 1s 853us/step - loss: 5.6744 - val_loss: 47.2892\n",
      "Epoch 13/20\n",
      "700/700 [==============================] - 1s 798us/step - loss: 5.6036 - val_loss: 55.9996\n",
      "Epoch 14/20\n",
      "700/700 [==============================] - 1s 852us/step - loss: 5.7011 - val_loss: 50.3062\n",
      "Epoch 15/20\n",
      "700/700 [==============================] - 1s 780us/step - loss: 5.6249 - val_loss: 56.1536\n",
      "Epoch 16/20\n",
      "700/700 [==============================] - 1s 891us/step - loss: 5.6569 - val_loss: 51.8733\n",
      "Epoch 17/20\n",
      "700/700 [==============================] - 1s 777us/step - loss: 5.5946 - val_loss: 41.4572\n",
      "Epoch 18/20\n",
      "700/700 [==============================] - 1s 778us/step - loss: 5.6438 - val_loss: 47.4024\n",
      "Epoch 19/20\n",
      "700/700 [==============================] - 1s 781us/step - loss: 5.6721 - val_loss: 49.0007\n",
      "Epoch 20/20\n",
      "700/700 [==============================] - 1s 967us/step - loss: 5.6056 - val_loss: 53.9910\n"
     ]
    },
    {
     "data": {
      "text/plain": [
       "<keras.callbacks.History at 0x169fdeb80>"
      ]
     },
     "execution_count": 26,
     "metadata": {},
     "output_type": "execute_result"
    }
   ],
   "source": [
    "history_2 = model_2.fit(X_train, y_train, epochs=20, batch_size=1, validation_data=(X_valid, y_valid))\n",
    "history_2"
   ]
  },
  {
   "cell_type": "code",
   "execution_count": 27,
   "metadata": {},
   "outputs": [
    {
     "data": {
      "image/png": "[encoded data removed]",
      "text/plain": [
       "<Figure size 640x480 with 1 Axes>"
      ]
     },
     "metadata": {},
     "output_type": "display_data"
    }
   ],
   "source": [
    "create_plt_loss(history_2, x_tick_min = 0,x_tick_max=22, x_tick_step=2)"
   ]
  },
  {
   "cell_type": "code",
   "execution_count": 28,
   "metadata": {},
   "outputs": [
    {
     "data": {
      "image/png": "[encoded data removed]",
      "text/plain": [
       "<Figure size 640x480 with 1 Axes>"
      ]
     },
     "metadata": {},
     "output_type": "display_data"
    }
   ],
   "source": [
    "create_plt_val_los(history_2, x_tick_min = 0,x_tick_max=22, x_tick_step=2)  "
   ]
  },
  {
   "cell_type": "code",
   "execution_count": 29,
   "metadata": {},
   "outputs": [
    {
     "name": "stdout",
     "output_type": "stream",
     "text": [
      "4/4 [==============================] - 0s 879us/step - loss: 312.7241\n",
      "Test Loss of Model 1: 289.2795715332031\n",
      "Test Loss of Model 2: 312.72412109375\n"
     ]
    }
   ],
   "source": [
    "test_loss_2 = model_2.evaluate(X_test, y_test)\n",
    "print(\"Test Loss of Model 1:\", test_loss)\n",
    "print(\"Test Loss of Model 2:\", test_loss_2)"
   ]
  },
  {
   "cell_type": "code",
   "execution_count": 30,
   "metadata": {},
   "outputs": [
    {
     "name": "stdout",
     "output_type": "stream",
     "text": [
      "4/4 [==============================] - 0s 921us/step\n"
     ]
    },
    {
     "data": {
      "text/plain": [
       "(98, 1)"
      ]
     },
     "execution_count": 30,
     "metadata": {},
     "output_type": "execute_result"
    }
   ],
   "source": [
    "predictions_2 = model_2.predict(X_test)\n",
    "predictions_2.shape"
   ]
  },
  {
   "cell_type": "code",
   "execution_count": 31,
   "metadata": {},
   "outputs": [
    {
     "data": {
      "text/html": [
       "<div>\n",
       "<style scoped>\n",
       "    .dataframe tbody tr th:only-of-type {\n",
       "        vertical-align: middle;\n",
       "    }\n",
       "\n",
       "    .dataframe tbody tr th {\n",
       "        vertical-align: top;\n",
       "    }\n",
       "\n",
       "    .dataframe thead th {\n",
       "        text-align: right;\n",
       "    }\n",
       "</style>\n",
       "<table border=\"1\" class=\"dataframe\">\n",
       "  <thead>\n",
       "    <tr style=\"text-align: right;\">\n",
       "      <th></th>\n",
       "      <th>True Values</th>\n",
       "      <th>Predicted Values</th>\n",
       "    </tr>\n",
       "  </thead>\n",
       "  <tbody>\n",
       "    <tr>\n",
       "      <th>0</th>\n",
       "      <td>18.23</td>\n",
       "      <td>8.006612</td>\n",
       "    </tr>\n",
       "    <tr>\n",
       "      <th>1</th>\n",
       "      <td>18.27</td>\n",
       "      <td>6.700983</td>\n",
       "    </tr>\n",
       "    <tr>\n",
       "      <th>2</th>\n",
       "      <td>18.33</td>\n",
       "      <td>6.740997</td>\n",
       "    </tr>\n",
       "    <tr>\n",
       "      <th>3</th>\n",
       "      <td>18.39</td>\n",
       "      <td>6.689134</td>\n",
       "    </tr>\n",
       "    <tr>\n",
       "      <th>4</th>\n",
       "      <td>18.42</td>\n",
       "      <td>8.338767</td>\n",
       "    </tr>\n",
       "    <tr>\n",
       "      <th>...</th>\n",
       "      <td>...</td>\n",
       "      <td>...</td>\n",
       "    </tr>\n",
       "    <tr>\n",
       "      <th>93</th>\n",
       "      <td>35.42</td>\n",
       "      <td>8.343764</td>\n",
       "    </tr>\n",
       "    <tr>\n",
       "      <th>94</th>\n",
       "      <td>36.84</td>\n",
       "      <td>7.442199</td>\n",
       "    </tr>\n",
       "    <tr>\n",
       "      <th>95</th>\n",
       "      <td>41.32</td>\n",
       "      <td>7.558945</td>\n",
       "    </tr>\n",
       "    <tr>\n",
       "      <th>96</th>\n",
       "      <td>47.22</td>\n",
       "      <td>8.151640</td>\n",
       "    </tr>\n",
       "    <tr>\n",
       "      <th>97</th>\n",
       "      <td>60.19</td>\n",
       "      <td>7.878075</td>\n",
       "    </tr>\n",
       "  </tbody>\n",
       "</table>\n",
       "<p>98 rows × 2 columns</p>\n",
       "</div>"
      ],
      "text/plain": [
       "    True Values  Predicted Values\n",
       "0         18.23          8.006612\n",
       "1         18.27          6.700983\n",
       "2         18.33          6.740997\n",
       "3         18.39          6.689134\n",
       "4         18.42          8.338767\n",
       "..          ...               ...\n",
       "93        35.42          8.343764\n",
       "94        36.84          7.442199\n",
       "95        41.32          7.558945\n",
       "96        47.22          8.151640\n",
       "97        60.19          7.878075\n",
       "\n",
       "[98 rows x 2 columns]"
      ]
     },
     "execution_count": 31,
     "metadata": {},
     "output_type": "execute_result"
    }
   ],
   "source": [
    "# Erstelle eine DataFrame für die wahren und vorhergesagten Werte\n",
    "results_df_2 = pd.DataFrame({\n",
    "    'True Values': y_test.values.flatten(),\n",
    "    'Predicted Values': predictions_2.flatten()\n",
    "})\n",
    "results_df_2"
   ]
  },
  {
   "cell_type": "code",
   "execution_count": 32,
   "metadata": {},
   "outputs": [
    {
     "data": {
      "text/plain": [
       "Index(['True Values', 'Predicted Values'], dtype='object')"
      ]
     },
     "execution_count": 32,
     "metadata": {},
     "output_type": "execute_result"
    }
   ],
   "source": [
    "results_df_2.columns"
   ]
  },
  {
   "cell_type": "code",
   "execution_count": 33,
   "metadata": {},
   "outputs": [
    {
     "data": {
      "image/png": "[encoded data removed]",
      "text/plain": [
       "<Figure size 640x480 with 1 Axes>"
      ]
     },
     "metadata": {},
     "output_type": "display_data"
    }
   ],
   "source": [
    "import matplotlib.pyplot as plt\n",
    "\n",
    "# Scatterplot für \"True Values\" in Grün\n",
    "plt.scatter(results_df_2[\"True Values\"], results_df_2[\"Predicted Values\"], color='green', label='True Values')\n",
    "\n",
    "# Scatterplot für \"Predicted Values\" in Blau\n",
    "plt.scatter(results_df_2[\"Predicted Values\"], results_df_2[\"Predicted Values\"], color='blue', label='Predicted Values')\n",
    "\n",
    "plt.xlabel('True Values / Predicted Values')\n",
    "plt.ylabel('Predicted Values')\n",
    "plt.title('Scatterplot of True vs. Predicted Values')\n",
    "plt.legend()\n",
    "plt.show()\n"
   ]
  },
  {
   "cell_type": "code",
   "execution_count": null,
   "metadata": {},
   "outputs": [],
   "source": [
    "        "
   ]
  },
  {
   "cell_type": "markdown",
   "metadata": {},
   "source": [
    "# Model 3"
   ]
  },
  {
   "cell_type": "code",
   "execution_count": 39,
   "metadata": {},
   "outputs": [
    {
     "name": "stdout",
     "output_type": "stream",
     "text": [
      "Model: \"sequential_5\"\n",
      "_________________________________________________________________\n",
      " Layer (type)                Output Shape              Param #   \n",
      "=================================================================\n",
      " Input (SimpleRNN)           (None, 2, 2)              8         \n",
      "                                                                 \n",
      " layer1 (SimpleRNN)          (None, 2, 20)             460       \n",
      "                                                                 \n",
      " layer2 (SimpleRNN)          (None, 3)                 72        \n",
      "                                                                 \n",
      " Output (Dense)              (None, 1)                 4         \n",
      "                                                                 \n",
      "=================================================================\n",
      "Total params: 544\n",
      "Trainable params: 544\n",
      "Non-trainable params: 0\n",
      "_________________________________________________________________\n"
     ]
    }
   ],
   "source": [
    "model_3 = keras.models.Sequential([ \n",
    "    keras.layers.SimpleRNN(2, return_sequences=True, input_shape=(X_train.shape[1], 1), activation=\"relu\", name=\"Input\"),\n",
    "    keras.layers.SimpleRNN(20, return_sequences=True, activation=\"relu\", name=\"layer1\"),\n",
    "    keras.layers.SimpleRNN(3, return_sequences=False, activation=\"relu\", name=\"layer2\"),\n",
    "    keras.layers.Dense(1, name='Output')\n",
    "])\n",
    "model_3.compile(loss=\"mean_squared_error\", optimizer=\"adam\")  \n",
    "model_3.summary()"
   ]
  },
  {
   "cell_type": "code",
   "execution_count": 40,
   "metadata": {},
   "outputs": [
    {
     "name": "stdout",
     "output_type": "stream",
     "text": [
      "Epoch 1/10\n",
      "22/22 [==============================] - 1s 9ms/step - loss: 68.6018 - val_loss: 157.6342\n",
      "Epoch 2/10\n",
      "22/22 [==============================] - 0s 2ms/step - loss: 21.9606 - val_loss: 103.0320\n",
      "Epoch 3/10\n",
      "22/22 [==============================] - 0s 2ms/step - loss: 13.2839 - val_loss: 78.3781\n",
      "Epoch 4/10\n",
      "22/22 [==============================] - 0s 2ms/step - loss: 8.9712 - val_loss: 60.1580\n",
      "Epoch 5/10\n",
      "22/22 [==============================] - 0s 2ms/step - loss: 7.4504 - val_loss: 50.6184\n",
      "Epoch 6/10\n",
      "22/22 [==============================] - 0s 2ms/step - loss: 7.1446 - val_loss: 48.0989\n",
      "Epoch 7/10\n",
      "22/22 [==============================] - 0s 2ms/step - loss: 7.0299 - val_loss: 47.8856\n",
      "Epoch 8/10\n",
      "22/22 [==============================] - 0s 2ms/step - loss: 6.9232 - val_loss: 48.1561\n",
      "Epoch 9/10\n",
      "22/22 [==============================] - 0s 2ms/step - loss: 6.8237 - val_loss: 47.9809\n",
      "Epoch 10/10\n",
      "22/22 [==============================] - 0s 2ms/step - loss: 6.7214 - val_loss: 47.6441\n"
     ]
    },
    {
     "data": {
      "text/plain": [
       "<keras.callbacks.History at 0x175d0cca0>"
      ]
     },
     "execution_count": 40,
     "metadata": {},
     "output_type": "execute_result"
    }
   ],
   "source": [
    "model_3.compile(loss=\"mean_squared_error\", optimizer=\"adam\")   \n",
    "model_3.fit(X_train, y_train, epochs=10, validation_data=(X_valid, y_valid)) "
   ]
  },
  {
   "cell_type": "code",
   "execution_count": null,
   "metadata": {},
   "outputs": [],
   "source": []
  },
  {
   "cell_type": "code",
   "execution_count": null,
   "metadata": {},
   "outputs": [],
   "source": []
  },
  {
   "cell_type": "code",
   "execution_count": null,
   "metadata": {},
   "outputs": [],
   "source": []
  },
  {
   "cell_type": "code",
   "execution_count": null,
   "metadata": {},
   "outputs": [],
   "source": []
  },
  {
   "cell_type": "code",
   "execution_count": null,
   "metadata": {},
   "outputs": [],
   "source": []
  },
  {
   "cell_type": "code",
   "execution_count": null,
   "metadata": {},
   "outputs": [],
   "source": []
  },
  {
   "cell_type": "code",
   "execution_count": null,
   "metadata": {},
   "outputs": [],
   "source": []
  },
  {
   "cell_type": "code",
   "execution_count": null,
   "metadata": {},
   "outputs": [],
   "source": []
  },
  {
   "cell_type": "code",
   "execution_count": null,
   "metadata": {},
   "outputs": [],
   "source": []
  },
  {
   "cell_type": "code",
   "execution_count": null,
   "metadata": {},
   "outputs": [],
   "source": []
  },
  {
   "cell_type": "code",
   "execution_count": null,
   "metadata": {},
   "outputs": [],
   "source": []
  },
  {
   "cell_type": "code",
   "execution_count": null,
   "metadata": {},
   "outputs": [],
   "source": []
  }
 ],
 "metadata": {
  "kernelspec": {
   "display_name": "model",
   "language": "python",
   "name": "python3"
  },
  "language_info": {
   "codemirror_mode": {
    "name": "ipython",
    "version": 3
   },
   "file_extension": ".py",
   "mimetype": "text/x-python",
   "name": "python",
   "nbconvert_exporter": "python",
   "pygments_lexer": "ipython3",
   "version": "3.9.18"
  }
 },
 "nbformat": 4,
 "nbformat_minor": 2
}

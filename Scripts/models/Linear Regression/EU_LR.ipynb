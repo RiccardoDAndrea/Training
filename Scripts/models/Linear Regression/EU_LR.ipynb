{
 "cells": [
  {
   "cell_type": "markdown",
   "metadata": {},
   "source": [
    "# Lineare Regression für das Wirtschaftpoltische Seminar \n",
    "\n",
    "\n",
    "- Ziel ein Lineare Regression  erstellen vom Europäische Euro Raum"
   ]
  },
  {
   "cell_type": "markdown",
   "metadata": {},
   "source": [
    "## Daten für die Hausarbeit\n",
    "- Euro Raum\n",
    "\n",
    "Regression Model OLS\n",
    "Model:\n",
    "\n",
    "    - BIP = Oil_price + (m1,m2,m3) + CPI + evtl Arbeitslosigkeit"
   ]
  },
  {
   "cell_type": "code",
   "execution_count": 32,
   "metadata": {},
   "outputs": [],
   "source": [
    "import pandas as pd\n",
    "import datetime as dt\n",
    "import seaborn as sns\n",
    "import requests\n",
    "import json\n",
    "import statsmodels.api as sm\n",
    "import numpy as np"
   ]
  },
  {
   "cell_type": "markdown",
   "metadata": {},
   "source": [
    "### BIP der Euro Raum erhalten von der Offizielen Seite \n",
    "- https://data.ecb.europa.eu/data/datasets/MNA/MNA.A.N.I9.W2.S1.S1.B.B1GQ._Z._Z._Z.PE_R_POP.V._Z "
   ]
  },
  {
   "cell_type": "code",
   "execution_count": 2,
   "metadata": {},
   "outputs": [
    {
     "data": {
      "text/html": [
       "<div>\n",
       "<style scoped>\n",
       "    .dataframe tbody tr th:only-of-type {\n",
       "        vertical-align: middle;\n",
       "    }\n",
       "\n",
       "    .dataframe tbody tr th {\n",
       "        vertical-align: top;\n",
       "    }\n",
       "\n",
       "    .dataframe thead th {\n",
       "        text-align: right;\n",
       "    }\n",
       "</style>\n",
       "<table border=\"1\" class=\"dataframe\">\n",
       "  <thead>\n",
       "    <tr style=\"text-align: right;\">\n",
       "      <th></th>\n",
       "      <th>DATE</th>\n",
       "      <th>TIME PERIOD</th>\n",
       "      <th>Gross domestic product at market prices (MNA.A.N.I9.W2.S1.S1.B.B1GQ._Z._Z._Z.PE_R_POP.V._Z)</th>\n",
       "    </tr>\n",
       "  </thead>\n",
       "  <tbody>\n",
       "    <tr>\n",
       "      <th>0</th>\n",
       "      <td>1995-12-31</td>\n",
       "      <td>1995</td>\n",
       "      <td>17927.30</td>\n",
       "    </tr>\n",
       "    <tr>\n",
       "      <th>1</th>\n",
       "      <td>1996-12-31</td>\n",
       "      <td>1996</td>\n",
       "      <td>18652.69</td>\n",
       "    </tr>\n",
       "    <tr>\n",
       "      <th>2</th>\n",
       "      <td>1997-12-31</td>\n",
       "      <td>1997</td>\n",
       "      <td>19069.85</td>\n",
       "    </tr>\n",
       "    <tr>\n",
       "      <th>3</th>\n",
       "      <td>1998-12-31</td>\n",
       "      <td>1998</td>\n",
       "      <td>19814.33</td>\n",
       "    </tr>\n",
       "    <tr>\n",
       "      <th>4</th>\n",
       "      <td>1999-12-31</td>\n",
       "      <td>1999</td>\n",
       "      <td>20671.06</td>\n",
       "    </tr>\n",
       "  </tbody>\n",
       "</table>\n",
       "</div>"
      ],
      "text/plain": [
       "         DATE  TIME PERIOD  \\\n",
       "0  1995-12-31         1995   \n",
       "1  1996-12-31         1996   \n",
       "2  1997-12-31         1997   \n",
       "3  1998-12-31         1998   \n",
       "4  1999-12-31         1999   \n",
       "\n",
       "   Gross domestic product at market prices (MNA.A.N.I9.W2.S1.S1.B.B1GQ._Z._Z._Z.PE_R_POP.V._Z)  \n",
       "0                                           17927.30                                            \n",
       "1                                           18652.69                                            \n",
       "2                                           19069.85                                            \n",
       "3                                           19814.33                                            \n",
       "4                                           20671.06                                            "
      ]
     },
     "execution_count": 2,
     "metadata": {},
     "output_type": "execute_result"
    }
   ],
   "source": [
    "BIPEUArea = pd.read_csv('/Users/riccardo/Desktop/Repositorys_Github/Training/Scripts/models/Linear Regression/Data_EU/ECB Data Portal_BIP_EuroArea.csv')\n",
    "BIPEUArea.head()"
   ]
  },
  {
   "cell_type": "code",
   "execution_count": 3,
   "metadata": {},
   "outputs": [],
   "source": [
    "BIPEUArea = BIPEUArea.drop(columns=['DATE'])\n",
    "BIPEUArea = BIPEUArea.rename(columns={'TIME PERIOD': 'Date', 'Gross domestic product at market prices (MNA.A.N.I9.W2.S1.S1.B.B1GQ._Z._Z._Z.PE_R_POP.V._Z)': 'BIP'})"
   ]
  },
  {
   "cell_type": "code",
   "execution_count": 4,
   "metadata": {},
   "outputs": [
    {
     "data": {
      "text/html": [
       "<div>\n",
       "<style scoped>\n",
       "    .dataframe tbody tr th:only-of-type {\n",
       "        vertical-align: middle;\n",
       "    }\n",
       "\n",
       "    .dataframe tbody tr th {\n",
       "        vertical-align: top;\n",
       "    }\n",
       "\n",
       "    .dataframe thead th {\n",
       "        text-align: right;\n",
       "    }\n",
       "</style>\n",
       "<table border=\"1\" class=\"dataframe\">\n",
       "  <thead>\n",
       "    <tr style=\"text-align: right;\">\n",
       "      <th></th>\n",
       "      <th>Date</th>\n",
       "      <th>BIP</th>\n",
       "    </tr>\n",
       "  </thead>\n",
       "  <tbody>\n",
       "    <tr>\n",
       "      <th>0</th>\n",
       "      <td>1995</td>\n",
       "      <td>17927.30</td>\n",
       "    </tr>\n",
       "    <tr>\n",
       "      <th>1</th>\n",
       "      <td>1996</td>\n",
       "      <td>18652.69</td>\n",
       "    </tr>\n",
       "    <tr>\n",
       "      <th>2</th>\n",
       "      <td>1997</td>\n",
       "      <td>19069.85</td>\n",
       "    </tr>\n",
       "    <tr>\n",
       "      <th>3</th>\n",
       "      <td>1998</td>\n",
       "      <td>19814.33</td>\n",
       "    </tr>\n",
       "    <tr>\n",
       "      <th>4</th>\n",
       "      <td>1999</td>\n",
       "      <td>20671.06</td>\n",
       "    </tr>\n",
       "  </tbody>\n",
       "</table>\n",
       "</div>"
      ],
      "text/plain": [
       "   Date       BIP\n",
       "0  1995  17927.30\n",
       "1  1996  18652.69\n",
       "2  1997  19069.85\n",
       "3  1998  19814.33\n",
       "4  1999  20671.06"
      ]
     },
     "execution_count": 4,
     "metadata": {},
     "output_type": "execute_result"
    }
   ],
   "source": [
    "BIPEUArea.head()"
   ]
  },
  {
   "cell_type": "markdown",
   "metadata": {},
   "source": [
    "## M1, M2, M3 Datasets"
   ]
  },
  {
   "cell_type": "code",
   "execution_count": 5,
   "metadata": {},
   "outputs": [],
   "source": [
    "df_m1 = pd.read_csv('/Users/riccardo/Desktop/Repositorys_Github/Training/Scripts/models/Linear Regression/Data_EU/ECB Data M1 Euro_Area.csv')\n",
    "df_m2 = pd.read_csv('/Users/riccardo/Desktop/Repositorys_Github/Training/Scripts/models/Linear Regression/Data_EU/ECB Data M2 Euro_Area.csv')\n",
    "df_m3 = pd.read_csv('/Users/riccardo/Desktop/Repositorys_Github/Training/Scripts/models/Linear Regression/Data_EU/ECB Data M3 Euro_Area.csv')\n",
    "# in Euro"
   ]
  },
  {
   "cell_type": "code",
   "execution_count": 6,
   "metadata": {},
   "outputs": [],
   "source": [
    "df_m1.rename(columns={'Monetary aggregate M1 reported by MFIs, central gov. and post office giro institutions in the euro area (stocks) (BSI.M.U2.Y.V.M10.X.1.U2.2300.Z01.E)': 'M1',\n",
    "                      'DATE': 'Date'}, inplace=True)\n",
    "df_m2.rename(columns={'Monetary aggregate M2 reported by MFIs, central gov. and post office giro institutions in the euro area (stocks) (BSI.M.U2.Y.V.M20.X.1.U2.2300.Z01.E)': 'M2',\n",
    "                      'DATE': 'Date'}, inplace=True)\n",
    "df_m3.rename(columns={'Monetary aggregate M3 reported by MFIs, central gov. and post office giro institutions in the euro area (stocks) (BSI.M.U2.Y.V.M30.X.1.U2.2300.Z01.E)': 'M3',\n",
    "                      'DATE': 'Date'}, inplace=True)\n",
    "\n",
    "df_m1.drop(columns=['TIME PERIOD'], inplace=True)\n",
    "df_m2.drop(columns=['TIME PERIOD'], inplace=True)\n",
    "df_m3.drop(columns=['TIME PERIOD'], inplace=True)"
   ]
  },
  {
   "cell_type": "code",
   "execution_count": 7,
   "metadata": {},
   "outputs": [],
   "source": [
    "#Change dateformat from YYYY-MM-DD to YYYY-MM (e.g. 2020-01-01 to 2020-01)\n",
    "df_m1['Date'] = pd.to_datetime(df_m1['Date'])\n",
    "df_m1['Date'] = df_m1['Date'].dt.to_period('M')\n",
    "\n",
    "df_m2['Date'] = pd.to_datetime(df_m2['Date'])\n",
    "df_m2['Date'] = df_m2['Date'].dt.to_period('M')\n",
    "\n",
    "df_m3['Date'] = pd.to_datetime(df_m3['Date'])\n",
    "df_m3['Date'] = df_m3['Date'].dt.to_period('M')"
   ]
  },
  {
   "cell_type": "code",
   "execution_count": 8,
   "metadata": {},
   "outputs": [
    {
     "data": {
      "text/plain": [
       "(      Date       M3\n",
       " 0  1980-01  1097404\n",
       " 1  1980-02  1105520\n",
       " 2  1980-03  1117228\n",
       " 3  1980-04  1122639\n",
       " 4  1980-05  1130672,\n",
       "       Date       M2\n",
       " 0  1980-01  1070496\n",
       " 1  1980-02  1078232\n",
       " 2  1980-03  1088333\n",
       " 3  1980-04  1093263\n",
       " 4  1980-05  1100958,\n",
       "       Date      M1\n",
       " 0  1980-01  444330\n",
       " 1  1980-02  447116\n",
       " 2  1980-03  451370\n",
       " 3  1980-04  453226\n",
       " 4  1980-05  455917)"
      ]
     },
     "execution_count": 8,
     "metadata": {},
     "output_type": "execute_result"
    }
   ],
   "source": [
    "df_m3.head(), df_m2.head(), df_m1.head()"
   ]
  },
  {
   "cell_type": "markdown",
   "metadata": {},
   "source": [
    "### Da wir Monatlich Daten haben und wir nun die Jährliche Daten haben möchten, müssen wir die Daten gruppieren."
   ]
  },
  {
   "cell_type": "code",
   "execution_count": 9,
   "metadata": {},
   "outputs": [
    {
     "name": "stderr",
     "output_type": "stream",
     "text": [
      "/var/folders/13/3pzxxwtd6cbdvdzq_lc6112r0000gn/T/ipykernel_19015/4045600750.py:13: DeprecationWarning: is_period_dtype is deprecated and will be removed in a future version. Use `isinstance(dtype, pd.PeriodDtype)` instead\n",
      "  if pd.api.types.is_period_dtype(df['Date']):\n",
      "/var/folders/13/3pzxxwtd6cbdvdzq_lc6112r0000gn/T/ipykernel_19015/4045600750.py:13: DeprecationWarning: is_period_dtype is deprecated and will be removed in a future version. Use `isinstance(dtype, pd.PeriodDtype)` instead\n",
      "  if pd.api.types.is_period_dtype(df['Date']):\n",
      "/var/folders/13/3pzxxwtd6cbdvdzq_lc6112r0000gn/T/ipykernel_19015/4045600750.py:13: DeprecationWarning: is_period_dtype is deprecated and will be removed in a future version. Use `isinstance(dtype, pd.PeriodDtype)` instead\n",
      "  if pd.api.types.is_period_dtype(df['Date']):\n"
     ]
    }
   ],
   "source": [
    "# Assuming your CSV files have a 'Date' or 'Year-Month' column for timestamps\n",
    "def convert_to_yearly(df):\n",
    "  \"\"\"Converts a pandas DataFrame with monthly data to a DataFrame with yearly data.\n",
    "\n",
    "  Args:\n",
    "      df (pd.DataFrame): The DataFrame containing monthly data.\n",
    "\n",
    "  Returns:\n",
    "      pd.DataFrame: A new DataFrame with yearly data.\n",
    "  \"\"\"\n",
    "\n",
    "  # Convert 'Date' column to datetime if necessary\n",
    "  if pd.api.types.is_period_dtype(df['Date']):\n",
    "    df['Date'] = df['Date'].dt.to_timestamp()\n",
    "  df['Year'] = pd.to_datetime(df['Date']).dt.year  # Assuming 'Date' column exists\n",
    "\n",
    "  # Group by year and calculate the desired aggregation (e.g., sum, mean)\n",
    "  if 'M1' in df.columns: \n",
    "    yearly_data = df.groupby('Year').agg(Sum=('M1', 'sum'))  # Replace 'column_to_sum' with your column\n",
    "  elif 'M2' in df.columns: \n",
    "    yearly_data = df.groupby('Year').agg(Sum=('M2', 'sum'))\n",
    "  elif 'M3' in df.columns: \n",
    "    yearly_data = df.groupby('Year').agg(Sum=('M3', 'sum'))\n",
    "\n",
    "  return yearly_data\n",
    "\n",
    "# Read the CSV files (replace paths if necessary)\n",
    "df_m1_yearly = convert_to_yearly(df_m1.copy())\n",
    "df_m2_yearly = convert_to_yearly(df_m2.copy())  \n",
    "df_m3_yearly = convert_to_yearly(df_m3.copy())  "
   ]
  },
  {
   "cell_type": "code",
   "execution_count": null,
   "metadata": {},
   "outputs": [],
   "source": [
    "# Print or use the yearly DataFrames as needed\n",
    "df_m1_yearly.reset_index(inplace=True)\n",
    "df_m2_yearly.reset_index(inplace=True)\n",
    "df_m3_yearly.reset_index(inplace=True)\n",
    "df_m1_yearly.rename(columns={'Sum': 'M1', \"Year\": \"Date\"}, inplace=True)\n",
    "df_m2_yearly.rename(columns={'Sum': 'M2', \"Year\": \"Date\"}, inplace=True)\n",
    "df_m3_yearly.rename(columns={'Sum': 'M3', \"Year\": \"Date\"}, inplace=True)"
   ]
  },
  {
   "cell_type": "code",
   "execution_count": 10,
   "metadata": {},
   "outputs": [
    {
     "data": {
      "text/plain": [
       "(1995, 2022)"
      ]
     },
     "execution_count": 10,
     "metadata": {},
     "output_type": "execute_result"
    }
   ],
   "source": [
    "BIPEUArea['Date'].min(), BIPEUArea['Date'].max(),"
   ]
  },
  {
   "cell_type": "markdown",
   "metadata": {},
   "source": [
    "### Filtern der Daten damit wir die gleichen Zeitraum haben."
   ]
  },
  {
   "cell_type": "code",
   "execution_count": 11,
   "metadata": {},
   "outputs": [
    {
     "name": "stdout",
     "output_type": "stream",
     "text": [
      "(28, 2) (28, 2) (28, 2) (28, 2)\n",
      "M1 1995 2022\n",
      "M2 1995 2022\n",
      "M3 1995 2022\n",
      "BIPEUArea 1995 2022\n"
     ]
    }
   ],
   "source": [
    "df_m1_yearly_filtered = df_m1_yearly.query('Date >= 1995 & Date <= 2022')\n",
    "df_m2_yearly_filtered = df_m2_yearly.query('Date >= 1995 & Date <= 2022')\n",
    "df_m3_yearly_filtered = df_m3_yearly.query('Date >= 1995 & Date <= 2022')\n",
    "\n",
    "print(df_m1_yearly_filtered.shape, df_m2_yearly_filtered.shape, df_m3_yearly_filtered.shape, BIPEUArea.shape)\n",
    "print('M1', df_m1_yearly_filtered['Date'].min(), df_m1_yearly_filtered['Date'].max())\n",
    "print('M2',df_m2_yearly_filtered['Date'].min(), df_m2_yearly_filtered['Date'].max())\n",
    "print('M3', df_m3_yearly_filtered['Date'].min(), df_m3_yearly_filtered['Date'].max())\n",
    "print('BIPEUArea', BIPEUArea['Date'].min(), BIPEUArea['Date'].max())"
   ]
  },
  {
   "cell_type": "markdown",
   "metadata": {},
   "source": [
    "# M1, M2, M3, BIPEUArea wurden richtig fomratiert und gefiltert\n",
    "- weiter geht es mit Oil Prices"
   ]
  },
  {
   "cell_type": "markdown",
   "metadata": {},
   "source": [
    "## Oil Price Datasets\n",
    "Herunterladen druch die FED Api"
   ]
  },
  {
   "cell_type": "code",
   "execution_count": 12,
   "metadata": {},
   "outputs": [],
   "source": [
    "api_key = 'd9ce385a3f807aaba9590769b5f994a1'\n",
    "OIL_dataURL = f'https://api.stlouisfed.org/fred/series/observations?series_id=POILBREUSDM&api_key={api_key}&file_type=json&frequency=m'\n",
    "CPI_dataURL = f'https://api.stlouisfed.org/fred/series/observations?series_id=CPHPTT01EZM659N&api_key={api_key}&file_type=json&frequency=m'\n",
    "un_dataURL = f'https://api.stlouisfed.org/fred/series/observations?series_id=LRHUTTTTEZM156S&api_key={api_key}&file_type=json&frequency=m'\n"
   ]
  },
  {
   "cell_type": "code",
   "execution_count": 18,
   "metadata": {},
   "outputs": [
    {
     "data": {
      "text/plain": [
       "((391, 2), (385, 2), (410, 2))"
      ]
     },
     "execution_count": 18,
     "metadata": {},
     "output_type": "execute_result"
    }
   ],
   "source": [
    "# Setzen Sie Ihren API-Schlüssel hier ein\n",
    "api_key = 'd9ce385a3f807aaba9590769b5f994a1'\n",
    "def get_data(url):\n",
    "    response = requests.get(url)\n",
    "    if response.status_code == 200:\n",
    "        data = response.json()\n",
    "        observations = []\n",
    "        for observation in data['observations']:\n",
    "            date = observation['date']\n",
    "            value = observation['value']\n",
    "            if value != '.':\n",
    "                value = float(value)\n",
    "                observations.append({'Date': date, 'Value': value})\n",
    "        df = pd.DataFrame(observations)\n",
    "        return df\n",
    "    else:\n",
    "        print(f'Error: {response.status_code}')\n",
    "        return None\n",
    "\n",
    "Oil_price = get_data(OIL_dataURL)\n",
    "CPI = get_data(CPI_dataURL)\n",
    "unemployment = get_data(un_dataURL)\n",
    "unemployment.shape, CPI.shape, Oil_price.shape"
   ]
  },
  {
   "cell_type": "code",
   "execution_count": 20,
   "metadata": {},
   "outputs": [
    {
     "data": {
      "text/plain": [
       "(Index(['Date', 'Value'], dtype='object'),\n",
       " Index(['Date', 'Value'], dtype='object'),\n",
       " Index(['Date', 'Value'], dtype='object'))"
      ]
     },
     "execution_count": 20,
     "metadata": {},
     "output_type": "execute_result"
    }
   ],
   "source": [
    "Oil_price.columns, CPI.columns, unemployment.columns"
   ]
  },
  {
   "cell_type": "code",
   "execution_count": 21,
   "metadata": {},
   "outputs": [
    {
     "name": "stderr",
     "output_type": "stream",
     "text": [
      "/var/folders/13/3pzxxwtd6cbdvdzq_lc6112r0000gn/T/ipykernel_19015/1872458097.py:12: DeprecationWarning: is_period_dtype is deprecated and will be removed in a future version. Use `isinstance(dtype, pd.PeriodDtype)` instead\n",
      "  if pd.api.types.is_period_dtype(df['Date']):\n"
     ]
    },
    {
     "data": {
      "text/html": [
       "<div>\n",
       "<style scoped>\n",
       "    .dataframe tbody tr th:only-of-type {\n",
       "        vertical-align: middle;\n",
       "    }\n",
       "\n",
       "    .dataframe tbody tr th {\n",
       "        vertical-align: top;\n",
       "    }\n",
       "\n",
       "    .dataframe thead th {\n",
       "        text-align: right;\n",
       "    }\n",
       "</style>\n",
       "<table border=\"1\" class=\"dataframe\">\n",
       "  <thead>\n",
       "    <tr style=\"text-align: right;\">\n",
       "      <th></th>\n",
       "      <th>Date</th>\n",
       "      <th>Sum</th>\n",
       "    </tr>\n",
       "  </thead>\n",
       "  <tbody>\n",
       "    <tr>\n",
       "      <th>0</th>\n",
       "      <td>1990</td>\n",
       "      <td>284.479368</td>\n",
       "    </tr>\n",
       "    <tr>\n",
       "      <th>1</th>\n",
       "      <td>1991</td>\n",
       "      <td>240.904445</td>\n",
       "    </tr>\n",
       "    <tr>\n",
       "      <th>2</th>\n",
       "      <td>1992</td>\n",
       "      <td>232.298854</td>\n",
       "    </tr>\n",
       "    <tr>\n",
       "      <th>3</th>\n",
       "      <td>1993</td>\n",
       "      <td>205.017111</td>\n",
       "    </tr>\n",
       "    <tr>\n",
       "      <th>4</th>\n",
       "      <td>1994</td>\n",
       "      <td>191.515897</td>\n",
       "    </tr>\n",
       "  </tbody>\n",
       "</table>\n",
       "</div>"
      ],
      "text/plain": [
       "   Date         Sum\n",
       "0  1990  284.479368\n",
       "1  1991  240.904445\n",
       "2  1992  232.298854\n",
       "3  1993  205.017111\n",
       "4  1994  191.515897"
      ]
     },
     "execution_count": 21,
     "metadata": {},
     "output_type": "execute_result"
    }
   ],
   "source": [
    "def convert_to_yearly_(df):\n",
    "  \"\"\"Converts a pandas DataFrame with monthly data to a DataFrame with yearly data.\n",
    "\n",
    "  Args:\n",
    "      df (pd.DataFrame): The DataFrame containing monthly data.\n",
    "\n",
    "  Returns:\n",
    "      pd.DataFrame: A new DataFrame with yearly data.\n",
    "  \"\"\"\n",
    "\n",
    "  # Convert 'Date' column to datetime if necessary\n",
    "  if pd.api.types.is_period_dtype(df['Date']):\n",
    "    df['Date'] = df['Date'].dt.to_timestamp()\n",
    "  df['Date'] = pd.to_datetime(df['Date']).dt.year  # Assuming 'Date' column exists\n",
    "\n",
    "  # Group by year and calculate the desired aggregation (e.g., sum, mean)\n",
    "  if 'Date' in df.columns: \n",
    "    yearly_data = df.groupby('Date').agg(Sum=('Value', 'sum'))  # Replace 'column_to_sum' with your column\n",
    "    yearly_data.reset_index(inplace=True)\n",
    "  return yearly_data\n",
    "\n",
    "Oil_price = convert_to_yearly_(Oil_price)\n",
    "Oil_price.head()"
   ]
  },
  {
   "cell_type": "code",
   "execution_count": 22,
   "metadata": {},
   "outputs": [],
   "source": [
    "Oil_price.rename(columns={'Sum': 'Oil_Price'}, inplace=True)\n",
    "Oil_price_yearly_filtered = Oil_price.query('Date >= 1995 & Date <= 2022')\n"
   ]
  },
  {
   "cell_type": "code",
   "execution_count": 23,
   "metadata": {},
   "outputs": [
    {
     "data": {
      "text/html": [
       "<div>\n",
       "<style scoped>\n",
       "    .dataframe tbody tr th:only-of-type {\n",
       "        vertical-align: middle;\n",
       "    }\n",
       "\n",
       "    .dataframe tbody tr th {\n",
       "        vertical-align: top;\n",
       "    }\n",
       "\n",
       "    .dataframe thead th {\n",
       "        text-align: right;\n",
       "    }\n",
       "</style>\n",
       "<table border=\"1\" class=\"dataframe\">\n",
       "  <thead>\n",
       "    <tr style=\"text-align: right;\">\n",
       "      <th></th>\n",
       "      <th>Date</th>\n",
       "      <th>Oil_Price</th>\n",
       "    </tr>\n",
       "  </thead>\n",
       "  <tbody>\n",
       "    <tr>\n",
       "      <th>5</th>\n",
       "      <td>1995</td>\n",
       "      <td>206.384976</td>\n",
       "    </tr>\n",
       "    <tr>\n",
       "      <th>6</th>\n",
       "      <td>1996</td>\n",
       "      <td>249.702360</td>\n",
       "    </tr>\n",
       "    <tr>\n",
       "      <th>7</th>\n",
       "      <td>1997</td>\n",
       "      <td>231.723884</td>\n",
       "    </tr>\n",
       "    <tr>\n",
       "      <th>8</th>\n",
       "      <td>1998</td>\n",
       "      <td>157.514630</td>\n",
       "    </tr>\n",
       "    <tr>\n",
       "      <th>9</th>\n",
       "      <td>1999</td>\n",
       "      <td>217.298631</td>\n",
       "    </tr>\n",
       "  </tbody>\n",
       "</table>\n",
       "</div>"
      ],
      "text/plain": [
       "   Date   Oil_Price\n",
       "5  1995  206.384976\n",
       "6  1996  249.702360\n",
       "7  1997  231.723884\n",
       "8  1998  157.514630\n",
       "9  1999  217.298631"
      ]
     },
     "execution_count": 23,
     "metadata": {},
     "output_type": "execute_result"
    }
   ],
   "source": [
    "Oil_price_yearly_filtered.head()\n"
   ]
  },
  {
   "cell_type": "markdown",
   "metadata": {},
   "source": [
    "# Oil Price ende "
   ]
  },
  {
   "cell_type": "markdown",
   "metadata": {},
   "source": [
    "# Unemployment rate "
   ]
  },
  {
   "cell_type": "code",
   "execution_count": 24,
   "metadata": {},
   "outputs": [
    {
     "name": "stderr",
     "output_type": "stream",
     "text": [
      "/var/folders/13/3pzxxwtd6cbdvdzq_lc6112r0000gn/T/ipykernel_19015/1872458097.py:12: DeprecationWarning: is_period_dtype is deprecated and will be removed in a future version. Use `isinstance(dtype, pd.PeriodDtype)` instead\n",
      "  if pd.api.types.is_period_dtype(df['Date']):\n"
     ]
    }
   ],
   "source": [
    "unemployment_rate_EUArea = get_data(un_dataURL)\n",
    "unemployment_rate_EUArea = convert_to_yearly_(unemployment_rate_EUArea)\n",
    "unemployment_rate_EUArea.rename(columns={'Sum': 'Unemployment_Rate'}, inplace=True)\n",
    "unemployment_rate_EUArea_yearly_filtered = unemployment_rate_EUArea.query('Date >= 1995 & Date <= 2022')\n"
   ]
  },
  {
   "cell_type": "markdown",
   "metadata": {},
   "source": [
    "## CPI des Euro Raums"
   ]
  },
  {
   "cell_type": "code",
   "execution_count": 26,
   "metadata": {},
   "outputs": [
    {
     "name": "stderr",
     "output_type": "stream",
     "text": [
      "/var/folders/13/3pzxxwtd6cbdvdzq_lc6112r0000gn/T/ipykernel_19015/1872458097.py:12: DeprecationWarning: is_period_dtype is deprecated and will be removed in a future version. Use `isinstance(dtype, pd.PeriodDtype)` instead\n",
      "  if pd.api.types.is_period_dtype(df['Date']):\n"
     ]
    },
    {
     "data": {
      "text/html": [
       "<div>\n",
       "<style scoped>\n",
       "    .dataframe tbody tr th:only-of-type {\n",
       "        vertical-align: middle;\n",
       "    }\n",
       "\n",
       "    .dataframe tbody tr th {\n",
       "        vertical-align: top;\n",
       "    }\n",
       "\n",
       "    .dataframe thead th {\n",
       "        text-align: right;\n",
       "    }\n",
       "</style>\n",
       "<table border=\"1\" class=\"dataframe\">\n",
       "  <thead>\n",
       "    <tr style=\"text-align: right;\">\n",
       "      <th></th>\n",
       "      <th>Date</th>\n",
       "      <th>CPI</th>\n",
       "    </tr>\n",
       "  </thead>\n",
       "  <tbody>\n",
       "    <tr>\n",
       "      <th>4</th>\n",
       "      <td>1995</td>\n",
       "      <td>30.632925</td>\n",
       "    </tr>\n",
       "    <tr>\n",
       "      <th>5</th>\n",
       "      <td>1996</td>\n",
       "      <td>28.160923</td>\n",
       "    </tr>\n",
       "    <tr>\n",
       "      <th>6</th>\n",
       "      <td>1997</td>\n",
       "      <td>20.464823</td>\n",
       "    </tr>\n",
       "    <tr>\n",
       "      <th>7</th>\n",
       "      <td>1998</td>\n",
       "      <td>14.694074</td>\n",
       "    </tr>\n",
       "    <tr>\n",
       "      <th>8</th>\n",
       "      <td>1999</td>\n",
       "      <td>14.068043</td>\n",
       "    </tr>\n",
       "  </tbody>\n",
       "</table>\n",
       "</div>"
      ],
      "text/plain": [
       "   Date        CPI\n",
       "4  1995  30.632925\n",
       "5  1996  28.160923\n",
       "6  1997  20.464823\n",
       "7  1998  14.694074\n",
       "8  1999  14.068043"
      ]
     },
     "execution_count": 26,
     "metadata": {},
     "output_type": "execute_result"
    }
   ],
   "source": [
    "CPI_EUArea = get_data(CPI_dataURL)\n",
    "CPI_EUArea = convert_to_yearly_(CPI_EUArea)\n",
    "CPI_EUArea.rename(columns={'Sum': 'CPI'}, inplace=True)\n",
    "CPI_EUArea_yearly_filtered = CPI_EUArea.query('Date >= 1995 & Date <= 2022')\n",
    "CPI_EUArea_yearly_filtered.head()"
   ]
  },
  {
   "cell_type": "code",
   "execution_count": 27,
   "metadata": {},
   "outputs": [
    {
     "data": {
      "text/plain": [
       "((28, 2), (28, 2), (28, 2))"
      ]
     },
     "execution_count": 27,
     "metadata": {},
     "output_type": "execute_result"
    }
   ],
   "source": [
    "CPI_EUArea_yearly_filtered.shape, unemployment_rate_EUArea_yearly_filtered.shape, Oil_price_yearly_filtered.shape"
   ]
  },
  {
   "cell_type": "code",
   "execution_count": 28,
   "metadata": {},
   "outputs": [
    {
     "name": "stdout",
     "output_type": "stream",
     "text": [
      "1995 2022\n",
      "1995 2022\n",
      "1995 2022\n",
      "1995 2022\n",
      "1995 2022\n",
      "1995 2022\n"
     ]
    },
    {
     "data": {
      "text/plain": [
       "((28, 2), (28, 2), (28, 2), (28, 2), (28, 2), (28, 2), (28, 2))"
      ]
     },
     "execution_count": 28,
     "metadata": {},
     "output_type": "execute_result"
    }
   ],
   "source": [
    "print(CPI_EUArea_yearly_filtered['Date'].min(), CPI_EUArea_yearly_filtered['Date'].max())\n",
    "print(unemployment_rate_EUArea_yearly_filtered['Date'].min(), unemployment_rate_EUArea_yearly_filtered['Date'].max())\n",
    "print(Oil_price_yearly_filtered['Date'].min(), Oil_price_yearly_filtered['Date'].max())\n",
    "print(df_m1_yearly_filtered['Date'].min(), df_m1_yearly_filtered['Date'].max())\n",
    "print(df_m2_yearly_filtered['Date'].min(), df_m2_yearly_filtered['Date'].max())\n",
    "print(df_m3_yearly_filtered['Date'].min(), df_m3_yearly_filtered['Date'].max())\n",
    "\n",
    "df_m1_yearly_filtered.shape, df_m2_yearly_filtered.shape, df_m3_yearly_filtered.shape, BIPEUArea.shape, CPI_EUArea_yearly_filtered.shape, unemployment_rate_EUArea_yearly_filtered.shape, Oil_price_yearly_filtered.shape\n"
   ]
  },
  {
   "cell_type": "code",
   "execution_count": 29,
   "metadata": {},
   "outputs": [],
   "source": [
    "#zusammenführen der variablen in einem Datensatz\n",
    "df_merged = pd.merge(BIPEUArea, df_m1_yearly_filtered, on='Date', how='inner')\n",
    "df_merged = pd.merge(df_merged, df_m2_yearly_filtered, on='Date', how='inner')\n",
    "df_merged = pd.merge(df_merged, df_m3_yearly_filtered, on='Date', how='inner')\n",
    "df_merged = pd.merge(df_merged, CPI_EUArea_yearly_filtered, on='Date', how='inner')\n",
    "df_merged = pd.merge(df_merged, unemployment_rate_EUArea_yearly_filtered, on='Date', how='inner')\n",
    "df_merged = pd.merge(df_merged, Oil_price_yearly_filtered, on='Date', how='inner')\n",
    "df_merged.to_csv('/Users/riccardo/Desktop/Repositorys_Github/Training/Scripts/models/Linear Regression/Data_EU/ECB Data Merged Euro_Area.csv', index=False)"
   ]
  },
  {
   "cell_type": "code",
   "execution_count": 30,
   "metadata": {},
   "outputs": [
    {
     "data": {
      "text/plain": [
       "Index(['Date', 'BIP', 'M1', 'M2', 'M3', 'CPI', 'Unemployment_Rate',\n",
       "       'Oil_Price'],\n",
       "      dtype='object')"
      ]
     },
     "execution_count": 30,
     "metadata": {},
     "output_type": "execute_result"
    }
   ],
   "source": [
    "df_merged.columns"
   ]
  },
  {
   "cell_type": "code",
   "execution_count": 31,
   "metadata": {},
   "outputs": [
    {
     "data": {
      "text/html": [
       "<div>\n",
       "<style scoped>\n",
       "    .dataframe tbody tr th:only-of-type {\n",
       "        vertical-align: middle;\n",
       "    }\n",
       "\n",
       "    .dataframe tbody tr th {\n",
       "        vertical-align: top;\n",
       "    }\n",
       "\n",
       "    .dataframe thead th {\n",
       "        text-align: right;\n",
       "    }\n",
       "</style>\n",
       "<table border=\"1\" class=\"dataframe\">\n",
       "  <thead>\n",
       "    <tr style=\"text-align: right;\">\n",
       "      <th></th>\n",
       "      <th>Date</th>\n",
       "      <th>BIP</th>\n",
       "      <th>M1</th>\n",
       "      <th>M2</th>\n",
       "      <th>M3</th>\n",
       "      <th>CPI</th>\n",
       "      <th>Unemployment_Rate</th>\n",
       "      <th>Oil_Price</th>\n",
       "    </tr>\n",
       "  </thead>\n",
       "  <tbody>\n",
       "    <tr>\n",
       "      <th>Date</th>\n",
       "      <td>1.000000</td>\n",
       "      <td>0.986540</td>\n",
       "      <td>0.959609</td>\n",
       "      <td>0.984767</td>\n",
       "      <td>0.984861</td>\n",
       "      <td>0.064597</td>\n",
       "      <td>-0.305018</td>\n",
       "      <td>0.654168</td>\n",
       "    </tr>\n",
       "    <tr>\n",
       "      <th>BIP</th>\n",
       "      <td>0.986540</td>\n",
       "      <td>1.000000</td>\n",
       "      <td>0.955107</td>\n",
       "      <td>0.978432</td>\n",
       "      <td>0.984349</td>\n",
       "      <td>0.184294</td>\n",
       "      <td>-0.414357</td>\n",
       "      <td>0.676258</td>\n",
       "    </tr>\n",
       "    <tr>\n",
       "      <th>M1</th>\n",
       "      <td>0.959609</td>\n",
       "      <td>0.955107</td>\n",
       "      <td>1.000000</td>\n",
       "      <td>0.989401</td>\n",
       "      <td>0.982060</td>\n",
       "      <td>0.194780</td>\n",
       "      <td>-0.416296</td>\n",
       "      <td>0.519770</td>\n",
       "    </tr>\n",
       "    <tr>\n",
       "      <th>M2</th>\n",
       "      <td>0.984767</td>\n",
       "      <td>0.978432</td>\n",
       "      <td>0.989401</td>\n",
       "      <td>1.000000</td>\n",
       "      <td>0.998012</td>\n",
       "      <td>0.159225</td>\n",
       "      <td>-0.360874</td>\n",
       "      <td>0.615695</td>\n",
       "    </tr>\n",
       "    <tr>\n",
       "      <th>M3</th>\n",
       "      <td>0.984861</td>\n",
       "      <td>0.984349</td>\n",
       "      <td>0.982060</td>\n",
       "      <td>0.998012</td>\n",
       "      <td>1.000000</td>\n",
       "      <td>0.168805</td>\n",
       "      <td>-0.380730</td>\n",
       "      <td>0.638855</td>\n",
       "    </tr>\n",
       "    <tr>\n",
       "      <th>CPI</th>\n",
       "      <td>0.064597</td>\n",
       "      <td>0.184294</td>\n",
       "      <td>0.194780</td>\n",
       "      <td>0.159225</td>\n",
       "      <td>0.168805</td>\n",
       "      <td>1.000000</td>\n",
       "      <td>-0.454339</td>\n",
       "      <td>0.259338</td>\n",
       "    </tr>\n",
       "    <tr>\n",
       "      <th>Unemployment_Rate</th>\n",
       "      <td>-0.305018</td>\n",
       "      <td>-0.414357</td>\n",
       "      <td>-0.416296</td>\n",
       "      <td>-0.360874</td>\n",
       "      <td>-0.380730</td>\n",
       "      <td>-0.454339</td>\n",
       "      <td>1.000000</td>\n",
       "      <td>0.018737</td>\n",
       "    </tr>\n",
       "    <tr>\n",
       "      <th>Oil_Price</th>\n",
       "      <td>0.654168</td>\n",
       "      <td>0.676258</td>\n",
       "      <td>0.519770</td>\n",
       "      <td>0.615695</td>\n",
       "      <td>0.638855</td>\n",
       "      <td>0.259338</td>\n",
       "      <td>0.018737</td>\n",
       "      <td>1.000000</td>\n",
       "    </tr>\n",
       "  </tbody>\n",
       "</table>\n",
       "</div>"
      ],
      "text/plain": [
       "                       Date       BIP        M1        M2        M3       CPI  \\\n",
       "Date               1.000000  0.986540  0.959609  0.984767  0.984861  0.064597   \n",
       "BIP                0.986540  1.000000  0.955107  0.978432  0.984349  0.184294   \n",
       "M1                 0.959609  0.955107  1.000000  0.989401  0.982060  0.194780   \n",
       "M2                 0.984767  0.978432  0.989401  1.000000  0.998012  0.159225   \n",
       "M3                 0.984861  0.984349  0.982060  0.998012  1.000000  0.168805   \n",
       "CPI                0.064597  0.184294  0.194780  0.159225  0.168805  1.000000   \n",
       "Unemployment_Rate -0.305018 -0.414357 -0.416296 -0.360874 -0.380730 -0.454339   \n",
       "Oil_Price          0.654168  0.676258  0.519770  0.615695  0.638855  0.259338   \n",
       "\n",
       "                   Unemployment_Rate  Oil_Price  \n",
       "Date                       -0.305018   0.654168  \n",
       "BIP                        -0.414357   0.676258  \n",
       "M1                         -0.416296   0.519770  \n",
       "M2                         -0.360874   0.615695  \n",
       "M3                         -0.380730   0.638855  \n",
       "CPI                        -0.454339   0.259338  \n",
       "Unemployment_Rate           1.000000   0.018737  \n",
       "Oil_Price                   0.018737   1.000000  "
      ]
     },
     "execution_count": 31,
     "metadata": {},
     "output_type": "execute_result"
    }
   ],
   "source": [
    "df_merged.corr()"
   ]
  },
  {
   "cell_type": "markdown",
   "metadata": {},
   "source": [
    "## Data Collection"
   ]
  },
  {
   "cell_type": "markdown",
   "metadata": {},
   "source": [
    "## Creating a Regression Model"
   ]
  },
  {
   "cell_type": "markdown",
   "metadata": {},
   "source": [
    "# Model mit M1"
   ]
  },
  {
   "cell_type": "code",
   "execution_count": 33,
   "metadata": {},
   "outputs": [
    {
     "data": {
      "text/plain": [
       "const                24571.517958\n",
       "M1                       0.000116\n",
       "CPI                    -36.863913\n",
       "Unemployment_Rate      -55.092532\n",
       "Oil_Price                4.765847\n",
       "dtype: float64"
      ]
     },
     "execution_count": 33,
     "metadata": {},
     "output_type": "execute_result"
    }
   ],
   "source": [
    "Y = df_merged['BIP']\n",
    "X = df_merged[['M1', 'CPI', 'Unemployment_Rate','Oil_Price']]\n",
    "X = sm.add_constant(X)\n",
    "model = sm.OLS(Y,X)\n",
    "results = model.fit()\n",
    "results.params"
   ]
  },
  {
   "cell_type": "code",
   "execution_count": 34,
   "metadata": {},
   "outputs": [
    {
     "data": {
      "text/html": [
       "<table class=\"simpletable\">\n",
       "<caption>OLS Regression Results</caption>\n",
       "<tr>\n",
       "  <th>Dep. Variable:</th>           <td>BIP</td>       <th>  R-squared:         </th> <td>   0.974</td>\n",
       "</tr>\n",
       "<tr>\n",
       "  <th>Model:</th>                   <td>OLS</td>       <th>  Adj. R-squared:    </th> <td>   0.969</td>\n",
       "</tr>\n",
       "<tr>\n",
       "  <th>Method:</th>             <td>Least Squares</td>  <th>  F-statistic:       </th> <td>   214.9</td>\n",
       "</tr>\n",
       "<tr>\n",
       "  <th>Date:</th>             <td>Mon, 15 Apr 2024</td> <th>  Prob (F-statistic):</th> <td>7.41e-18</td>\n",
       "</tr>\n",
       "<tr>\n",
       "  <th>Time:</th>                 <td>16:18:46</td>     <th>  Log-Likelihood:    </th> <td> -229.67</td>\n",
       "</tr>\n",
       "<tr>\n",
       "  <th>No. Observations:</th>      <td>    28</td>      <th>  AIC:               </th> <td>   469.3</td>\n",
       "</tr>\n",
       "<tr>\n",
       "  <th>Df Residuals:</th>          <td>    23</td>      <th>  BIC:               </th> <td>   476.0</td>\n",
       "</tr>\n",
       "<tr>\n",
       "  <th>Df Model:</th>              <td>     4</td>      <th>                     </th>     <td> </td>   \n",
       "</tr>\n",
       "<tr>\n",
       "  <th>Covariance Type:</th>      <td>nonrobust</td>    <th>                     </th>     <td> </td>   \n",
       "</tr>\n",
       "</table>\n",
       "<table class=\"simpletable\">\n",
       "<tr>\n",
       "          <td></td>             <th>coef</th>     <th>std err</th>      <th>t</th>      <th>P>|t|</th>  <th>[0.025</th>    <th>0.975]</th>  \n",
       "</tr>\n",
       "<tr>\n",
       "  <th>const</th>             <td> 2.457e+04</td> <td> 1911.017</td> <td>   12.858</td> <td> 0.000</td> <td> 2.06e+04</td> <td> 2.85e+04</td>\n",
       "</tr>\n",
       "<tr>\n",
       "  <th>M1</th>                <td>    0.0001</td> <td> 7.31e-06</td> <td>   15.878</td> <td> 0.000</td> <td>    0.000</td> <td>    0.000</td>\n",
       "</tr>\n",
       "<tr>\n",
       "  <th>CPI</th>               <td>  -36.8639</td> <td>   12.420</td> <td>   -2.968</td> <td> 0.007</td> <td>  -62.558</td> <td>  -11.170</td>\n",
       "</tr>\n",
       "<tr>\n",
       "  <th>Unemployment_Rate</th> <td>  -55.0925</td> <td>   14.837</td> <td>   -3.713</td> <td> 0.001</td> <td>  -85.785</td> <td>  -24.401</td>\n",
       "</tr>\n",
       "<tr>\n",
       "  <th>Oil_Price</th>         <td>    4.7658</td> <td>    0.648</td> <td>    7.353</td> <td> 0.000</td> <td>    3.425</td> <td>    6.107</td>\n",
       "</tr>\n",
       "</table>\n",
       "<table class=\"simpletable\">\n",
       "<tr>\n",
       "  <th>Omnibus:</th>       <td> 0.067</td> <th>  Durbin-Watson:     </th> <td>   0.788</td>\n",
       "</tr>\n",
       "<tr>\n",
       "  <th>Prob(Omnibus):</th> <td> 0.967</td> <th>  Jarque-Bera (JB):  </th> <td>   0.042</td>\n",
       "</tr>\n",
       "<tr>\n",
       "  <th>Skew:</th>          <td>-0.002</td> <th>  Prob(JB):          </th> <td>   0.979</td>\n",
       "</tr>\n",
       "<tr>\n",
       "  <th>Kurtosis:</th>      <td> 2.810</td> <th>  Cond. No.          </th> <td>6.93e+08</td>\n",
       "</tr>\n",
       "</table><br/><br/>Notes:<br/>[1] Standard Errors assume that the covariance matrix of the errors is correctly specified.<br/>[2] The condition number is large, 6.93e+08. This might indicate that there are<br/>strong multicollinearity or other numerical problems."
      ],
      "text/latex": [
       "\\begin{center}\n",
       "\\begin{tabular}{lclc}\n",
       "\\toprule\n",
       "\\textbf{Dep. Variable:}     &       BIP        & \\textbf{  R-squared:         } &     0.974   \\\\\n",
       "\\textbf{Model:}             &       OLS        & \\textbf{  Adj. R-squared:    } &     0.969   \\\\\n",
       "\\textbf{Method:}            &  Least Squares   & \\textbf{  F-statistic:       } &     214.9   \\\\\n",
       "\\textbf{Date:}              & Mon, 15 Apr 2024 & \\textbf{  Prob (F-statistic):} &  7.41e-18   \\\\\n",
       "\\textbf{Time:}              &     16:18:46     & \\textbf{  Log-Likelihood:    } &   -229.67   \\\\\n",
       "\\textbf{No. Observations:}  &          28      & \\textbf{  AIC:               } &     469.3   \\\\\n",
       "\\textbf{Df Residuals:}      &          23      & \\textbf{  BIC:               } &     476.0   \\\\\n",
       "\\textbf{Df Model:}          &           4      & \\textbf{                     } &             \\\\\n",
       "\\textbf{Covariance Type:}   &    nonrobust     & \\textbf{                     } &             \\\\\n",
       "\\bottomrule\n",
       "\\end{tabular}\n",
       "\\begin{tabular}{lcccccc}\n",
       "                            & \\textbf{coef} & \\textbf{std err} & \\textbf{t} & \\textbf{P$> |$t$|$} & \\textbf{[0.025} & \\textbf{0.975]}  \\\\\n",
       "\\midrule\n",
       "\\textbf{const}              &    2.457e+04  &     1911.017     &    12.858  &         0.000        &     2.06e+04    &     2.85e+04     \\\\\n",
       "\\textbf{M1}                 &       0.0001  &     7.31e-06     &    15.878  &         0.000        &        0.000    &        0.000     \\\\\n",
       "\\textbf{CPI}                &     -36.8639  &       12.420     &    -2.968  &         0.007        &      -62.558    &      -11.170     \\\\\n",
       "\\textbf{Unemployment\\_Rate} &     -55.0925  &       14.837     &    -3.713  &         0.001        &      -85.785    &      -24.401     \\\\\n",
       "\\textbf{Oil\\_Price}         &       4.7658  &        0.648     &     7.353  &         0.000        &        3.425    &        6.107     \\\\\n",
       "\\bottomrule\n",
       "\\end{tabular}\n",
       "\\begin{tabular}{lclc}\n",
       "\\textbf{Omnibus:}       &  0.067 & \\textbf{  Durbin-Watson:     } &    0.788  \\\\\n",
       "\\textbf{Prob(Omnibus):} &  0.967 & \\textbf{  Jarque-Bera (JB):  } &    0.042  \\\\\n",
       "\\textbf{Skew:}          & -0.002 & \\textbf{  Prob(JB):          } &    0.979  \\\\\n",
       "\\textbf{Kurtosis:}      &  2.810 & \\textbf{  Cond. No.          } & 6.93e+08  \\\\\n",
       "\\bottomrule\n",
       "\\end{tabular}\n",
       "%\\caption{OLS Regression Results}\n",
       "\\end{center}\n",
       "\n",
       "Notes: \\newline\n",
       " [1] Standard Errors assume that the covariance matrix of the errors is correctly specified. \\newline\n",
       " [2] The condition number is large, 6.93e+08. This might indicate that there are \\newline\n",
       " strong multicollinearity or other numerical problems."
      ],
      "text/plain": [
       "<class 'statsmodels.iolib.summary.Summary'>\n",
       "\"\"\"\n",
       "                            OLS Regression Results                            \n",
       "==============================================================================\n",
       "Dep. Variable:                    BIP   R-squared:                       0.974\n",
       "Model:                            OLS   Adj. R-squared:                  0.969\n",
       "Method:                 Least Squares   F-statistic:                     214.9\n",
       "Date:                Mon, 15 Apr 2024   Prob (F-statistic):           7.41e-18\n",
       "Time:                        16:18:46   Log-Likelihood:                -229.67\n",
       "No. Observations:                  28   AIC:                             469.3\n",
       "Df Residuals:                      23   BIC:                             476.0\n",
       "Df Model:                           4                                         \n",
       "Covariance Type:            nonrobust                                         \n",
       "=====================================================================================\n",
       "                        coef    std err          t      P>|t|      [0.025      0.975]\n",
       "-------------------------------------------------------------------------------------\n",
       "const              2.457e+04   1911.017     12.858      0.000    2.06e+04    2.85e+04\n",
       "M1                    0.0001   7.31e-06     15.878      0.000       0.000       0.000\n",
       "CPI                 -36.8639     12.420     -2.968      0.007     -62.558     -11.170\n",
       "Unemployment_Rate   -55.0925     14.837     -3.713      0.001     -85.785     -24.401\n",
       "Oil_Price             4.7658      0.648      7.353      0.000       3.425       6.107\n",
       "==============================================================================\n",
       "Omnibus:                        0.067   Durbin-Watson:                   0.788\n",
       "Prob(Omnibus):                  0.967   Jarque-Bera (JB):                0.042\n",
       "Skew:                          -0.002   Prob(JB):                        0.979\n",
       "Kurtosis:                       2.810   Cond. No.                     6.93e+08\n",
       "==============================================================================\n",
       "\n",
       "Notes:\n",
       "[1] Standard Errors assume that the covariance matrix of the errors is correctly specified.\n",
       "[2] The condition number is large, 6.93e+08. This might indicate that there are\n",
       "strong multicollinearity or other numerical problems.\n",
       "\"\"\""
      ]
     },
     "execution_count": 34,
     "metadata": {},
     "output_type": "execute_result"
    }
   ],
   "source": [
    "results.summary()"
   ]
  },
  {
   "cell_type": "code",
   "execution_count": null,
   "metadata": {},
   "outputs": [],
   "source": []
  },
  {
   "cell_type": "code",
   "execution_count": null,
   "metadata": {},
   "outputs": [],
   "source": []
  },
  {
   "cell_type": "code",
   "execution_count": null,
   "metadata": {},
   "outputs": [],
   "source": []
  },
  {
   "cell_type": "code",
   "execution_count": null,
   "metadata": {},
   "outputs": [],
   "source": []
  },
  {
   "cell_type": "code",
   "execution_count": null,
   "metadata": {},
   "outputs": [],
   "source": []
  },
  {
   "cell_type": "code",
   "execution_count": null,
   "metadata": {},
   "outputs": [],
   "source": []
  },
  {
   "cell_type": "code",
   "execution_count": null,
   "metadata": {},
   "outputs": [],
   "source": []
  }
 ],
 "metadata": {
  "kernelspec": {
   "display_name": "model",
   "language": "python",
   "name": "python3"
  },
  "language_info": {
   "codemirror_mode": {
    "name": "ipython",
    "version": 3
   },
   "file_extension": ".py",
   "mimetype": "text/x-python",
   "name": "python",
   "nbconvert_exporter": "python",
   "pygments_lexer": "ipython3",
   "version": "3.9.18"
  }
 },
 "nbformat": 4,
 "nbformat_minor": 2
}

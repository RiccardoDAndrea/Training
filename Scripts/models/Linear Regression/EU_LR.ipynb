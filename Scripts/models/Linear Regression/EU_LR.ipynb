{
 "cells": [
  {
   "cell_type": "markdown",
   "metadata": {},
   "source": [
    "# Lineare Regression für das Wirtschaftpoltische Seminar \n",
    "\n",
    "\n",
    "- Ziel ein Lineare Regression  erstellen vom Europäische Euro Raum"
   ]
  },
  {
   "cell_type": "markdown",
   "metadata": {},
   "source": [
    "## Daten für die Hausarbeit\n",
    "- Euro Raum\n",
    "\n",
    "Regression Model OLS\n",
    "Model:\n",
    "\n",
    "    - BIP = Oil_price + (m1,m2,m3) + CPI + evtl Arbeitslosigkeit"
   ]
  },
  {
   "cell_type": "code",
   "execution_count": 29,
   "metadata": {},
   "outputs": [],
   "source": [
    "import pandas as pd\n",
    "import datetime as dt"
   ]
  },
  {
   "cell_type": "markdown",
   "metadata": {},
   "source": [
    "### BIP der Euro Raum erhalten von der Offizielen Seite \n",
    "- https://data.ecb.europa.eu/data/datasets/MNA/MNA.A.N.I9.W2.S1.S1.B.B1GQ._Z._Z._Z.PE_R_POP.V._Z "
   ]
  },
  {
   "cell_type": "code",
   "execution_count": 30,
   "metadata": {},
   "outputs": [
    {
     "data": {
      "text/html": [
       "<div>\n",
       "<style scoped>\n",
       "    .dataframe tbody tr th:only-of-type {\n",
       "        vertical-align: middle;\n",
       "    }\n",
       "\n",
       "    .dataframe tbody tr th {\n",
       "        vertical-align: top;\n",
       "    }\n",
       "\n",
       "    .dataframe thead th {\n",
       "        text-align: right;\n",
       "    }\n",
       "</style>\n",
       "<table border=\"1\" class=\"dataframe\">\n",
       "  <thead>\n",
       "    <tr style=\"text-align: right;\">\n",
       "      <th></th>\n",
       "      <th>DATE</th>\n",
       "      <th>TIME PERIOD</th>\n",
       "      <th>Gross domestic product at market prices (MNA.A.N.I9.W2.S1.S1.B.B1GQ._Z._Z._Z.PE_R_POP.V._Z)</th>\n",
       "    </tr>\n",
       "  </thead>\n",
       "  <tbody>\n",
       "    <tr>\n",
       "      <th>0</th>\n",
       "      <td>1995-12-31</td>\n",
       "      <td>1995</td>\n",
       "      <td>17927.30</td>\n",
       "    </tr>\n",
       "    <tr>\n",
       "      <th>1</th>\n",
       "      <td>1996-12-31</td>\n",
       "      <td>1996</td>\n",
       "      <td>18652.69</td>\n",
       "    </tr>\n",
       "    <tr>\n",
       "      <th>2</th>\n",
       "      <td>1997-12-31</td>\n",
       "      <td>1997</td>\n",
       "      <td>19069.85</td>\n",
       "    </tr>\n",
       "    <tr>\n",
       "      <th>3</th>\n",
       "      <td>1998-12-31</td>\n",
       "      <td>1998</td>\n",
       "      <td>19814.33</td>\n",
       "    </tr>\n",
       "    <tr>\n",
       "      <th>4</th>\n",
       "      <td>1999-12-31</td>\n",
       "      <td>1999</td>\n",
       "      <td>20671.06</td>\n",
       "    </tr>\n",
       "  </tbody>\n",
       "</table>\n",
       "</div>"
      ],
      "text/plain": [
       "         DATE  TIME PERIOD  \\\n",
       "0  1995-12-31         1995   \n",
       "1  1996-12-31         1996   \n",
       "2  1997-12-31         1997   \n",
       "3  1998-12-31         1998   \n",
       "4  1999-12-31         1999   \n",
       "\n",
       "   Gross domestic product at market prices (MNA.A.N.I9.W2.S1.S1.B.B1GQ._Z._Z._Z.PE_R_POP.V._Z)  \n",
       "0                                           17927.30                                            \n",
       "1                                           18652.69                                            \n",
       "2                                           19069.85                                            \n",
       "3                                           19814.33                                            \n",
       "4                                           20671.06                                            "
      ]
     },
     "execution_count": 30,
     "metadata": {},
     "output_type": "execute_result"
    }
   ],
   "source": [
    "BIPEUArea = pd.read_csv('/Users/riccardo/Desktop/Repositorys_Github/Training/Scripts/models/Linear Regression/Data_EU/ECB Data Portal_BIP_EuroArea.csv')\n",
    "BIPEUArea.head()"
   ]
  },
  {
   "cell_type": "code",
   "execution_count": 31,
   "metadata": {},
   "outputs": [],
   "source": [
    "BIPEUArea = BIPEUArea.drop(columns=['DATE'])\n",
    "BIPEUArea = BIPEUArea.rename(columns={'TIME PERIOD': 'Date', 'Gross domestic product at market prices (MNA.A.N.I9.W2.S1.S1.B.B1GQ._Z._Z._Z.PE_R_POP.V._Z)': 'BIP'})\n",
    "#BIP_EUArea['Date'] = pd.to_datetime(BIP_EUArea['Date'])"
   ]
  },
  {
   "cell_type": "code",
   "execution_count": 32,
   "metadata": {},
   "outputs": [
    {
     "data": {
      "text/html": [
       "<div>\n",
       "<style scoped>\n",
       "    .dataframe tbody tr th:only-of-type {\n",
       "        vertical-align: middle;\n",
       "    }\n",
       "\n",
       "    .dataframe tbody tr th {\n",
       "        vertical-align: top;\n",
       "    }\n",
       "\n",
       "    .dataframe thead th {\n",
       "        text-align: right;\n",
       "    }\n",
       "</style>\n",
       "<table border=\"1\" class=\"dataframe\">\n",
       "  <thead>\n",
       "    <tr style=\"text-align: right;\">\n",
       "      <th></th>\n",
       "      <th>Date</th>\n",
       "      <th>BIP</th>\n",
       "    </tr>\n",
       "  </thead>\n",
       "  <tbody>\n",
       "    <tr>\n",
       "      <th>0</th>\n",
       "      <td>1995</td>\n",
       "      <td>17927.30</td>\n",
       "    </tr>\n",
       "    <tr>\n",
       "      <th>1</th>\n",
       "      <td>1996</td>\n",
       "      <td>18652.69</td>\n",
       "    </tr>\n",
       "    <tr>\n",
       "      <th>2</th>\n",
       "      <td>1997</td>\n",
       "      <td>19069.85</td>\n",
       "    </tr>\n",
       "    <tr>\n",
       "      <th>3</th>\n",
       "      <td>1998</td>\n",
       "      <td>19814.33</td>\n",
       "    </tr>\n",
       "    <tr>\n",
       "      <th>4</th>\n",
       "      <td>1999</td>\n",
       "      <td>20671.06</td>\n",
       "    </tr>\n",
       "  </tbody>\n",
       "</table>\n",
       "</div>"
      ],
      "text/plain": [
       "   Date       BIP\n",
       "0  1995  17927.30\n",
       "1  1996  18652.69\n",
       "2  1997  19069.85\n",
       "3  1998  19814.33\n",
       "4  1999  20671.06"
      ]
     },
     "execution_count": 32,
     "metadata": {},
     "output_type": "execute_result"
    }
   ],
   "source": [
    "BIPEUArea.head()"
   ]
  },
  {
   "cell_type": "markdown",
   "metadata": {},
   "source": [
    "## M1, M2, M3 Datasets"
   ]
  },
  {
   "cell_type": "code",
   "execution_count": 34,
   "metadata": {},
   "outputs": [],
   "source": [
    "df_m1 = pd.read_csv('/Users/riccardo/Desktop/Repositorys_Github/Training/Scripts/models/Linear Regression/Data_EU/ECB Data M1 Euro_Area.csv')\n",
    "df_m2 = pd.read_csv('/Users/riccardo/Desktop/Repositorys_Github/Training/Scripts/models/Linear Regression/Data_EU/ECB Data M2 Euro_Area.csv')\n",
    "df_m3 = pd.read_csv('/Users/riccardo/Desktop/Repositorys_Github/Training/Scripts/models/Linear Regression/Data_EU/ECB Data M3 Euro_Area.csv')\n",
    "# in Euro"
   ]
  },
  {
   "cell_type": "code",
   "execution_count": 36,
   "metadata": {},
   "outputs": [],
   "source": [
    "df_m1.rename(columns={'Monetary aggregate M1 reported by MFIs, central gov. and post office giro institutions in the euro area (stocks) (BSI.M.U2.Y.V.M10.X.1.U2.2300.Z01.E)': 'M1',\n",
    "                      'DATE': 'Date'}, inplace=True)\n",
    "df_m2.rename(columns={'Monetary aggregate M2 reported by MFIs, central gov. and post office giro institutions in the euro area (stocks) (BSI.M.U2.Y.V.M20.X.1.U2.2300.Z01.E)': 'M2',\n",
    "                      'DATE': 'Date'}, inplace=True)\n",
    "df_m3.rename(columns={'Monetary aggregate M3 reported by MFIs, central gov. and post office giro institutions in the euro area (stocks) (BSI.M.U2.Y.V.M30.X.1.U2.2300.Z01.E)': 'M3',\n",
    "                      'DATE': 'Date'}, inplace=True)\n",
    "\n",
    "df_m1.drop(columns=['TIME PERIOD'], inplace=True)\n",
    "df_m2.drop(columns=['TIME PERIOD'], inplace=True)\n",
    "df_m3.drop(columns=['TIME PERIOD'], inplace=True)"
   ]
  },
  {
   "cell_type": "code",
   "execution_count": 37,
   "metadata": {},
   "outputs": [],
   "source": [
    "#Change dateformat from YYYY-MM-DD to YYYY-MM (e.g. 2020-01-01 to 2020-01)\n",
    "df_m1['Date'] = pd.to_datetime(df_m1['Date'])\n",
    "df_m1['Date'] = df_m1['Date'].dt.to_period('M')\n",
    "\n",
    "df_m2['Date'] = pd.to_datetime(df_m2['Date'])\n",
    "df_m2['Date'] = df_m2['Date'].dt.to_period('M')\n",
    "\n",
    "df_m3['Date'] = pd.to_datetime(df_m3['Date'])\n",
    "df_m3['Date'] = df_m3['Date'].dt.to_period('M')"
   ]
  },
  {
   "cell_type": "code",
   "execution_count": 39,
   "metadata": {},
   "outputs": [
    {
     "data": {
      "text/plain": [
       "(      Date       M3\n",
       " 0  1980-01  1097404\n",
       " 1  1980-02  1105520\n",
       " 2  1980-03  1117228\n",
       " 3  1980-04  1122639\n",
       " 4  1980-05  1130672,\n",
       "       Date       M2\n",
       " 0  1980-01  1070496\n",
       " 1  1980-02  1078232\n",
       " 2  1980-03  1088333\n",
       " 3  1980-04  1093263\n",
       " 4  1980-05  1100958,\n",
       "       Date      M1\n",
       " 0  1980-01  444330\n",
       " 1  1980-02  447116\n",
       " 2  1980-03  451370\n",
       " 3  1980-04  453226\n",
       " 4  1980-05  455917)"
      ]
     },
     "execution_count": 39,
     "metadata": {},
     "output_type": "execute_result"
    }
   ],
   "source": [
    "df_m3.head(), df_m2.head(), df_m1.head()"
   ]
  },
  {
   "cell_type": "markdown",
   "metadata": {},
   "source": [
    "### Da wir Monatlich Daten haben und wir nun die Jährliche Daten haben möchten, müssen wir die Daten gruppieren."
   ]
  },
  {
   "cell_type": "code",
   "execution_count": 65,
   "metadata": {},
   "outputs": [
    {
     "name": "stderr",
     "output_type": "stream",
     "text": [
      "/var/folders/13/3pzxxwtd6cbdvdzq_lc6112r0000gn/T/ipykernel_15293/327483836.py:15: DeprecationWarning: is_period_dtype is deprecated and will be removed in a future version. Use `isinstance(dtype, pd.PeriodDtype)` instead\n",
      "  if pd.api.types.is_period_dtype(df['Date']):\n",
      "/var/folders/13/3pzxxwtd6cbdvdzq_lc6112r0000gn/T/ipykernel_15293/327483836.py:15: DeprecationWarning: is_period_dtype is deprecated and will be removed in a future version. Use `isinstance(dtype, pd.PeriodDtype)` instead\n",
      "  if pd.api.types.is_period_dtype(df['Date']):\n",
      "/var/folders/13/3pzxxwtd6cbdvdzq_lc6112r0000gn/T/ipykernel_15293/327483836.py:15: DeprecationWarning: is_period_dtype is deprecated and will be removed in a future version. Use `isinstance(dtype, pd.PeriodDtype)` instead\n",
      "  if pd.api.types.is_period_dtype(df['Date']):\n"
     ]
    }
   ],
   "source": [
    "import pandas as pd\n",
    "\n",
    "# Assuming your CSV files have a 'Date' or 'Year-Month' column for timestamps\n",
    "def convert_to_yearly(df):\n",
    "  \"\"\"Converts a pandas DataFrame with monthly data to a DataFrame with yearly data.\n",
    "\n",
    "  Args:\n",
    "      df (pd.DataFrame): The DataFrame containing monthly data.\n",
    "\n",
    "  Returns:\n",
    "      pd.DataFrame: A new DataFrame with yearly data.\n",
    "  \"\"\"\n",
    "\n",
    "  # Convert 'Date' column to datetime if necessary\n",
    "  if pd.api.types.is_period_dtype(df['Date']):\n",
    "    df['Date'] = df['Date'].dt.to_timestamp()\n",
    "  df['Year'] = pd.to_datetime(df['Date']).dt.year  # Assuming 'Date' column exists\n",
    "\n",
    "  # Group by year and calculate the desired aggregation (e.g., sum, mean)\n",
    "  if 'M1' in df.columns: \n",
    "    yearly_data = df.groupby('Year').agg(Sum=('M1', 'sum'))  # Replace 'column_to_sum' with your column\n",
    "  elif 'M2' in df.columns: \n",
    "    yearly_data = df.groupby('Year').agg(Sum=('M2', 'sum'))\n",
    "  elif 'M3' in df.columns: \n",
    "    yearly_data = df.groupby('Year').agg(Sum=('M3', 'sum'))\n",
    "\n",
    "  return yearly_data\n",
    "\n",
    "# Read the CSV files (replace paths if necessary)\n",
    "df_m1_yearly = convert_to_yearly(df_m1.copy())\n",
    "df_m2_yearly = convert_to_yearly(df_m2.copy())  \n",
    "df_m3_yearly = convert_to_yearly(df_m3.copy())  \n",
    "\n",
    "# Print or use the yearly DataFrames as needed\n",
    "df_m1_yearly.reset_index(inplace=True)\n",
    "df_m2_yearly.reset_index(inplace=True)\n",
    "df_m3_yearly.reset_index(inplace=True)\n",
    "df_m1_yearly.rename(columns={'Sum': 'M1', \"Year\": \"Date\"}, inplace=True)\n",
    "df_m2_yearly.rename(columns={'Sum': 'M2', \"Year\": \"Date\"}, inplace=True)\n",
    "df_m3_yearly.rename(columns={'Sum': 'M3', \"Year\": \"Date\"}, inplace=True)\n",
    "\n",
    "\n",
    "\n",
    "\n"
   ]
  },
  {
   "cell_type": "code",
   "execution_count": 53,
   "metadata": {},
   "outputs": [
    {
     "data": {
      "text/plain": [
       "(1995, 2022)"
      ]
     },
     "execution_count": 53,
     "metadata": {},
     "output_type": "execute_result"
    }
   ],
   "source": [
    "BIPEUArea['Date'].min(), BIPEUArea['Date'].max(),"
   ]
  },
  {
   "cell_type": "markdown",
   "metadata": {},
   "source": [
    "### Filtern der Daten damit wir die gleichen Zeitraum haben."
   ]
  },
  {
   "cell_type": "code",
   "execution_count": 71,
   "metadata": {},
   "outputs": [
    {
     "name": "stdout",
     "output_type": "stream",
     "text": [
      "(28, 2) (28, 2) (28, 2) (28, 2)\n",
      "M1 1995 2022\n",
      "M2 1995 2022\n",
      "M3 1995 2022\n",
      "BIPEUArea 1995 2022\n"
     ]
    }
   ],
   "source": [
    "df_m1_yearly_filtered = df_m1_yearly.query('Date >= 1995 & Date <= 2022')\n",
    "df_m2_yearly_filtered = df_m2_yearly.query('Date >= 1995 & Date <= 2022')\n",
    "df_m3_yearly_filtered = df_m3_yearly.query('Date >= 1995 & Date <= 2022')\n",
    "\n",
    "print(df_m1_yearly_filtered.shape, df_m2_yearly_filtered.shape, df_m3_yearly_filtered.shape, BIPEUArea.shape)\n",
    "print('M1', df_m1_yearly_filtered['Date'].min(), df_m1_yearly_filtered['Date'].max())\n",
    "print('M2',df_m2_yearly_filtered['Date'].min(), df_m2_yearly_filtered['Date'].max())\n",
    "print('M3', df_m3_yearly_filtered['Date'].min(), df_m3_yearly_filtered['Date'].max())\n",
    "print('BIPEUArea', BIPEUArea['Date'].min(), BIPEUArea['Date'].max())"
   ]
  },
  {
   "cell_type": "markdown",
   "metadata": {},
   "source": [
    "# M1, M2, M3, BIPEUArea wurden richtig fomratiert und gefiltert\n",
    "- weiter geht es mit Oil Prices"
   ]
  },
  {
   "cell_type": "markdown",
   "metadata": {},
   "source": [
    "## Oil Price Datasets\n",
    "Herunterladen druch die FED Api"
   ]
  },
  {
   "cell_type": "code",
   "execution_count": 106,
   "metadata": {},
   "outputs": [],
   "source": [
    "api_key = 'd9ce385a3f807aaba9590769b5f994a1'\n",
    "OIL_dataURL = f'https://api.stlouisfed.org/fred/series/observations?series_id=POILBREUSDM&api_key={api_key}&file_type=json&frequency=m'\n",
    "CPI_dataURL = f'https://api.stlouisfed.org/fred/series/observations?series_id=CPHPTT01EZM659N&api_key={api_key}&file_type=json&frequency=m'\n",
    "un_dataURL = f'https://api.stlouisfed.org/fred/series/observations?series_id=LRHUTTTTEZM156S&api_key={api_key}&file_type=json&frequency=m'\n"
   ]
  },
  {
   "cell_type": "code",
   "execution_count": 113,
   "metadata": {},
   "outputs": [
    {
     "data": {
      "text/plain": [
       "((391, 2), (385, 2), (410, 2))"
      ]
     },
     "execution_count": 113,
     "metadata": {},
     "output_type": "execute_result"
    }
   ],
   "source": [
    "import requests\n",
    "import json\n",
    "import pandas as pd\n",
    "\n",
    "# Setzen Sie Ihren API-Schlüssel hier ein\n",
    "api_key = 'd9ce385a3f807aaba9590769b5f994a1'\n",
    "def get_data(url):\n",
    "    response = requests.get(url)\n",
    "    if response.status_code == 200:\n",
    "        data = response.json()\n",
    "        observations = []\n",
    "        for observation in data['observations']:\n",
    "            date = observation['date']\n",
    "            value = observation['value']\n",
    "            if value != '.':\n",
    "                value = float(value)\n",
    "                observations.append({'Date': date, 'Value': value})\n",
    "        df = pd.DataFrame(observations)\n",
    "        return df\n",
    "    else:\n",
    "        print(f'Error: {response.status_code}')\n",
    "        return None\n",
    "\n",
    "Oil_price = get_data(OIL_dataURL)\n",
    "CPI = get_data(CPI_dataURL)\n",
    "unemployment = get_data(un_dataURL)\n",
    "unemployment.shape, CPI.shape, Oil_price.shape"
   ]
  },
  {
   "cell_type": "code",
   "execution_count": 108,
   "metadata": {},
   "outputs": [
    {
     "data": {
      "text/plain": [
       "(Index(['Date', 'Value'], dtype='object'),\n",
       " Index(['Date', 'Value'], dtype='object'),\n",
       " Index(['Date', 'Value'], dtype='object'))"
      ]
     },
     "execution_count": 108,
     "metadata": {},
     "output_type": "execute_result"
    }
   ],
   "source": [
    "Oil_price.columns, CPI.columns, unemployment.columns"
   ]
  },
  {
   "cell_type": "code",
   "execution_count": 114,
   "metadata": {},
   "outputs": [
    {
     "name": "stderr",
     "output_type": "stream",
     "text": [
      "/var/folders/13/3pzxxwtd6cbdvdzq_lc6112r0000gn/T/ipykernel_15293/1190788173.py:12: DeprecationWarning: is_period_dtype is deprecated and will be removed in a future version. Use `isinstance(dtype, pd.PeriodDtype)` instead\n",
      "  if pd.api.types.is_period_dtype(df['Date']):\n"
     ]
    },
    {
     "data": {
      "text/html": [
       "<div>\n",
       "<style scoped>\n",
       "    .dataframe tbody tr th:only-of-type {\n",
       "        vertical-align: middle;\n",
       "    }\n",
       "\n",
       "    .dataframe tbody tr th {\n",
       "        vertical-align: top;\n",
       "    }\n",
       "\n",
       "    .dataframe thead th {\n",
       "        text-align: right;\n",
       "    }\n",
       "</style>\n",
       "<table border=\"1\" class=\"dataframe\">\n",
       "  <thead>\n",
       "    <tr style=\"text-align: right;\">\n",
       "      <th></th>\n",
       "      <th>Date</th>\n",
       "      <th>Sum</th>\n",
       "    </tr>\n",
       "  </thead>\n",
       "  <tbody>\n",
       "    <tr>\n",
       "      <th>0</th>\n",
       "      <td>1990</td>\n",
       "      <td>284.479368</td>\n",
       "    </tr>\n",
       "    <tr>\n",
       "      <th>1</th>\n",
       "      <td>1991</td>\n",
       "      <td>240.904445</td>\n",
       "    </tr>\n",
       "    <tr>\n",
       "      <th>2</th>\n",
       "      <td>1992</td>\n",
       "      <td>232.298854</td>\n",
       "    </tr>\n",
       "    <tr>\n",
       "      <th>3</th>\n",
       "      <td>1993</td>\n",
       "      <td>205.017111</td>\n",
       "    </tr>\n",
       "    <tr>\n",
       "      <th>4</th>\n",
       "      <td>1994</td>\n",
       "      <td>191.515897</td>\n",
       "    </tr>\n",
       "    <tr>\n",
       "      <th>5</th>\n",
       "      <td>1995</td>\n",
       "      <td>206.384976</td>\n",
       "    </tr>\n",
       "    <tr>\n",
       "      <th>6</th>\n",
       "      <td>1996</td>\n",
       "      <td>249.702360</td>\n",
       "    </tr>\n",
       "    <tr>\n",
       "      <th>7</th>\n",
       "      <td>1997</td>\n",
       "      <td>231.723884</td>\n",
       "    </tr>\n",
       "    <tr>\n",
       "      <th>8</th>\n",
       "      <td>1998</td>\n",
       "      <td>157.514630</td>\n",
       "    </tr>\n",
       "    <tr>\n",
       "      <th>9</th>\n",
       "      <td>1999</td>\n",
       "      <td>217.298631</td>\n",
       "    </tr>\n",
       "    <tr>\n",
       "      <th>10</th>\n",
       "      <td>2000</td>\n",
       "      <td>346.143300</td>\n",
       "    </tr>\n",
       "    <tr>\n",
       "      <th>11</th>\n",
       "      <td>2001</td>\n",
       "      <td>296.565153</td>\n",
       "    </tr>\n",
       "    <tr>\n",
       "      <th>12</th>\n",
       "      <td>2002</td>\n",
       "      <td>301.381152</td>\n",
       "    </tr>\n",
       "    <tr>\n",
       "      <th>13</th>\n",
       "      <td>2003</td>\n",
       "      <td>345.349233</td>\n",
       "    </tr>\n",
       "    <tr>\n",
       "      <th>14</th>\n",
       "      <td>2004</td>\n",
       "      <td>458.802965</td>\n",
       "    </tr>\n",
       "    <tr>\n",
       "      <th>15</th>\n",
       "      <td>2005</td>\n",
       "      <td>656.206171</td>\n",
       "    </tr>\n",
       "    <tr>\n",
       "      <th>16</th>\n",
       "      <td>2006</td>\n",
       "      <td>787.256917</td>\n",
       "    </tr>\n",
       "    <tr>\n",
       "      <th>17</th>\n",
       "      <td>2007</td>\n",
       "      <td>871.833670</td>\n",
       "    </tr>\n",
       "    <tr>\n",
       "      <th>18</th>\n",
       "      <td>2008</td>\n",
       "      <td>1167.961821</td>\n",
       "    </tr>\n",
       "    <tr>\n",
       "      <th>19</th>\n",
       "      <td>2009</td>\n",
       "      <td>738.972595</td>\n",
       "    </tr>\n",
       "    <tr>\n",
       "      <th>20</th>\n",
       "      <td>2010</td>\n",
       "      <td>957.684100</td>\n",
       "    </tr>\n",
       "    <tr>\n",
       "      <th>21</th>\n",
       "      <td>2011</td>\n",
       "      <td>1338.470717</td>\n",
       "    </tr>\n",
       "    <tr>\n",
       "      <th>22</th>\n",
       "      <td>2012</td>\n",
       "      <td>1344.140072</td>\n",
       "    </tr>\n",
       "    <tr>\n",
       "      <th>23</th>\n",
       "      <td>2013</td>\n",
       "      <td>1307.540706</td>\n",
       "    </tr>\n",
       "    <tr>\n",
       "      <th>24</th>\n",
       "      <td>2014</td>\n",
       "      <td>1192.145350</td>\n",
       "    </tr>\n",
       "    <tr>\n",
       "      <th>25</th>\n",
       "      <td>2015</td>\n",
       "      <td>636.272549</td>\n",
       "    </tr>\n",
       "    <tr>\n",
       "      <th>26</th>\n",
       "      <td>2016</td>\n",
       "      <td>540.948915</td>\n",
       "    </tr>\n",
       "    <tr>\n",
       "      <th>27</th>\n",
       "      <td>2017</td>\n",
       "      <td>658.642993</td>\n",
       "    </tr>\n",
       "    <tr>\n",
       "      <th>28</th>\n",
       "      <td>2018</td>\n",
       "      <td>859.351116</td>\n",
       "    </tr>\n",
       "    <tr>\n",
       "      <th>29</th>\n",
       "      <td>2019</td>\n",
       "      <td>770.381688</td>\n",
       "    </tr>\n",
       "    <tr>\n",
       "      <th>30</th>\n",
       "      <td>2020</td>\n",
       "      <td>520.006114</td>\n",
       "    </tr>\n",
       "    <tr>\n",
       "      <th>31</th>\n",
       "      <td>2021</td>\n",
       "      <td>849.977995</td>\n",
       "    </tr>\n",
       "    <tr>\n",
       "      <th>32</th>\n",
       "      <td>2022</td>\n",
       "      <td>1187.955931</td>\n",
       "    </tr>\n",
       "    <tr>\n",
       "      <th>33</th>\n",
       "      <td>2023</td>\n",
       "      <td>987.854916</td>\n",
       "    </tr>\n",
       "    <tr>\n",
       "      <th>34</th>\n",
       "      <td>2024</td>\n",
       "      <td>160.905714</td>\n",
       "    </tr>\n",
       "  </tbody>\n",
       "</table>\n",
       "</div>"
      ],
      "text/plain": [
       "    Date          Sum\n",
       "0   1990   284.479368\n",
       "1   1991   240.904445\n",
       "2   1992   232.298854\n",
       "3   1993   205.017111\n",
       "4   1994   191.515897\n",
       "5   1995   206.384976\n",
       "6   1996   249.702360\n",
       "7   1997   231.723884\n",
       "8   1998   157.514630\n",
       "9   1999   217.298631\n",
       "10  2000   346.143300\n",
       "11  2001   296.565153\n",
       "12  2002   301.381152\n",
       "13  2003   345.349233\n",
       "14  2004   458.802965\n",
       "15  2005   656.206171\n",
       "16  2006   787.256917\n",
       "17  2007   871.833670\n",
       "18  2008  1167.961821\n",
       "19  2009   738.972595\n",
       "20  2010   957.684100\n",
       "21  2011  1338.470717\n",
       "22  2012  1344.140072\n",
       "23  2013  1307.540706\n",
       "24  2014  1192.145350\n",
       "25  2015   636.272549\n",
       "26  2016   540.948915\n",
       "27  2017   658.642993\n",
       "28  2018   859.351116\n",
       "29  2019   770.381688\n",
       "30  2020   520.006114\n",
       "31  2021   849.977995\n",
       "32  2022  1187.955931\n",
       "33  2023   987.854916\n",
       "34  2024   160.905714"
      ]
     },
     "execution_count": 114,
     "metadata": {},
     "output_type": "execute_result"
    }
   ],
   "source": [
    "def convert_to_yearly_(df):\n",
    "  \"\"\"Converts a pandas DataFrame with monthly data to a DataFrame with yearly data.\n",
    "\n",
    "  Args:\n",
    "      df (pd.DataFrame): The DataFrame containing monthly data.\n",
    "\n",
    "  Returns:\n",
    "      pd.DataFrame: A new DataFrame with yearly data.\n",
    "  \"\"\"\n",
    "\n",
    "  # Convert 'Date' column to datetime if necessary\n",
    "  if pd.api.types.is_period_dtype(df['Date']):\n",
    "    df['Date'] = df['Date'].dt.to_timestamp()\n",
    "  df['Date'] = pd.to_datetime(df['Date']).dt.year  # Assuming 'Date' column exists\n",
    "\n",
    "  # Group by year and calculate the desired aggregation (e.g., sum, mean)\n",
    "  if 'Date' in df.columns: \n",
    "    yearly_data = df.groupby('Date').agg(Sum=('Value', 'sum'))  # Replace 'column_to_sum' with your column\n",
    "    yearly_data.reset_index(inplace=True)\n",
    "  return yearly_data\n",
    "\n",
    "Oil_price = convert_to_yearly_(Oil_price)\n",
    "Oil_price"
   ]
  },
  {
   "cell_type": "code",
   "execution_count": 119,
   "metadata": {},
   "outputs": [],
   "source": [
    "Oil_price.rename(columns={'Sum': 'Oil_Price'}, inplace=True)\n",
    "Oil_price_yearly_filtered = Oil_price.query('Date >= 1995 & Date <= 2022')\n",
    "Oil_price_yearly_filtered.merge(df_merged, on='Date', how='outer').to_csv('/Users/riccardo/Desktop/Repositorys_Github/Training/Scripts/models/Linear Regression/Data_EU/ECB Data Merged Euro_Area.csv', index=False)"
   ]
  },
  {
   "cell_type": "code",
   "execution_count": null,
   "metadata": {},
   "outputs": [],
   "source": [
    "Oil_price_yearly_filtered.head()\n"
   ]
  },
  {
   "cell_type": "markdown",
   "metadata": {},
   "source": [
    "# Oil Price ende "
   ]
  },
  {
   "cell_type": "markdown",
   "metadata": {},
   "source": [
    "# Unemployment rate "
   ]
  },
  {
   "cell_type": "code",
   "execution_count": 127,
   "metadata": {},
   "outputs": [
    {
     "name": "stderr",
     "output_type": "stream",
     "text": [
      "/var/folders/13/3pzxxwtd6cbdvdzq_lc6112r0000gn/T/ipykernel_15293/1190788173.py:12: DeprecationWarning: is_period_dtype is deprecated and will be removed in a future version. Use `isinstance(dtype, pd.PeriodDtype)` instead\n",
      "  if pd.api.types.is_period_dtype(df['Date']):\n"
     ]
    }
   ],
   "source": [
    "unemployment_rate_EUArea = get_data(un_dataURL)\n",
    "unemployment_rate_EUArea = convert_to_yearly_(unemployment_rate_EUArea)\n",
    "unemployment_rate_EUArea.rename(columns={'Sum': 'Unemployment_Rate'}, inplace=True)\n",
    "unemployment_rate_EUArea_yearly_filtered = unemployment_rate_EUArea.query('Date >= 1995 & Date <= 2022')\n"
   ]
  },
  {
   "cell_type": "code",
   "execution_count": 128,
   "metadata": {},
   "outputs": [
    {
     "name": "stderr",
     "output_type": "stream",
     "text": [
      "/var/folders/13/3pzxxwtd6cbdvdzq_lc6112r0000gn/T/ipykernel_15293/1190788173.py:12: DeprecationWarning: is_period_dtype is deprecated and will be removed in a future version. Use `isinstance(dtype, pd.PeriodDtype)` instead\n",
      "  if pd.api.types.is_period_dtype(df['Date']):\n"
     ]
    }
   ],
   "source": [
    "CPI_EUArea = get_data(CPI_dataURL)\n",
    "CPI_EUArea = convert_to_yearly_(CPI_EUArea)\n",
    "CPI_EUArea.rename(columns={'Sum': 'CPI'}, inplace=True)\n",
    "CPI_EUArea_yearly_filtered = CPI_EUArea.query('Date >= 1995 & Date <= 2022')\n"
   ]
  },
  {
   "cell_type": "code",
   "execution_count": 129,
   "metadata": {},
   "outputs": [
    {
     "data": {
      "text/plain": [
       "((28, 2), (28, 2), (28, 2))"
      ]
     },
     "execution_count": 129,
     "metadata": {},
     "output_type": "execute_result"
    }
   ],
   "source": [
    "CPI_EUArea_yearly_filtered.shape, unemployment_rate_EUArea_yearly_filtered.shape, Oil_price_yearly_filtered.shape"
   ]
  },
  {
   "cell_type": "code",
   "execution_count": 130,
   "metadata": {},
   "outputs": [
    {
     "name": "stdout",
     "output_type": "stream",
     "text": [
      "1995 2022\n",
      "1995 2022\n",
      "1995 2022\n"
     ]
    }
   ],
   "source": [
    "print(CPI_EUArea_yearly_filtered['Date'].min(), CPI_EUArea_yearly_filtered['Date'].max())\n",
    "print(unemployment_rate_EUArea_yearly_filtered['Date'].min(), unemployment_rate_EUArea_yearly_filtered['Date'].max())\n",
    "print(Oil_price_yearly_filtered['Date'].min(), Oil_price_yearly_filtered['Date'].max())\n",
    "\n"
   ]
  },
  {
   "cell_type": "code",
   "execution_count": null,
   "metadata": {},
   "outputs": [],
   "source": []
  },
  {
   "cell_type": "markdown",
   "metadata": {},
   "source": [
    "## Data Collection"
   ]
  },
  {
   "cell_type": "markdown",
   "metadata": {},
   "source": [
    "## Creating a Regression Model"
   ]
  },
  {
   "cell_type": "code",
   "execution_count": null,
   "metadata": {},
   "outputs": [],
   "source": [
    "import statsmodels.api as sm\n",
    "import numpy as np\n",
    "Y = duncan_prestige.data['income']\n",
    "X = duncan_prestige.data['education']\n",
    "X = sm.add_constant(X)\n",
    "model = sm.OLS(Y,X)\n",
    "results = model.fit()\n",
    "results.params"
   ]
  },
  {
   "cell_type": "code",
   "execution_count": null,
   "metadata": {},
   "outputs": [],
   "source": []
  },
  {
   "cell_type": "code",
   "execution_count": null,
   "metadata": {},
   "outputs": [],
   "source": []
  },
  {
   "cell_type": "code",
   "execution_count": null,
   "metadata": {},
   "outputs": [],
   "source": []
  },
  {
   "cell_type": "code",
   "execution_count": null,
   "metadata": {},
   "outputs": [],
   "source": []
  },
  {
   "cell_type": "code",
   "execution_count": null,
   "metadata": {},
   "outputs": [],
   "source": []
  },
  {
   "cell_type": "code",
   "execution_count": null,
   "metadata": {},
   "outputs": [],
   "source": []
  },
  {
   "cell_type": "code",
   "execution_count": null,
   "metadata": {},
   "outputs": [],
   "source": []
  },
  {
   "cell_type": "code",
   "execution_count": null,
   "metadata": {},
   "outputs": [],
   "source": []
  }
 ],
 "metadata": {
  "kernelspec": {
   "display_name": "model",
   "language": "python",
   "name": "python3"
  },
  "language_info": {
   "codemirror_mode": {
    "name": "ipython",
    "version": 3
   },
   "file_extension": ".py",
   "mimetype": "text/x-python",
   "name": "python",
   "nbconvert_exporter": "python",
   "pygments_lexer": "ipython3",
   "version": "3.9.18"
  }
 },
 "nbformat": 4,
 "nbformat_minor": 2
}

{
 "cells": [
  {
   "cell_type": "markdown",
   "metadata": {},
   "source": []
  },
  {
   "cell_type": "markdown",
   "metadata": {},
   "source": [
    "# Start of Linear Regression"
   ]
  },
  {
   "cell_type": "code",
   "execution_count": 1,
   "metadata": {},
   "outputs": [],
   "source": [
    "import pandas as pd\n",
    "import numpy as np\n",
    "from sklearn.linear_model import LinearRegression\n",
    "import matplotlib.pyplot as plt"
   ]
  },
  {
   "cell_type": "code",
   "execution_count": 2,
   "metadata": {},
   "outputs": [
    {
     "data": {
      "text/html": [
       "<div>\n",
       "<style scoped>\n",
       "    .dataframe tbody tr th:only-of-type {\n",
       "        vertical-align: middle;\n",
       "    }\n",
       "\n",
       "    .dataframe tbody tr th {\n",
       "        vertical-align: top;\n",
       "    }\n",
       "\n",
       "    .dataframe thead th {\n",
       "        text-align: right;\n",
       "    }\n",
       "</style>\n",
       "<table border=\"1\" class=\"dataframe\">\n",
       "  <thead>\n",
       "    <tr style=\"text-align: right;\">\n",
       "      <th></th>\n",
       "      <th>GDP</th>\n",
       "      <th>Year</th>\n",
       "      <th>M1</th>\n",
       "      <th>GDP Change</th>\n",
       "      <th>Oil_Price</th>\n",
       "      <th>CPI</th>\n",
       "    </tr>\n",
       "  </thead>\n",
       "  <tbody>\n",
       "    <tr>\n",
       "      <th>0</th>\n",
       "      <td>542.382</td>\n",
       "      <td>1960</td>\n",
       "      <td>140.3</td>\n",
       "      <td>3.97351</td>\n",
       "      <td>1.63</td>\n",
       "      <td>1.457976</td>\n",
       "    </tr>\n",
       "    <tr>\n",
       "      <th>1</th>\n",
       "      <td>562.210</td>\n",
       "      <td>1961</td>\n",
       "      <td>143.1</td>\n",
       "      <td>3.65563</td>\n",
       "      <td>1.57</td>\n",
       "      <td>1.070724</td>\n",
       "    </tr>\n",
       "    <tr>\n",
       "      <th>2</th>\n",
       "      <td>603.922</td>\n",
       "      <td>1962</td>\n",
       "      <td>146.5</td>\n",
       "      <td>7.41925</td>\n",
       "      <td>1.52</td>\n",
       "      <td>1.198773</td>\n",
       "    </tr>\n",
       "    <tr>\n",
       "      <th>3</th>\n",
       "      <td>637.452</td>\n",
       "      <td>1963</td>\n",
       "      <td>151.0</td>\n",
       "      <td>5.55205</td>\n",
       "      <td>1.50</td>\n",
       "      <td>1.239669</td>\n",
       "    </tr>\n",
       "    <tr>\n",
       "      <th>4</th>\n",
       "      <td>684.462</td>\n",
       "      <td>1964</td>\n",
       "      <td>156.8</td>\n",
       "      <td>7.37468</td>\n",
       "      <td>1.45</td>\n",
       "      <td>1.278912</td>\n",
       "    </tr>\n",
       "  </tbody>\n",
       "</table>\n",
       "</div>"
      ],
      "text/plain": [
       "       GDP  Year     M1  GDP Change  Oil_Price       CPI\n",
       "0  542.382  1960  140.3     3.97351       1.63  1.457976\n",
       "1  562.210  1961  143.1     3.65563       1.57  1.070724\n",
       "2  603.922  1962  146.5     7.41925       1.52  1.198773\n",
       "3  637.452  1963  151.0     5.55205       1.50  1.239669\n",
       "4  684.462  1964  156.8     7.37468       1.45  1.278912"
      ]
     },
     "execution_count": 2,
     "metadata": {},
     "output_type": "execute_result"
    }
   ],
   "source": [
    "merged_df = pd.read_csv('/Users/riccardo/Desktop/Repositorys_Github/Training/Scripts/models/Linear Regression/Data_USA/merged_df.csv')\n",
    "merged_df.head()"
   ]
  },
  {
   "cell_type": "code",
   "execution_count": null,
   "metadata": {},
   "outputs": [],
   "source": []
  },
  {
   "cell_type": "code",
   "execution_count": null,
   "metadata": {},
   "outputs": [],
   "source": [
    "y = merged_df['GDP']\n",
    "X = merged_df.drop(columns=['GDP', 'Year'])\n",
    "\n",
    "# Trainieren des linearen Regressionsmodells\n",
    "model = LinearRegression()\n",
    "model.fit(X, y)\n",
    "\n",
    "# Generiere Vorhersagen\n",
    "X_new = np.array([[0], [2]])  # Beispielsweise\n",
    "y_pred = model.predict(X)\n",
    "\n",
    "# Visualisierung der Daten und der Regressionsgeraden\n",
    "plt.scatter(y, y_pred)\n",
    "plt.xlabel(\"GDP (wirkliche Werte)\")\n",
    "plt.ylabel(\"GDP (vorhergesagte Werte)\")\n",
    "plt.title(\"Lineare Regression\")\n",
    "plt.show()"
   ]
  },
  {
   "cell_type": "code",
   "execution_count": null,
   "metadata": {},
   "outputs": [],
   "source": [
    "# Bestimmen der Metriken\n",
    "r_squared = model.score(X, y)\n",
    "intercept = model.intercept_\n",
    "slope = model.coef_\n",
    "\n",
    "print(\"R² Score:\", r_squared)\n",
    "print(\"Intercept:\", intercept)\n",
    "print(\"Slope:\", slope)"
   ]
  },
  {
   "cell_type": "code",
   "execution_count": null,
   "metadata": {},
   "outputs": [],
   "source": [
    "from sklearn.metrics import mean_absolute_error, mean_squared_error\n",
    "\n",
    "# Vorhersagen basierend auf den trainierten Modell\n",
    "y_pred = model.predict(X)\n",
    "\n",
    "# Berechnen der Metriken\n",
    "mae = mean_absolute_error(y, y_pred)\n",
    "mse = mean_squared_error(y, y_pred)\n",
    "rmse = np.sqrt(mse)\n",
    "\n",
    "print(\"Mean Absolute Error (MAE):\", mae)\n",
    "print(\"Mean Squared Error (MSE):\", mse)\n",
    "print(\"Root Mean Squared Error (RMSE):\", rmse)"
   ]
  },
  {
   "cell_type": "code",
   "execution_count": null,
   "metadata": {},
   "outputs": [],
   "source": []
  },
  {
   "cell_type": "markdown",
   "metadata": {},
   "source": [
    "## Statsmodel package"
   ]
  },
  {
   "cell_type": "code",
   "execution_count": null,
   "metadata": {},
   "outputs": [],
   "source": [
    "import statsmodels.api as sm\n",
    "y = merged_df['GDP']\n",
    "X = merged_df.drop(columns=['GDP', 'Year', 'GDP Change'])\n",
    "X = sm.add_constant(X)\n",
    "\n",
    "# Durchführen der linearen Regression\n",
    "model = sm.OLS(y, X)\n",
    "results = model.fit()\n",
    "\n",
    "# Ausgabe der Regressionsergebnisse\n",
    "print(results.summary())"
   ]
  },
  {
   "cell_type": "code",
   "execution_count": null,
   "metadata": {},
   "outputs": [],
   "source": []
  },
  {
   "cell_type": "code",
   "execution_count": null,
   "metadata": {},
   "outputs": [],
   "source": [
    "from statsmodels.stats.outliers_influence import variance_inflation_factor\n",
    "\n",
    "# Berechnung der VIFs\n",
    "vif_data = X.copy()  # Kopie der unabhängigen Variablen\n",
    "vif_data = vif_data.drop(columns=['const'])  # Entfernen der Konstante\n",
    "vif = pd.DataFrame()\n",
    "vif[\"Variable\"] = vif_data.columns\n",
    "vif[\"VIF\"] = [variance_inflation_factor(vif_data.values, i) for i in range(vif_data.shape[1])]\n",
    "\n",
    "# Ausgabe der VIFs\n",
    "print(vif)\n"
   ]
  },
  {
   "cell_type": "code",
   "execution_count": 9,
   "metadata": {},
   "outputs": [
    {
     "data": {
      "text/plain": [
       "((61,), (61, 4))"
      ]
     },
     "execution_count": 9,
     "metadata": {},
     "output_type": "execute_result"
    }
   ],
   "source": [
    "merged_df.columns\n",
    "X = merged_df[['M1', 'GDP Change', 'Oil_Price', 'CPI']]\n",
    "y = merged_df['GDP']\n",
    "y.shape, X.shape"
   ]
  },
  {
   "cell_type": "code",
   "execution_count": 26,
   "metadata": {},
   "outputs": [
    {
     "name": "stdout",
     "output_type": "stream",
     "text": [
      "Mean Squared Error (MSE): 23911802.213172335\n",
      "R-squared (R²): 0.6153858082516377\n",
      "Mean Absolute Error (MAE): 3184.9164960434596\n"
     ]
    },
    {
     "data": {
      "image/png": "[encoded data removed]",
      "text/plain": [
       "<Figure size 640x480 with 1 Axes>"
      ]
     },
     "metadata": {},
     "output_type": "display_data"
    },
    {
     "data": {
      "image/png": "[encoded data removed]",
      "text/plain": [
       "<Figure size 640x480 with 1 Axes>"
      ]
     },
     "metadata": {},
     "output_type": "display_data"
    }
   ],
   "source": [
    "from sklearn.model_selection import train_test_split\n",
    "from sklearn.linear_model import LinearRegression, Lasso, Ridge\n",
    "from sklearn.metrics import mean_squared_error, r2_score, mean_absolute_error\n",
    "\n",
    "# Annahme: X enthält die Features (GDP, M1, CPI, Oil Price) und y enthält die Zielvariable (GDP)\n",
    "X_train, X_test, y_train, y_test = train_test_split(X, y, train_size=0.8, random_state=0)\n",
    "\n",
    "# Trainieren des Regressionsmodells\n",
    "model = Ridge()\n",
    "model.fit(X_train, y_train)\n",
    "\n",
    "# Vorhersagen auf den Testdaten machen\n",
    "y_pred = model.predict(X_test)\n",
    "\n",
    "# Bewertung der Leistung des Modells\n",
    "mse = mean_squared_error(y_test, y_pred)\n",
    "r2 = r2_score(y_test, y_pred)\n",
    "mae = mean_absolute_error(y_test, y_pred)\n",
    "\n",
    "print(\"Mean Squared Error (MSE):\", mse)\n",
    "print(\"R-squared (R²):\", r2)\n",
    "print(\"Mean Absolute Error (MAE):\", mae)\n",
    "\n",
    "# Visualisierung der Vorhersagen gegen die tatsächlichen Werte\n",
    "import matplotlib.pyplot as plt\n",
    "\n",
    "plt.scatter(y_test, y_pred)\n",
    "plt.xlabel(\"Actual Values\")\n",
    "plt.ylabel(\"Predicted Values\")\n",
    "plt.title(\"Actual vs Predicted Values\")\n",
    "plt.show()\n",
    "\n",
    "# Residuenplot\n",
    "residuals = y_test - y_pred\n",
    "plt.scatter(y_pred, residuals)\n",
    "plt.xlabel(\"Predicted Values\")\n",
    "plt.ylabel(\"Residuals\")\n",
    "plt.title(\"Residuals Plot\")\n",
    "plt.axhline(y=0, color='r', linestyle='-')\n",
    "plt.show()\n"
   ]
  },
  {
   "cell_type": "code",
   "execution_count": 27,
   "metadata": {},
   "outputs": [
    {
     "name": "stdout",
     "output_type": "stream",
     "text": [
      "Cross-Validated Mean Squared Error (MSE): 703558906.5008625\n"
     ]
    }
   ],
   "source": [
    "from sklearn.model_selection import cross_val_score\n",
    "from sklearn.linear_model import LinearRegression\n",
    "\n",
    "# Annahme: X enthält die Features (GDP, M1, CPI, Oil Price) und y enthält die Zielvariable (GDP)\n",
    "model = LinearRegression()\n",
    "\n",
    "# Durchführung von 5-Fold Kreuzvalidierung\n",
    "cv_scores = cross_val_score(model, X, y, cv=5, scoring='neg_mean_squared_error')\n",
    "\n",
    "# Da wir den MSE zurückbekommen haben, negieren wir ihn, um den positiven MSE-Wert zu erhalten\n",
    "cv_scores = -cv_scores\n",
    "\n",
    "# Durchschnittlicher MSE über alle Folds\n",
    "average_mse = cv_scores.mean()\n",
    "\n",
    "print(\"Cross-Validated Mean Squared Error (MSE):\", average_mse)\n"
   ]
  },
  {
   "cell_type": "code",
   "execution_count": null,
   "metadata": {},
   "outputs": [],
   "source": []
  },
  {
   "cell_type": "code",
   "execution_count": null,
   "metadata": {},
   "outputs": [],
   "source": []
  },
  {
   "cell_type": "code",
   "execution_count": null,
   "metadata": {},
   "outputs": [],
   "source": []
  }
 ],
 "metadata": {
  "kernelspec": {
   "display_name": "model",
   "language": "python",
   "name": "python3"
  },
  "language_info": {
   "codemirror_mode": {
    "name": "ipython",
    "version": 3
   },
   "file_extension": ".py",
   "mimetype": "text/x-python",
   "name": "python",
   "nbconvert_exporter": "python",
   "pygments_lexer": "ipython3",
   "version": "3.9.18"
  }
 },
 "nbformat": 4,
 "nbformat_minor": 2
}
